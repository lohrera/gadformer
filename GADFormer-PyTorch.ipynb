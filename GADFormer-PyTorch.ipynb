{
 "cells": [
  {
   "cell_type": "code",
   "execution_count": 9,
   "id": "bf84cd43",
   "metadata": {},
   "outputs": [],
   "source": [
    "#%pip install \"pytorch-lightning\" \"torchvision\" \"seaborn\" \"torchmetrics\" \"matplotlib\" \"torch\" \"ipython[notebook]\" \"pandas\" --upgrade"
   ]
  },
  {
   "cell_type": "code",
   "execution_count": 3,
   "id": "a225a36e",
   "metadata": {},
   "outputs": [],
   "source": [
    "#%pip install seaborn"
   ]
  },
  {
   "cell_type": "code",
   "execution_count": 4,
   "id": "5a5d868c",
   "metadata": {},
   "outputs": [],
   "source": [
    "#%pip install -r ./requirements.txt"
   ]
  },
  {
   "cell_type": "code",
   "execution_count": null,
   "id": "044d9492",
   "metadata": {},
   "outputs": [],
   "source": []
  },
  {
   "cell_type": "code",
   "execution_count": 5,
   "id": "ac669b0d",
   "metadata": {},
   "outputs": [
    {
     "name": "stdout",
     "output_type": "stream",
     "text": [
      "Device: cuda:0\n"
     ]
    }
   ],
   "source": [
    "import utils\n",
    "from utils import seed_worker\n",
    "\n",
    "# standard os libraries\n",
    "import math\n",
    "from matplotlib import pyplot as plt\n",
    "import numpy as np\n",
    "import pandas as pd\n",
    "\n",
    "## PyTorch Lightning\n",
    "#import pytorch_lightning as pl\n",
    "import seaborn as sns\n",
    "\n",
    "# PyTorch\n",
    "import torch\n",
    "import torch.nn as nn\n",
    "import torch.nn.functional as F\n",
    "import torch.optim as optim\n",
    "import torch.utils.data as data\n",
    "\n",
    "## Setting the seed\n",
    "#pl.seed_everything(42)\n",
    "\n",
    "## Ensure that all operations are deterministic on GPU (if used) for reproducibility\n",
    "#torch.backends.cudnn.determinstic = True\n",
    "#torch.backends.cudnn.benchmark = False\n",
    "\n",
    "device = torch.device(\"cuda:0\") if torch.cuda.is_available() else torch.device(\"cpu\")\n",
    "print(\"Device:\", device)"
   ]
  },
  {
   "cell_type": "code",
   "execution_count": 6,
   "id": "d68ac264",
   "metadata": {},
   "outputs": [],
   "source": [
    "dataset_fpath='./datasets/files_valid/Trajectorys2_72_2000_anom.csv'\n",
    "class_label = {'abnormal': 1, 'normal': 0}\n",
    "col_grpID='Entity'\n",
    "col_label='Label'\n",
    "cols_seq=['Step']\n",
    "cols_feat=['X_Coord', 'Y_Coord']\n",
    "cols_X = cols_seq+[col_grpID]+cols_feat\n",
    "cols_y = cols_seq+[col_grpID]+[col_label]\n",
    "\n",
    "scaler = 'robust'  # 'robust', 'standard', None\n",
    "\n",
    "df = pd.read_csv(dataset_fpath)\n",
    "X = df[cols_X].set_index(cols_seq)\n",
    "y = df[cols_y].set_index(cols_seq)"
   ]
  },
  {
   "cell_type": "code",
   "execution_count": null,
   "id": "8d00c83f",
   "metadata": {},
   "outputs": [],
   "source": []
  },
  {
   "cell_type": "code",
   "execution_count": 7,
   "id": "87ac6973",
   "metadata": {},
   "outputs": [
    {
     "data": {
      "text/html": [
       "<div>\n",
       "<style scoped>\n",
       "    .dataframe tbody tr th:only-of-type {\n",
       "        vertical-align: middle;\n",
       "    }\n",
       "\n",
       "    .dataframe tbody tr th {\n",
       "        vertical-align: top;\n",
       "    }\n",
       "\n",
       "    .dataframe thead th {\n",
       "        text-align: right;\n",
       "    }\n",
       "</style>\n",
       "<table border=\"1\" class=\"dataframe\">\n",
       "  <thead>\n",
       "    <tr style=\"text-align: right;\">\n",
       "      <th></th>\n",
       "      <th>Step</th>\n",
       "      <th>Entity</th>\n",
       "      <th>X_Coord</th>\n",
       "      <th>Y_Coord</th>\n",
       "    </tr>\n",
       "  </thead>\n",
       "  <tbody>\n",
       "    <tr>\n",
       "      <th>0</th>\n",
       "      <td>0</td>\n",
       "      <td>1</td>\n",
       "      <td>-0.943662</td>\n",
       "      <td>-0.711538</td>\n",
       "    </tr>\n",
       "    <tr>\n",
       "      <th>1</th>\n",
       "      <td>0</td>\n",
       "      <td>2</td>\n",
       "      <td>-0.915493</td>\n",
       "      <td>-0.576923</td>\n",
       "    </tr>\n",
       "    <tr>\n",
       "      <th>2</th>\n",
       "      <td>0</td>\n",
       "      <td>3</td>\n",
       "      <td>-0.915493</td>\n",
       "      <td>-0.769231</td>\n",
       "    </tr>\n",
       "    <tr>\n",
       "      <th>3</th>\n",
       "      <td>0</td>\n",
       "      <td>4</td>\n",
       "      <td>-0.943662</td>\n",
       "      <td>-0.634615</td>\n",
       "    </tr>\n",
       "    <tr>\n",
       "      <th>4</th>\n",
       "      <td>0</td>\n",
       "      <td>5</td>\n",
       "      <td>-0.943662</td>\n",
       "      <td>-0.673077</td>\n",
       "    </tr>\n",
       "    <tr>\n",
       "      <th>...</th>\n",
       "      <td>...</td>\n",
       "      <td>...</td>\n",
       "      <td>...</td>\n",
       "      <td>...</td>\n",
       "    </tr>\n",
       "    <tr>\n",
       "      <th>143995</th>\n",
       "      <td>71</td>\n",
       "      <td>1996</td>\n",
       "      <td>1.126761</td>\n",
       "      <td>0.711538</td>\n",
       "    </tr>\n",
       "    <tr>\n",
       "      <th>143996</th>\n",
       "      <td>71</td>\n",
       "      <td>1997</td>\n",
       "      <td>1.239437</td>\n",
       "      <td>0.153846</td>\n",
       "    </tr>\n",
       "    <tr>\n",
       "      <th>143997</th>\n",
       "      <td>71</td>\n",
       "      <td>1998</td>\n",
       "      <td>1.084507</td>\n",
       "      <td>0.230769</td>\n",
       "    </tr>\n",
       "    <tr>\n",
       "      <th>143998</th>\n",
       "      <td>71</td>\n",
       "      <td>1999</td>\n",
       "      <td>1.112676</td>\n",
       "      <td>0.980769</td>\n",
       "    </tr>\n",
       "    <tr>\n",
       "      <th>143999</th>\n",
       "      <td>71</td>\n",
       "      <td>2000</td>\n",
       "      <td>1.267606</td>\n",
       "      <td>1.173077</td>\n",
       "    </tr>\n",
       "  </tbody>\n",
       "</table>\n",
       "<p>144000 rows × 4 columns</p>\n",
       "</div>"
      ],
      "text/plain": [
       "        Step  Entity   X_Coord   Y_Coord\n",
       "0          0       1 -0.943662 -0.711538\n",
       "1          0       2 -0.915493 -0.576923\n",
       "2          0       3 -0.915493 -0.769231\n",
       "3          0       4 -0.943662 -0.634615\n",
       "4          0       5 -0.943662 -0.673077\n",
       "...      ...     ...       ...       ...\n",
       "143995    71    1996  1.126761  0.711538\n",
       "143996    71    1997  1.239437  0.153846\n",
       "143997    71    1998  1.084507  0.230769\n",
       "143998    71    1999  1.112676  0.980769\n",
       "143999    71    2000  1.267606  1.173077\n",
       "\n",
       "[144000 rows x 4 columns]"
      ]
     },
     "execution_count": 7,
     "metadata": {},
     "output_type": "execute_result"
    }
   ],
   "source": [
    "from sklearn.preprocessing import StandardScaler, RobustScaler\n",
    "\n",
    "X.reset_index(inplace=True)\n",
    "X.set_index(cols_seq+[col_grpID], inplace=True)\n",
    "\n",
    "if scaler == 'standard':\n",
    "    X_sc = StandardScaler().fit_transform(X)\n",
    "elif scaler == 'robust':\n",
    "    X_sc = RobustScaler().fit_transform(X)\n",
    "else:\n",
    "    X_sc = X.to_numpy()\n",
    "    \n",
    "X_sc = pd.DataFrame(X_sc, index=X.index, columns=cols_feat).reset_index()\n",
    "X_sc"
   ]
  },
  {
   "cell_type": "code",
   "execution_count": null,
   "id": "a8208a78",
   "metadata": {},
   "outputs": [],
   "source": []
  },
  {
   "cell_type": "code",
   "execution_count": 8,
   "id": "6ed5dc33",
   "metadata": {},
   "outputs": [
    {
     "data": {
      "image/png": "[encoded data removed]",
      "text/plain": [
       "<Figure size 432x288 with 1 Axes>"
      ]
     },
     "metadata": {
      "needs_background": "light"
     },
     "output_type": "display_data"
    }
   ],
   "source": [
    "X_new=[]\n",
    "y_new=[]\n",
    "for grpid in X_sc[col_grpID].unique():\n",
    "    X_new.append(X_sc.query(f\"{col_grpID} == {grpid}\")[cols_feat])\n",
    "    y_new.append(y.query(f\"{col_grpID} == {grpid}\")[col_label][0])\n",
    "X_new=np.array(X_new)\n",
    "y_new=np.array(y_new)\n",
    "\n",
    "\n",
    "plot_grpidx_normal   = y.query(f\"{col_label} == {class_label['normal']}\")[col_grpID].iloc[0]\n",
    "plot_grpidx_abnormal = y.query(f\"{col_label} == {class_label['abnormal']}\")[col_grpID].iloc[0]\n",
    "\n",
    "plot_idx=plot_grpidx_normal # plot_grpidx_abnormal , plot_grpidx_normal\n",
    "\n",
    "plot_grp = y.query(f\"{col_grpID} == {plot_idx}\")\n",
    "plot_clr = ['g' if y_ == 0 else 'r' for y_ in plot_grp[col_label]]\n",
    "pd.DataFrame(X_new[plot_idx]).plot.scatter(x=0,y=1,c=plot_clr)\n",
    "\n",
    "X = torch.tensor(X_new)\n",
    "y = torch.tensor(y_new)\n",
    "\n",
    "# trajectories, sequence-step, entity_features\n",
    "# X_new.shape # (2000, 72, 2)\n",
    "# y_new.shape # (2000,)"
   ]
  },
  {
   "cell_type": "code",
   "execution_count": null,
   "id": "e58ebde4",
   "metadata": {},
   "outputs": [],
   "source": []
  },
  {
   "cell_type": "code",
   "execution_count": null,
   "id": "5685c951",
   "metadata": {},
   "outputs": [],
   "source": []
  },
  {
   "cell_type": "code",
   "execution_count": null,
   "id": "2878eb8f",
   "metadata": {},
   "outputs": [],
   "source": []
  },
  {
   "cell_type": "code",
   "execution_count": 9,
   "id": "343fab2e",
   "metadata": {},
   "outputs": [],
   "source": [
    "def scaled_dot_product(q, k, v, mask=None): # source: https://lightning.ai/docs/pytorch/stable/notebooks/course_UvA-DL/05-transformers-and-MH-attention.html\n",
    "    d_k = q.size()[-1]\n",
    "    attn_logits = torch.matmul(q, k.transpose(-2, -1))\n",
    "    attn_logits = attn_logits / math.sqrt(d_k)\n",
    "    if mask is not None:\n",
    "        attn_logits = attn_logits.masked_fill(mask == 0, -9e15)\n",
    "    attention = F.softmax(attn_logits, dim=-1)\n",
    "    values = torch.matmul(attention, v)\n",
    "    return values, attention\n",
    "\n",
    "x=X\n",
    "\n",
    "m = x.shape[0] # samples\n",
    "n = x.shape[1] # seq_len (trajectory steps - concatenated sample features)\n",
    "f = x.shape[2] # entity step features\n",
    "# torch.Size([2000, 72, 2])\n",
    "\n",
    "\n",
    "m = 2000\n",
    "num_heads = 8\n",
    "\n",
    "d_inp_size = 72 # n\n",
    "d_step_feat = f # f\n",
    "d_inp_embed_size = 1 # 1\n",
    "h = 8 # num heads\n",
    "d_k = 8 # d_q = d_k = d_v # 72 - todo: 8, 16, 32, 512, 2048\n",
    "d_ffn_embed_size = 2048 # (Vaswani et al.)\n",
    "d_qkv = 3*d_k # 216 # 1536\n",
    "\n",
    "inp_emb = nn.Linear(f, d_inp_embed_size)\n",
    "inp_prj = nn.Linear(d_inp_size, d_k)\n",
    "qkv_prj = nn.Linear(d_k, h * d_qkv) # MHA\n",
    "out_prj = nn.Linear(h, d_inp_embed_size)"
   ]
  },
  {
   "cell_type": "code",
   "execution_count": null,
   "id": "46ee1c95",
   "metadata": {},
   "outputs": [],
   "source": []
  },
  {
   "cell_type": "code",
   "execution_count": 10,
   "id": "cde2dabd",
   "metadata": {},
   "outputs": [
    {
     "name": "stdout",
     "output_type": "stream",
     "text": [
      "torch.float32\n"
     ]
    },
    {
     "data": {
      "text/plain": [
       "torch.Size([2000, 72, 2])"
      ]
     },
     "execution_count": 10,
     "metadata": {},
     "output_type": "execute_result"
    }
   ],
   "source": [
    "x = X\n",
    "x = x.float()\n",
    "#q,k,v = x,x,x\n",
    "print(x.dtype)\n",
    "x.shape"
   ]
  },
  {
   "cell_type": "code",
   "execution_count": null,
   "id": "d889f305",
   "metadata": {},
   "outputs": [],
   "source": []
  },
  {
   "cell_type": "code",
   "execution_count": null,
   "id": "1b9467b4",
   "metadata": {},
   "outputs": [],
   "source": []
  },
  {
   "cell_type": "code",
   "execution_count": 11,
   "id": "3d20028e",
   "metadata": {},
   "outputs": [],
   "source": [
    "def freeze_weights(model, param_name, unfreeze, verbose=False):\n",
    "    for a, b in model.named_parameters():\n",
    "        if param_name in a:\n",
    "            b.requires_grad=unfreeze\n",
    "            if verbose: print(b)\n",
    "\n",
    "class InputEmbedding(nn.Module):\n",
    "    \n",
    "    def __init__(self, d_inp_size, d_step_feat, d_inp_embed_size, static_encoding=False):\n",
    "        super(InputEmbedding, self).__init__()\n",
    "        \n",
    "        self.d_k = d_inp_size # d_k # 72 # trajectory steps\n",
    "        self.d_step_feat = d_step_feat # 2\n",
    "        self.d_inp_embed_size = d_inp_embed_size # 8\n",
    "        \n",
    "        # from input_net (input_dim -- prj -> model_dim)\n",
    "        # source: https://lightning.ai/docs/pytorch/stable/notebooks/course_UvA-DL/05-transformers-and-MH-attention.html (image) vs gadf (trajectory)\n",
    "        # student: input adaption to trajectories\n",
    "        \n",
    "        self.inp_prj_feat = nn.Linear(d_step_feat, d_inp_embed_size)\n",
    "        \n",
    "        # for future transformer layer capability investigation\n",
    "        #if static_encoding:\n",
    "        #    freeze_weights(self, 'inp_prj_feat', unfreeze=False)\n",
    "        #    #freeze_weights(self, 'inp_prj_grp', unfreeze=False)\n",
    "        #else:\n",
    "        #    freeze_weights(self, 'inp_prj_feat', unfreeze=True)\n",
    "        #    #freeze_weights(self, 'inp_prj_grp', unfreeze=True)\n",
    "        \n",
    "    def forward(self, x):\n",
    "        \n",
    "        # x - torch.Size([2000, 72, 2])\n",
    "        # m = x.shape[0] #bs\n",
    "        \n",
    "        x1 = self.inp_prj_feat(x) # torch.Size([2000, 72, 8])      \n",
    "        \n",
    "        return x1  "
   ]
  },
  {
   "cell_type": "code",
   "execution_count": 12,
   "id": "a339d2dd",
   "metadata": {},
   "outputs": [
    {
     "name": "stderr",
     "output_type": "stream",
     "text": [
      "/tmp/ipykernel_729/2828342101.py:6: UserWarning: To copy construct from a tensor, it is recommended to use sourceTensor.clone().detach() or sourceTensor.clone().detach().requires_grad_(True), rather than torch.tensor(sourceTensor).\n",
      "  x0 = torch.tensor(x, dtype=torch.float32) # torch.Size([2000, 72, 2])\n"
     ]
    },
    {
     "data": {
      "text/plain": [
       "torch.Size([2000, 72, 8])"
      ]
     },
     "execution_count": 12,
     "metadata": {},
     "output_type": "execute_result"
    }
   ],
   "source": [
    "d_inp_size = 72 # d_k = 72 # d_model\n",
    "d_inp_embed_size = 8\n",
    "d_step_feat = 2\n",
    "d_k = d_inp_size\n",
    "\n",
    "x0 = torch.tensor(x, dtype=torch.float32) # torch.Size([2000, 72, 2])\n",
    "inp_emb = InputEmbedding(d_inp_size, d_step_feat, d_inp_embed_size)\n",
    "x1 = inp_emb.forward(x0)\n",
    "x1.shape # torch.Size([2000, 72, 8]) - v1: torch.Size([2000, 72, 1]) v2: torch.Size([2000, 72, 8])"
   ]
  },
  {
   "cell_type": "code",
   "execution_count": null,
   "id": "9db346ea",
   "metadata": {},
   "outputs": [],
   "source": []
  },
  {
   "cell_type": "code",
   "execution_count": null,
   "id": "56990518",
   "metadata": {},
   "outputs": [],
   "source": []
  },
  {
   "cell_type": "code",
   "execution_count": null,
   "id": "9d2a75f8",
   "metadata": {},
   "outputs": [],
   "source": []
  },
  {
   "cell_type": "code",
   "execution_count": 13,
   "id": "66e2e827",
   "metadata": {},
   "outputs": [],
   "source": [
    "import time"
   ]
  },
  {
   "cell_type": "code",
   "execution_count": 14,
   "id": "d2de6415",
   "metadata": {},
   "outputs": [
    {
     "name": "stdout",
     "output_type": "stream",
     "text": [
      "out: torch.Size([2000, 72, 8]) - attn: torch.Size([2000, 72, 72])\n"
     ]
    }
   ],
   "source": [
    "class SHAtt(nn.Module):\n",
    "    \n",
    "    def __init__(self, d_k, d_model, d_inp_embed_size, winit_orig=True):\n",
    "        super(SHAtt, self).__init__()\n",
    "        \n",
    "        # v2: d_inp_size = d_k = d_model = n\n",
    "        self.d_k = d_k # ( Vaswani et al. -> d_q = d_k = d_v = d_model ) = 32, 512, 2048  \n",
    "        self.d_model = d_model \n",
    "        \n",
    "        # v2: 8 = projected group member (traj-step) features f (8 originated from LightningTutorialVersion with further hyperparameter search - others 4, 16, 72, 100, etc.) \n",
    "        # v1: 1 = embedded group member (traj-step) features f      \n",
    "        self.d_inp_embed_size = d_inp_embed_size \n",
    "        self.d_qkv = 3*d_model\n",
    "        \n",
    "        if winit_orig is None or winit_orig:\n",
    "            self.fc_qkv = nn.Linear(d_k, self.d_qkv, bias=True) # SHA\n",
    "        else:\n",
    "            self.fc_qkv = nn.Linear(d_k, self.d_qkv, bias=False) # Karpathy et al. (-> d_k != d_model, d_k=d_inp_size, d_model=d_model)\n",
    "        \n",
    "        self._reset_parameters(winit_orig)\n",
    "        \n",
    "\n",
    "    def _reset_parameters(self, winit_orig=True):\n",
    "        if winit_orig is not None:\n",
    "            # Original Transformer initialization, see PyTorch documentation\n",
    "            if winit_orig:\n",
    "                # https://lightning.ai/docs/pytorch/stable/notebooks/course_UvA-DL/05-transformers-and-MH-attention.html (LightningTutorialVersion)\n",
    "                nn.init.xavier_uniform_(self.fc_qkv.weight)\n",
    "                self.fc_qkv.bias.data.fill_(0)\n",
    "            else:\n",
    "                # Karpathy et al.\n",
    "                nn.init.normal_(self.fc_qkv.weight, mean=0., std=np.sqrt(2/(self.d_k+self.d_model)))\n",
    "\n",
    "    def scaled_dot_product(self, q, k, v, mask=None):\n",
    "        # source: https://lightning.ai/docs/pytorch/stable/notebooks/course_UvA-DL/05-transformers-and-MH-attention.html (LightningTutorialVersion)\n",
    "        d_k = q.size()[-1]\n",
    "        attn_logits = torch.matmul(q, k.transpose(-2, -1))\n",
    "        attn_logits = attn_logits / math.sqrt(d_k)\n",
    "        if mask is not None:\n",
    "            attn_logits = attn_logits.masked_fill(mask == 0, -9e15)\n",
    "        attention = F.softmax(attn_logits, dim=-1)\n",
    "        values = torch.matmul(attention, v)\n",
    "        return values, attention\n",
    "        \n",
    "    def forward(self, x):\n",
    "        \n",
    "        # x - torch.Size([2000,  72, 8])\n",
    "        # x - torch.Size([2000, d_k, 8])\n",
    "        \n",
    "        m = x.shape[0] # number of groups in batch = bs\n",
    "        \n",
    "        x1 = x.reshape(m, self.d_inp_embed_size, self.d_k)    # v2: torch.Size([2000, 8, 72])  v1: torch.Size([2000, 1, 72])\n",
    "        x2 = self.fc_qkv(x1)                                  # v2: torch.Size([2000, 8, 216]) v1: torch.Size([2000, 1, 216]) - d_model = d_inp_size = 72 (fc_qkv: 3*d_model)\n",
    "        \n",
    "        q = x2[:, :, :self.d_model].reshape(m, self.d_model, self.d_inp_embed_size)               # v2: torch.Size([2000, d_model, 8]) - d_model=d_q , v1: torch.Size([2000, 72, 1])\n",
    "        k = x2[:, :, self.d_model:2*self.d_model].reshape(m, self.d_model, self.d_inp_embed_size) # v2: torch.Size([2000, d_model, 8]) - d_model=d_k , v1: torch.Size([2000, 72, 1])\n",
    "        v = x2[:, :, 2*self.d_model:].reshape(m, self.d_model, self.d_inp_embed_size)             # v2: torch.Size([2000, d_model, 8]) - d_model=d_v , v1: torch.Size([2000, 72, 1])\n",
    "        \n",
    "        out, att = self.scaled_dot_product(q, k, v, mask=None) # v2: torch.Size([2000, d_model, 8]) v1: torch.Size([2000, 72, 1]) , att - torch.Size([2000, d_model, d_model])\n",
    "        \n",
    "        return out, att\n",
    "  \n",
    "    \n",
    "d_inp_size = 72 # d_k = 72 # d_model\n",
    "d_inp_embed_size = 8\n",
    "\n",
    "\n",
    "shatt1 = SHAtt(d_k=d_inp_size, d_model=d_inp_size, d_inp_embed_size=d_inp_embed_size)\n",
    "shatt2 = SHAtt(d_k=d_inp_size, d_model=d_inp_size, d_inp_embed_size=d_inp_embed_size)\n",
    "out1, attn1 = shatt1(x1)\n",
    "out2, attn2 = shatt2(x1)\n",
    "print(f\"out: {out1.shape} - attn: {attn1.shape}\")  # out: torch.Size([2000, 72, 8]) - attn: torch.Size([2000, 72, 72])"
   ]
  },
  {
   "cell_type": "code",
   "execution_count": null,
   "id": "925fc374",
   "metadata": {},
   "outputs": [],
   "source": []
  },
  {
   "cell_type": "code",
   "execution_count": 15,
   "id": "44ba2919",
   "metadata": {},
   "outputs": [
    {
     "name": "stderr",
     "output_type": "stream",
     "text": [
      "/tmp/ipykernel_729/3968662628.py:35: UserWarning: To copy construct from a tensor, it is recommended to use sourceTensor.clone().detach() or sourceTensor.clone().detach().requires_grad_(True), rather than torch.tensor(sourceTensor).\n",
      "  x0 = torch.tensor(x, dtype=torch.float32) # torch.Size([2000, 72, 2])\n"
     ]
    },
    {
     "data": {
      "text/plain": [
       "torch.Size([2000, 72, 8])"
      ]
     },
     "execution_count": 15,
     "metadata": {},
     "output_type": "execute_result"
    }
   ],
   "source": [
    "class PositionalEncoding(nn.Module):\n",
    "    \n",
    "    def __init__(self, d_model, d_inp_embed_size):\n",
    "        super(PositionalEncoding, self).__init__()\n",
    "        \n",
    "        # d_inp_size = d_model = d_k\n",
    "        \n",
    "        self.pe = torch.zeros(d_inp_embed_size, d_model) # 8, 72        \n",
    "        self.pe.requires_grad = False\n",
    "        \n",
    "        for pos in range(0, d_inp_embed_size): \n",
    "            for i in range(0, d_model):\n",
    "                \n",
    "                if 2*i < d_k: denom = 10000. ** (2*i/d_model)    \n",
    "                if 2*i < d_k: self.pe[pos,2*i] = math.sin( pos / denom )\n",
    "                if 2*i+1 < d_k: self.pe[pos,2*i+1] = math.cos( pos / denom )\n",
    "                    \n",
    "        self.pe = self.pe.reshape(d_model, d_inp_embed_size) # 72, 8\n",
    "                    \n",
    "        #self.register_buffer(\"pe\", pe, persistent=False)\n",
    "        \n",
    "    def to(self, device):\n",
    "        self.pe = self.pe.to(torch.device(device))\n",
    "        return self\n",
    "        \n",
    "    def forward(self, x, **kwargs):\n",
    "        return self.pe[:, :x.size(1)] # 72, 8\n",
    "    \n",
    "\n",
    "d_inp_size = 72 # d_k = 72 # d_model\n",
    "d_inp_embed_size = 8\n",
    "d_step_feat = 2\n",
    "d_k = d_inp_size\n",
    "\n",
    "x0 = torch.tensor(x, dtype=torch.float32) # torch.Size([2000, 72, 2])\n",
    "inp_emb = InputEmbedding(d_inp_size, d_step_feat, d_inp_embed_size)\n",
    "x1 = inp_emb.forward(x0)\n",
    "x1.shape # torch.Size([2000, 72, 8])\n",
    "\n",
    "p = PositionalEncoding(d_model=d_inp_size, d_inp_embed_size=d_inp_embed_size)\n",
    "pos_enc = p.forward(x1)\n",
    "pos_enc.shape # torch.Size([72, 8])\n",
    "\n",
    "x2 = x1 + pos_enc\n",
    "x2.shape"
   ]
  },
  {
   "cell_type": "code",
   "execution_count": 16,
   "id": "34d26043",
   "metadata": {},
   "outputs": [
    {
     "data": {
      "text/plain": [
       "<AxesSubplot: >"
      ]
     },
     "execution_count": 16,
     "metadata": {},
     "output_type": "execute_result"
    },
    {
     "data": {
      "image/png": "[encoded data removed]",
      "text/plain": [
       "<Figure size 432x288 with 1 Axes>"
      ]
     },
     "metadata": {
      "needs_background": "light"
     },
     "output_type": "display_data"
    }
   ],
   "source": [
    "x1.shape #v1: 2000, 72, 1, v2: 2000, 72, 8\n",
    "x2.shape #v1: 2000, 72, 1, v2: 2000, 72, 8\n",
    "sid=7\n",
    "pd.DataFrame(x2[sid].detach().cpu().numpy(), list(range(0,x2.shape[1]))).plot(ylim=[-2,2])"
   ]
  },
  {
   "cell_type": "code",
   "execution_count": null,
   "id": "58504d55",
   "metadata": {},
   "outputs": [],
   "source": []
  },
  {
   "cell_type": "code",
   "execution_count": null,
   "id": "85c7cf9e",
   "metadata": {},
   "outputs": [],
   "source": []
  },
  {
   "cell_type": "code",
   "execution_count": 17,
   "id": "ba5e3800",
   "metadata": {},
   "outputs": [
    {
     "name": "stderr",
     "output_type": "stream",
     "text": [
      "/tmp/ipykernel_729/2627855895.py:75: UserWarning: To copy construct from a tensor, it is recommended to use sourceTensor.clone().detach() or sourceTensor.clone().detach().requires_grad_(True), rather than torch.tensor(sourceTensor).\n",
      "  x0 = torch.tensor(x, dtype=torch.float32) # torch.Size([2000, 72, 2])\n"
     ]
    },
    {
     "data": {
      "text/plain": [
       "torch.Size([2000, 72, 8])"
      ]
     },
     "execution_count": 17,
     "metadata": {},
     "output_type": "execute_result"
    }
   ],
   "source": [
    "class MHAtt(nn.Module):\n",
    "    \n",
    "    def __init__(self, d_k, d_model, d_inp_embed_size, num_heads, save_attn=False, winit_orig=True):\n",
    "        super(MHAtt, self).__init__()\n",
    "        \n",
    "        self.d_k = d_k\n",
    "        self.d_model = d_model        \n",
    "        self.d_inp_embed_size = d_inp_embed_size\n",
    "        self.num_heads = num_heads\n",
    "        self.save_attn = save_attn\n",
    "        \n",
    "        \n",
    "        self.mha = nn.Sequential(\n",
    "            *[SHAtt(d_k, d_model, d_inp_embed_size, winit_orig) for _ in range(0,self.num_heads)]\n",
    "        )\n",
    "        \n",
    "        if winit_orig is None or winit_orig:\n",
    "            self.fc_out = nn.Linear(num_heads * d_model, d_k, bias=True) # original (tutorial)\n",
    "        else:\n",
    "            self.fc_out = nn.Linear(num_heads * d_model, d_k, bias=False) # no bias - Karpathy et al.\n",
    "            \n",
    "        self._reset_parameters(winit_orig)\n",
    "\n",
    "    def _reset_parameters(self, winit_orig=True):\n",
    "        # Original Transformer initialization, see PyTorch documentation\n",
    "        if winit_orig is not None:\n",
    "            if winit_orig:\n",
    "                nn.init.xavier_uniform_(self.fc_out.weight)\n",
    "                self.fc_out.bias.data.fill_(0)\n",
    "            else:\n",
    "                # Karpathy et al.\n",
    "                nn.init.normal_(self.fc_out.weight, mean=0., std=np.sqrt(2/(self.d_inp_size+self.d_k)))\n",
    "\n",
    "    def forward(self, x):\n",
    "        \n",
    "        m = x.shape[0] #bs\n",
    "        attn=[]\n",
    "        x_=None\n",
    "        \n",
    "        for h in range(0, self.num_heads):\n",
    "            \n",
    "            out, att = self.mha[h].forward(x)            \n",
    "            if x_ is None:\n",
    "                x_ = out\n",
    "            else:\n",
    "                x_ = torch.concat([x_, out])\n",
    "            if self.save_attn: attn.append(att.clone().detach().cpu().numpy())\n",
    "        \n",
    "        # e.g. \n",
    "        # num_heads=1: num_heads * out: torch.Size([2000,         1 *      72,  8]) - attn: torch.Size([2000, 72, 72])\n",
    "        # num_heads=1: num_heads * out: torch.Size([2000, num_heads * d_model,  8]) - attn: torch.Size([2000, d_model, d_model])\n",
    "        # ...\n",
    "        \n",
    "        x_ = x_.reshape(m, self.d_inp_embed_size, self.num_heads * self.d_model) \n",
    "        # num_heads=1: torch.Size([2000, 8, num_heads * d_model]) \n",
    "        \n",
    "        o = self.fc_out(x_) # torch.Size([2000, 8, d_k])         \n",
    "                \n",
    "        o = o.reshape(m, self.d_k, self.d_inp_embed_size) \n",
    "        \n",
    "        # o - torch.Size([2000,  72, 8])\n",
    "        # o - torch.Size([2000, d_k, 8])\n",
    "        \n",
    "        return o, attn\n",
    "    \n",
    "# x3 = x2 + pos_enc # -> torch.Size([2000, 72, 8])\n",
    "\n",
    "d_inp_size = 72 # d_k = 72 # d_model\n",
    "d_step_feat = 2\n",
    "d_k = d_inp_size # = d_model = d_inp_size = 72\n",
    "d_model = 72 # = d_k = d_inp_size = 72 (Karpathy d_model!=d_k)\n",
    "d_inp_embed_size = 8 # v2: 8 (tutorial+student) v1: 1 \n",
    "num_heads = 8 # v2: 8 v1: 8 (nach opt 1)\n",
    "\n",
    "x0 = torch.tensor(x, dtype=torch.float32) # torch.Size([2000, 72, 2])\n",
    "inp_emb = InputEmbedding(d_inp_size, d_step_feat, d_inp_embed_size)\n",
    "x1 = inp_emb.forward(x0)\n",
    "\n",
    "p = PositionalEncoding(d_model=d_inp_size, d_inp_embed_size=d_inp_embed_size)\n",
    "pos_enc = p.forward(x1)\n",
    "\n",
    "x2 = x1 + pos_enc\n",
    "\n",
    "mh = MHAtt(d_k, d_model, d_inp_embed_size, num_heads, save_attn=True, winit_orig=True)\n",
    "o, attn = mh.forward(x2)  # o.shape - torch.Size([2000, d_k, 8]) ,  attn - list of num_heads * (2000, d_model, d_model)\n",
    "o.shape # torch.Size([2000, 72, 8])"
   ]
  },
  {
   "cell_type": "code",
   "execution_count": null,
   "id": "5c5e713f",
   "metadata": {},
   "outputs": [],
   "source": []
  },
  {
   "cell_type": "code",
   "execution_count": null,
   "id": "5ff9359a",
   "metadata": {},
   "outputs": [],
   "source": []
  },
  {
   "cell_type": "code",
   "execution_count": null,
   "id": "fe15e455",
   "metadata": {},
   "outputs": [],
   "source": []
  },
  {
   "cell_type": "code",
   "execution_count": 18,
   "id": "0acb2edc",
   "metadata": {},
   "outputs": [
    {
     "name": "stderr",
     "output_type": "stream",
     "text": [
      "/tmp/ipykernel_729/2931634648.py:97: UserWarning: To copy construct from a tensor, it is recommended to use sourceTensor.clone().detach() or sourceTensor.clone().detach().requires_grad_(True), rather than torch.tensor(sourceTensor).\n",
      "  x0 = torch.tensor(x, dtype=torch.float32) # torch.Size([2000, 72, 2])\n"
     ]
    },
    {
     "data": {
      "text/plain": [
       "torch.Size([2000, 72, 8])"
      ]
     },
     "execution_count": 18,
     "metadata": {},
     "output_type": "execute_result"
    }
   ],
   "source": [
    "class TransformerEncoderBlockLayer(nn.Module):\n",
    "    \n",
    "    def __init__(self, d_inp_size, d_inp_embed_size, d_k, d_ffn_embed_size, num_heads, dropr=0.0, save_attn=True, winit_orig=True):\n",
    "        super(TransformerEncoderBlockLayer, self).__init__()\n",
    "        \n",
    "        self.d_inp_size = d_inp_size\n",
    "        self.d_inp_embed_size = d_inp_embed_size\n",
    "        self.d_ffn_embed_size = d_ffn_embed_size\n",
    "        self.d_k = d_k\n",
    "        self.num_heads = num_heads\n",
    "        self.save_attn = save_attn\n",
    "        #self.attn = []\n",
    "        self.attn = None\n",
    "        \n",
    "        self.energies = {'trn': {}, 'vld': {}}\n",
    "        \n",
    "        self.mh_att = MHAtt(d_k, d_model, d_inp_embed_size, num_heads, save_attn, winit_orig)\n",
    "        self.dropout = nn.Dropout(dropr) # to check\n",
    "        self.layer_norm1 = nn.LayerNorm([d_k, d_inp_embed_size]) #to check\n",
    "        self.layer_norm2 = nn.LayerNorm([d_k, d_inp_embed_size])\n",
    "        self.ffn = nn.Sequential(\n",
    "            nn.Linear(d_k, d_ffn_embed_size),\n",
    "            nn.Dropout(dropr), # to check\n",
    "            nn.Tanh(), # nn.ReLU() (Vaswani et al.)\n",
    "            nn.Linear(d_ffn_embed_size, d_k),\n",
    "            nn.Dropout(dropr) # to check\n",
    "        )       \n",
    "    \n",
    "        \n",
    "    def log_energies(self, key, ep, x):\n",
    "        \n",
    "        phase = ('vld','trn')[self.training]        \n",
    "        if key not in self.energies[phase].keys():\n",
    "            self.energies[phase][key] = {}\n",
    "        if ep not in self.energies[phase][key].keys():                \n",
    "            self.energies[phase][key][ep] = []    \n",
    "        self.energies[phase][key][ep].append(x)\n",
    "        \n",
    "    #def forward_norm_after(self, x, ep, blidx): # original\n",
    "    def forward(self, x, ep, blidx):\n",
    "        \n",
    "        m = x.shape[0] # bs\n",
    "        \n",
    "        x0, self.attn = self.mh_att(x)\n",
    "        \n",
    "        self.log_energies(f\"o_mha{blidx}\", ep, x0.clone().detach().cpu().numpy())\n",
    "        \n",
    "        # x - torch.Size([2000,  72, 8])\n",
    "        # x - torch.Size([2000, d_k, 8])\n",
    "        # x0 - torch.Size([2000, 72, 8])\n",
    "        # x0 - torch.Size([2000, d_k, 8])\n",
    "        \n",
    "        # x1 = self.dropout(x0) # to check (source: student)\n",
    "        x2 = self.layer_norm1(x + x0) # Add & Norm - v2: torch.Size([2000, d_k, 8]) vs v1: torch.Size([2000, d_k, 1])\n",
    "        \n",
    "        self.log_energies(f\"i_ffn{blidx}\", ep, x2.clone().detach().cpu().numpy())        \n",
    "        \n",
    "        x3 = x2.reshape(m, self.d_inp_embed_size, self.d_k) # v2: torch.Size([2000, 8, d_k]) vs v1: torch.Size([2000, 1, d_k])\n",
    "        \n",
    "        x4 = self.ffn(x3)                                   # v2: torch.Size([2000, 8, d_k]) vs v1: torch.Size([2000, 1, d_k])\n",
    "        \n",
    "        self.log_energies(f\"o_ffn{blidx}\", ep, x4.clone().detach().cpu().numpy())\n",
    "        \n",
    "        x5 = x4.reshape(m, self.d_k, self.d_inp_embed_size) # v2: torch.Size([2000, d_k, 8]) vs v1: torch.Size([2000, d_k, 1])\n",
    "        \n",
    "        x6 = self.layer_norm2(x5 + x2) # Add & Norm - v2: torch.Size([2000, d_k, 8]) vs v1: torch.Size([2000, d_k, 1])\n",
    "        \n",
    "        self.log_energies(f\"o_nrm{blidx}\", ep, x6.clone().detach().cpu().numpy())\n",
    "                \n",
    "        return x6\n",
    "                \n",
    "    def forward_norm_upfront(self, x):\n",
    "    #def forward(self, x, ep, blidx):\n",
    "        \n",
    "        m = x.shape[0] # bs\n",
    "        \n",
    "        x1 = self.layer_norm1(x) # Norm - torch.Size([256, 32, 1])\n",
    "        x2, self.attn = self.mh_att(x1)\n",
    "        # x1 = self.dropout(x0) # to check\n",
    "        x3 = x2 + x1  # Add &\n",
    "        x4 = self.layer_norm2(x3) # Norm - torch.Size([256, 32, 1])\n",
    "        x5 = x4.reshape(m, self.d_inp_embed_size, self.d_k) # torch.Size([256, 1, 32])\n",
    "        x6 = self.ffn(x5)\n",
    "        x7 = x5 + x6 # Add & \n",
    "        x8 = x7.reshape(m, self.d_k, self.d_inp_embed_size)\n",
    "\n",
    "        return x8\n",
    "        \n",
    "\n",
    "d_inp_size = 72 # d_k = 72 # d_model\n",
    "d_step_feat = 2\n",
    "d_k = d_inp_size # = d_model = d_inp_size = 72\n",
    "d_model = 72 # = d_k = d_inp_size = 72 (Karpathy d_model!=d_k)\n",
    "d_inp_embed_size = 8 # v2: 8 (tutorial+student) v1: 1 \n",
    "num_heads = 8 # v2: 8 v1: 8 (nach opt 1)\n",
    "\n",
    "x0 = torch.tensor(x, dtype=torch.float32) # torch.Size([2000, 72, 2])\n",
    "inp_emb = InputEmbedding(d_inp_size, d_step_feat, d_inp_embed_size)\n",
    "x1 = inp_emb.forward(x0)\n",
    "\n",
    "p = PositionalEncoding(d_model=d_inp_size, d_inp_embed_size=d_inp_embed_size)\n",
    "pos_enc = p.forward(x1)\n",
    "\n",
    "x2 = x1 + pos_enc\n",
    "\n",
    "enc_block = TransformerEncoderBlockLayer(d_inp_size, d_inp_embed_size, d_k, d_ffn_embed_size, num_heads)\n",
    "lo = enc_block.forward(x2, 0, 0)\n",
    "lo.shape # v2: torch.Size([2000, 72, 8]), v1: torch.Size([2000, 72, 1])"
   ]
  },
  {
   "cell_type": "code",
   "execution_count": null,
   "id": "0aa47f80",
   "metadata": {},
   "outputs": [],
   "source": []
  },
  {
   "cell_type": "code",
   "execution_count": 19,
   "id": "5d6db4c6",
   "metadata": {},
   "outputs": [
    {
     "name": "stderr",
     "output_type": "stream",
     "text": [
      "/tmp/ipykernel_729/330953772.py:71: UserWarning: To copy construct from a tensor, it is recommended to use sourceTensor.clone().detach() or sourceTensor.clone().detach().requires_grad_(True), rather than torch.tensor(sourceTensor).\n",
      "  x0 = torch.tensor(x, dtype=torch.float32) # torch.Size([2000, 72, 2])\n"
     ]
    },
    {
     "data": {
      "text/plain": [
       "torch.Size([2000, 1, 1])"
      ]
     },
     "execution_count": 19,
     "metadata": {},
     "output_type": "execute_result"
    }
   ],
   "source": [
    "class CustomTaskHead(nn.Module):\n",
    "        \n",
    "    def __init__(self, d_k, d_inp_embed_size, num_nonlinearity_layers=2, dropr=0.):        \n",
    "        super(CustomTaskHead, self).__init__()\n",
    "        \n",
    "        self.d_k = d_k\n",
    "        self.d_inp_embed_size = d_inp_embed_size\n",
    "        self.dropr = dropr\n",
    "        self.num_nonlinearity_layers = num_nonlinearity_layers\n",
    "        \n",
    "        # before:\n",
    "        # nn.Linear(d_k, d_k),\n",
    "        # #nn.ReLU(), \n",
    "        # reshape\n",
    "        # nn.Linear(d_k, d_k),\n",
    "        # nn.ReLU(),\n",
    "        # nn.Dropout(dropr),\n",
    "        # nn.Linear(d_inp_embed_size, 1)\n",
    "        \n",
    "        # nn.Linear(d_k, d_k),            # torch.Size([2000, 72, 8])\n",
    "        # nn.ReLU(),                      # afterwards\n",
    "        # reshape(m, 8, d_k),             # before\n",
    "        # nn.Linear(d_k, d_k),            # torch.Size([2000, 72, 8])\n",
    "        # nn.ReLU(),                      # before\n",
    "        ## nn.Dropout(dropr),              # before\n",
    "        # nn.Linear(d_inp_embed_size, 1)  # torch.Size([2000, 72, 1])\n",
    "        # reshape(m, 1, d_k),             # after\n",
    "        # nn.Linear(d_k, 1)               # torch.Size([2000, 1, 1])\n",
    "        # nn.Dropout(dropr),              # after\n",
    "        \n",
    "        self.task_nonlinearity_layers = nn.ModuleList(\n",
    "            [nn.Sequential(\n",
    "                nn.Linear(d_k, d_k),            # torch.Size([2000, 72, 8])\n",
    "                nn.ReLU()                      # afterwards (first relu added)\n",
    "            ) for _ in range(0, num_nonlinearity_layers)\n",
    "        ])\n",
    "        \n",
    "        self.prj_inp_embed = nn.Linear(d_inp_embed_size, 1)  \n",
    "        self.prj_d_k = nn.Linear(d_k, 1)\n",
    "        self.dropout = nn.Dropout(dropr)\n",
    "        \n",
    "    def forward(self, x):\n",
    "        \n",
    "        m = x.shape[0] # bs\n",
    "        # v2: x - torch.Size([2000, 8, 72]) m, d_inp_embed_size, d_k\n",
    "        \n",
    "        x_ = x \n",
    "        \n",
    "        for lidx in range(0, self.num_nonlinearity_layers):\n",
    "            \n",
    "            # x_ - torch.Size([2000, 8, 72])\n",
    "            x_ = self.task_nonlinearity_layers[lidx](x_)        # torch.Size([2000, 72, 8])\n",
    "            x_ = x_.reshape(m, self.d_inp_embed_size, self.d_k) # torch.Size([2000, 8, 72])\n",
    "            \n",
    "        x1 = x_.reshape(m, self.d_k, self.d_inp_embed_size)     # torch.Size([2000, 72, 8])\n",
    "        ##x1 = self.dropout(x1)                                 # before\n",
    "        x2 = self.prj_inp_embed(x1)                             # torch.Size([2000, 8, 1])        \n",
    "        x3 = x2.reshape(m, 1, self.d_k)                         # torch.Size([2000, 1, 72])        \n",
    "        x4 = self.prj_d_k(x3)                                   # torch.Size([2000, 1, 1])        \n",
    "        x5 = self.dropout(x4)                                   # after\n",
    "        \n",
    "        return x5\n",
    "\n",
    "d_inp_size = 72 # d_k = 72 # d_model\n",
    "d_step_feat = 2\n",
    "d_k = d_inp_size # = d_model = d_inp_size = 72\n",
    "d_model = 72 # = d_k = d_inp_size = 72 (Karpathy d_model!=d_k)\n",
    "d_inp_embed_size = 8 # v2: 8 (tutorial+student) v1: 1 \n",
    "num_heads = 8 # v2: 8 v1: 8 (nach opt 1)\n",
    "\n",
    "x0 = torch.tensor(x, dtype=torch.float32) # torch.Size([2000, 72, 2])\n",
    "inp_emb = InputEmbedding(d_inp_size, d_step_feat, d_inp_embed_size)\n",
    "x1 = inp_emb.forward(x0)\n",
    "\n",
    "p = PositionalEncoding(d_model=d_inp_size, d_inp_embed_size=d_inp_embed_size)\n",
    "pos_enc = p.forward(x1)\n",
    "\n",
    "x2 = x1 + pos_enc\n",
    "\n",
    "# actually for-loop here but just for code testing\n",
    "enc_block = TransformerEncoderBlockLayer(d_inp_size, d_inp_embed_size, d_k, d_ffn_embed_size, num_heads)\n",
    "x3 = enc_block.forward(x2, 0, 0)\n",
    "\n",
    "x4 = x3.reshape(m, d_inp_embed_size, d_k) # v2: torch.Size([2000, 8, 72])\n",
    "x4.shape # x4 - torch.Size([2000, 8, 72])\n",
    "\n",
    "cust_task_head = CustomTaskHead(d_k=72, d_inp_embed_size=8, num_nonlinearity_layers=2, dropr=0.)\n",
    "x_for_sigmoid = cust_task_head.forward(x4)\n",
    "x_for_sigmoid.shape"
   ]
  },
  {
   "cell_type": "code",
   "execution_count": null,
   "id": "10b43909",
   "metadata": {},
   "outputs": [],
   "source": []
  },
  {
   "cell_type": "code",
   "execution_count": null,
   "id": "9f7183bd",
   "metadata": {},
   "outputs": [],
   "source": []
  },
  {
   "cell_type": "code",
   "execution_count": 20,
   "id": "bf88e652",
   "metadata": {},
   "outputs": [
    {
     "name": "stdout",
     "output_type": "stream",
     "text": [
      "0.03928661346435547\n",
      "**\n",
      "8.166568517684937\n"
     ]
    },
    {
     "data": {
      "text/plain": [
       "torch.Size([2000, 1])"
      ]
     },
     "execution_count": 20,
     "metadata": {},
     "output_type": "execute_result"
    }
   ],
   "source": [
    "class GADFormer(nn.Module):\n",
    "\n",
    "    #def __init__(self, d_step_feat, d_inp_size, d_inp_embed_size, d_k, d_ffn_embed_size, num_heads, num_layers=4, dropr=0.0, save_attn=True, winit_orig=True, progressive_training=None):\n",
    "    def __init__(self, d_step_feat, d_inp_size, d_inp_embed_size, d_ffn_embed_size, num_heads, num_layers=4, num_nonlinearity_layers=2, dropr=0.0, save_attn=True, winit_orig=True, progressive_training=None):\n",
    "    \n",
    "        super(GADFormer, self).__init__()\n",
    "        \n",
    "        self.d_step_feat = d_step_feat\n",
    "        self.d_inp_size = d_inp_size\n",
    "        self.d_inp_embed_size = d_inp_embed_size\n",
    "        self.d_ffn_embed_size = d_ffn_embed_size\n",
    "        self.d_k = d_inp_size\n",
    "        self.num_heads = num_heads\n",
    "        self.num_layers = num_layers\n",
    "        self.energies = {'trn': {}, 'vld': {}}\n",
    "        self.progressive_training = progressive_training\n",
    "        \n",
    "        # self.input_embedding = InputEmbedding(d_inp_size, d_step_feat, d_k, d_inp_embed_size)    #v1\n",
    "        self.input_embedding = InputEmbedding(d_inp_size, d_step_feat, d_inp_embed_size) # v2\n",
    "        \n",
    "        #self.positional_encoding = PositionalEncoding(d_k, d_inp_embed_size) # v1\n",
    "        self.positional_encoding = PositionalEncoding(d_model=d_inp_size, d_inp_embed_size=d_inp_embed_size) #v2\n",
    "        \n",
    "        \n",
    "        self.encoder = nn.ModuleList(\n",
    "            #[TransformerEncoderBlockLayer(d_inp_size, d_inp_embed_size, d_k, d_ffn_embed_size, num_heads, dropr, save_attn, winit_orig) for _ in range(0, num_layers)] # v1\n",
    "            [TransformerEncoderBlockLayer(d_inp_size, d_inp_embed_size, self.d_k, d_ffn_embed_size, num_heads, dropr, save_attn, winit_orig) for _ in range(0, num_layers)] # v2\n",
    "        )\n",
    "        \n",
    "        #self.fc_out = nn.Linear(d_inp_embed_size, 1)   #v1 (v2: step feature reduction at the end before sigmoid instead)\n",
    "                \n",
    "        # torch.Size([2000, 72, 8])\n",
    "            \n",
    "        #self.custom_task_head = nn.Sequential(\n",
    "        #    nn.Linear(d_k, d_k),\n",
    "        #    nn.ReLU(), # before: without ReLU, afterwards: with ReLU\n",
    "        #    nn.Linear(d_k, d_k),\n",
    "        #    nn.ReLU(),\n",
    "        #    nn.Dropout(dropr),\n",
    "        #    nn.Linear(d_k, 1)\n",
    "        #)\n",
    "        \n",
    "        self.custom_task_head = CustomTaskHead(self.d_k, d_inp_embed_size, num_nonlinearity_layers, dropr)\n",
    "        \n",
    "        if self.progressive_training is not None:\n",
    "            freeze_weights(self, 'custom_task_head', unfreeze=False)\n",
    "            #freeze_weights(self, 'fc_out', unfreeze=False)\n",
    "            \n",
    "        \n",
    "    def log_energies(self, key, ep, x):\n",
    "        \n",
    "        phase = ('vld','trn')[self.training]        \n",
    "        if key not in self.energies[phase].keys():\n",
    "            self.energies[phase][key] = {}\n",
    "        if ep not in self.energies[phase][key].keys():                \n",
    "            self.energies[phase][key][ep] = []    \n",
    "        self.energies[phase][key][ep].append(x)\n",
    "        \n",
    "    \n",
    "    def forward(self, x, ep, es=None):\n",
    "        \n",
    "        # x - torch.Size([2000, 72, 2]) \n",
    "        m = x.shape[0]\n",
    "        #device=next(self.parameters()).device\n",
    "        #device='cpu' #torch.device('cpu')\n",
    "        device = x.device.type\n",
    "        \n",
    "\n",
    "        x0 = self.input_embedding(x)                  # torch.Size([2000, 32, 1])\n",
    "        \n",
    "        x1 = x0 + self.positional_encoding(x0).to(device) # + torch.Size([32, 1]) \n",
    "        \n",
    "  \n",
    "        #x2 = self.encoder(x1)                         # torch.Size([2000, 32, 1]) \n",
    "        \n",
    "        x_in = x1\n",
    "        for i, enc_block in enumerate(self.encoder):\n",
    "            x2 = enc_block.forward(x_in, ep, i)\n",
    "            x_in = x2                                  # torch.Size([2000, d_k, d_imp_embed_size]) , torch.Size([2000, 72, 8])    \n",
    "            self.log_energies(f\"enc{i}\", ep, x2.clone().detach().cpu().numpy())\n",
    "        \n",
    "        self.log_energies(f\"enc{i}fci\", ep, x2.clone().detach().cpu().numpy())\n",
    "               \n",
    "        # x3 = self.fc_out(x2)                          # v1: torch.Size([2000, 72, 1])\n",
    "        # self.log_energies(f\"enc{i}fco\", ep, x3.clone().detach().cpu().numpy())\n",
    "        x3 = x_in                                       # v2: torch.Size([2000, 72, 8])\n",
    "        \n",
    "        # x4 = x3.reshape(m, 1, self.d_k)                   # v1: torch.Size([2000, 1, 72])\n",
    "        x4 = x3.reshape(m, self.d_inp_embed_size, self.d_k) # v2: torch.Size([2000, 8, 72])\n",
    "        \n",
    "        \n",
    "        if es is None or (self.progressive_training is not None and es.val_loss_min != np.Inf and es.counter > self.progressive_training):\n",
    "            freeze_weights(self, 'custom_task_head', unfreeze=True)\n",
    "            #freeze_weights(self, 'fc_out', unfreeze=True)\n",
    "        else:\n",
    "            print(\"custom_task_head frozen\")\n",
    "        \n",
    "        \n",
    "        # before:\n",
    "        # nn.Linear(d_k, d_k),\n",
    "        # #nn.ReLU(), \n",
    "        # reshape\n",
    "        # nn.Linear(d_k, d_k),\n",
    "        # nn.ReLU(),\n",
    "        # nn.Dropout(dropr),\n",
    "        # nn.Linear(d_inp_embed_size, 1)\n",
    "        \n",
    "        # nn.Linear(d_k, d_k),            # torch.Size([2000, 72, 8])\n",
    "        # nn.ReLU(),                      # afterwards\n",
    "        # reshape(m, 8, d_k),             # before\n",
    "        # nn.Linear(d_k, d_k),            # torch.Size([2000, 72, 8])\n",
    "        # nn.ReLU(),                      # before\n",
    "        ## nn.Dropout(dropr),              # before\n",
    "        # nn.Linear(d_inp_embed_size, 1)  # torch.Size([2000, 72, 1])\n",
    "        # reshape(m, 1, d_k),             # after\n",
    "        # nn.Linear(d_k, 1)               # torch.Size([2000, 1, 1])\n",
    "        # nn.Dropout(dropr),              # after\n",
    "        \n",
    "        \n",
    "        x5 = self.custom_task_head(x4)                # torch.Size([2000, 1, 1])\n",
    "        \n",
    "        \n",
    "        self.log_energies(f\"enc{i}ct\", ep, x5.clone().detach().cpu().numpy())\n",
    "        \n",
    "        x6 = torch.sigmoid(x5)                        # torch.Size([2000, 1, 1])\n",
    "        \n",
    "        self.log_energies(f\"enc{i}sio\", ep, x6.clone().detach().cpu().numpy())\n",
    "        \n",
    "        x7 = x6.squeeze(2)                            # torch.Size([2000, 1])\n",
    "        \n",
    "        return x7\n",
    "    \n",
    "\n",
    "m = x.shape[0] # samples\n",
    "n = x.shape[1] # seq_len (trajectory steps - concatenated sample features)\n",
    "f = x.shape[2] # entity step features\n",
    "# torch.Size([2000, 72, 2])\n",
    "\n",
    "\n",
    "d_inp_size = 72 # d_k = 72 # d_model\n",
    "d_step_feat = 2\n",
    "d_k = d_inp_size # = d_model = d_inp_size = 72 \n",
    "d_model = 72 # = d_k = d_inp_size = 72 (Karpathy d_model!=d_k) #  d_q = d_k = d_v = d_model  # todo: 4, 8, 16, 32, 72, 100, 512, 2048 (32 d_model test karpathy)\n",
    "d_inp_embed_size = 8 # v2: 8 (tutorial+student) v1: 1 \n",
    "d_ffn_embed_size = 2048 #512 #2048 # (Vaswani et al.)\n",
    "num_heads = 8 # v2: 8 v1: 8 (nach opt 1)\n",
    "num_layers = 4\n",
    "num_nonlinearity_layers=2\n",
    "\n",
    "t1a = time.time()\n",
    "#model = GADFormer(d_step_feat=f, d_inp_size=d_inp_size, d_inp_embed_size=d_inp_embed_size, d_k=d_k, d_ffn_embed_size=d_ffn_embed_size, num_heads=num_heads)\n",
    "model = GADFormer(d_step_feat=f, d_inp_size=d_inp_size, d_inp_embed_size=d_inp_embed_size, d_ffn_embed_size=d_ffn_embed_size, num_heads=num_heads, \n",
    "                  num_layers=num_layers, num_nonlinearity_layers=num_nonlinearity_layers, dropr=0.0, save_attn=True, winit_orig=True, progressive_training=None)\n",
    "\n",
    "t2a = time.time()\n",
    "print(t2a-t1a)\n",
    "print(\"**\")\n",
    "#output = model.forward(x.float())\n",
    "output = model.forward(x.float(), 0)\n",
    "t3a = time.time()\n",
    "print(t3a-t2a)\n",
    "output.shape # torch.Size([2000, 1])"
   ]
  },
  {
   "cell_type": "code",
   "execution_count": 21,
   "id": "4f85b52b",
   "metadata": {},
   "outputs": [
    {
     "data": {
      "text/plain": [
       "(2000, 72, 72)"
      ]
     },
     "execution_count": 21,
     "metadata": {},
     "output_type": "execute_result"
    }
   ],
   "source": [
    "model.encoder[0].attn[0].shape"
   ]
  },
  {
   "cell_type": "code",
   "execution_count": null,
   "id": "04b60fb7",
   "metadata": {},
   "outputs": [],
   "source": []
  },
  {
   "cell_type": "code",
   "execution_count": 22,
   "id": "01788e6f",
   "metadata": {},
   "outputs": [],
   "source": [
    "#%pip install pytorch-optimizer"
   ]
  },
  {
   "cell_type": "code",
   "execution_count": null,
   "id": "f00e8e2f",
   "metadata": {},
   "outputs": [],
   "source": []
  },
  {
   "cell_type": "code",
   "execution_count": 23,
   "id": "4ac0abac",
   "metadata": {},
   "outputs": [],
   "source": [
    "# dict_keys(['k', 'data', 'labels', 'size', 'mode', 'details', 'anomalies', 'normals'])"
   ]
  },
  {
   "cell_type": "code",
   "execution_count": null,
   "id": "a04cb582",
   "metadata": {},
   "outputs": [],
   "source": []
  },
  {
   "cell_type": "code",
   "execution_count": 24,
   "id": "79079d6c",
   "metadata": {},
   "outputs": [],
   "source": [
    "def train_model(model, dl_trn, dl_vld, args, dict_hist):\n",
    "\n",
    "    avg_trn_losses = []\n",
    "    avg_vld_losses = []\n",
    "\n",
    "    import pytorch_optimizer\n",
    "    # NAdam, Ranger, AdamP, AdamW (wd!=0), SGD\n",
    "\n",
    "    optimizer = torch.optim.RAdam(model.parameters(), lr=args.lr, betas=(0.9, 0.999), eps=1e-08, weight_decay=args.wd) \n",
    "    scheduler = ReduceLROnPlateau(optimizer, mode='min', threshold_mode ='abs', threshold=1e-4, factor=0.1, patience=args.pat_sched, min_lr=args.min_lr, eps=1e-08, verbose=True) # RAdam\n",
    "\n",
    "    #device = next(model.parameters()).device\n",
    "    device='cuda'\n",
    "    model=model.to(device)\n",
    "\n",
    "    early_stopping = EarlyStopping(None, args.model_file_path, patience=args.pat_es, verbose=True)\n",
    "\n",
    "    for epoch_idx in range(args.epochs):\n",
    "\n",
    "        model.train()\n",
    "\n",
    "        loss_trn_list = []\n",
    "        y_hat_score_list = []\n",
    "        y_true_list = []\n",
    "\n",
    "        for batch_idx, (x_batch, _) in enumerate(tqdm(dl_trn)):\n",
    "            optimizer.zero_grad()\n",
    "\n",
    "            bs = x_batch.shape[0]\n",
    "            seq_len = x_batch.shape[1]\n",
    "\n",
    "            x_batch = x_batch.float().to(device)\n",
    "            y_aux_labels = torch.tensor((bs*[0.])).unsqueeze(1) # auxilary target label based on assumption of the majority of normal groups\n",
    "            y_aux_labels = y_aux_labels.float().to(device)\n",
    "\n",
    "            #y_hat_score = model.forward(x_batch) # predicted probability for an abnormal group (0. = normal group)\n",
    "            y_hat_score = model.forward(x_batch, epoch_idx) # predicted probability for an abnormal group (0. = normal group)\n",
    "\n",
    "            #loss = loss_fn(y_hat_score, y_aux_labels)  \n",
    "            loss = F.binary_cross_entropy(y_hat_score, y_aux_labels)\n",
    "\n",
    "            loss.backward()    \n",
    "            if args.clip_value is not None:\n",
    "                #clip_grad_value_(model.parameters(), clip_value=args.clip_value)\n",
    "                clip_grad_norm_(model.parameters(), max_norm=args.clip_value)\n",
    "            optimizer.step()       \n",
    "\n",
    "\n",
    "            loss_trn_list.append(loss.item())\n",
    "\n",
    "            y_hat_score_list.extend(y_hat_score.clone().detach().cpu().numpy().ravel())\n",
    "            y_true_list.extend(y_aux_labels.clone().detach().cpu().numpy().ravel())\n",
    "\n",
    "\n",
    "        dict_hist['trn']['y_hat_scores'].append(y_hat_score_list)    \n",
    "        dict_hist['trn']['y_true'].append(y_true_list)    \n",
    "        avg_trn_losses.append(np.mean(loss_trn_list))\n",
    "        dict_hist['trn']['losses'].append(avg_trn_losses[-1])\n",
    "\n",
    "\n",
    "        model.eval()\n",
    "\n",
    "        loss_vld_list = []\n",
    "        y_hat_score_list = []\n",
    "        y_true_list = []\n",
    "\n",
    "        # validate --\n",
    "        with torch.no_grad():\n",
    "            for batch_idx, (x_batch, y_true_batch_labels) in enumerate(tqdm(dl_vld)):\n",
    "\n",
    "                bs = x_batch.shape[0]\n",
    "                seq_len = x_batch.shape[1]\n",
    "\n",
    "                x_batch = x_batch.float().to(device)\n",
    "                y_true_batch_labels = y_true_batch_labels.unsqueeze(1)\n",
    "                y_true_batch_labels = y_true_batch_labels.float().to(device)\n",
    "\n",
    "                #y_hat_score = model.forward(x_batch) # predicted probability for an abnormal group (0. = normal group)\n",
    "                y_hat_score = model.forward(x_batch, epoch_idx, early_stopping) # predicted probability for an abnormal group (0. = normal group)\n",
    "\n",
    "                #loss_ = loss_fn(y_hat_score, y_true_batch_labels)\n",
    "                loss_ = F.binary_cross_entropy(y_hat_score, y_true_batch_labels) \n",
    "\n",
    "                loss_vld_list.append(loss_.item())          \n",
    "\n",
    "                y_hat_score_list.extend(y_hat_score.clone().detach().cpu().numpy().ravel())\n",
    "                y_true_list.extend(y_true_batch_labels.clone().detach().cpu().numpy().ravel())\n",
    "        # validate --\n",
    "        \n",
    "        dict_hist['vld']['y_hat_scores'].append(y_hat_score_list)        \n",
    "        dict_hist['vld']['y_true'].append(y_true_list)   \n",
    "        avg_vld_losses.append(np.mean(loss_vld_list))\n",
    "        dict_hist['vld']['losses'].append(avg_vld_losses[-1]) \n",
    "\n",
    "        auroc = roc_auc_score(np.array(y_true_list), np.array(y_hat_score_list))\n",
    "        auprc = average_precision_score(np.array(y_true_list), np.array(y_hat_score_list))\n",
    "        dict_hist['vld']['auroc'].append(auroc)\n",
    "        dict_hist['vld']['auprc'].append(auprc)\n",
    "\n",
    "        if args.valid_loss_only: # original: valid_loss_only=True\n",
    "            es_score = avg_vld_losses[-1] # original\n",
    "            dict_hist['cp2'].append(es_score)\n",
    "            dict_hist['cp'].append(es_score)\n",
    "            #early_stopping(es_score, model, val_loss, epoch_idx, (avg_vld_losses[-1] >= avg_trn_losses[-1]))\n",
    "            early_stopping(es_score, avg_vld_losses[-1], model, epoch_idx, True)\n",
    "        else:\n",
    "            ### optional ###\n",
    "            ld = np.abs(avg_trn_losses[-1] - avg_vld_losses[-1])\n",
    "            pe = np.abs(max(0., avg_trn_losses[-1] - avg_vld_losses[-1]))\n",
    "            cld = avg_trn_losses[-1] + ld\n",
    "            if len(avg_trn_losses) > 1:\n",
    "                tld = avg_trn_losses[-2] - avg_trn_losses[-1]\n",
    "                vld = avg_vld_losses[-2] - avg_vld_losses[-1]\n",
    "                ld_prev = np.abs(avg_trn_losses[-1] - avg_vld_losses[-1])\n",
    "                cld_prev = avg_trn_losses[-2] + ld_prev\n",
    "                dict_hist['cp2'].append(((ld+ld_prev)/2)-((vld+tld)/2))\n",
    "                dict_hist['cp'].append(((ld+ld_prev)/2)+pe-(vld+tld))\n",
    "            else:\n",
    "                dict_hist['cp2'].append(cld)\n",
    "                dict_hist['cp'].append(cld)\n",
    "            es_score = dict_hist['cp'][-1]\n",
    "            early_stopping(es_score, avg_vld_losses[-1], model, epoch_idx, True)\n",
    "            ### optional ###\n",
    "\n",
    "\n",
    "        prec=5\n",
    "        print(f\"{epoch_idx} trn|vld|cp[{round(avg_trn_losses[-1],prec)}|{round(avg_vld_losses[-1],prec)}|{round(dict_hist['cp'][-1],prec)}] - best score: {round(early_stopping.es_score_min,prec)} ({early_stopping.es_score_min_epoch})\")\n",
    "\n",
    "        if early_stopping.early_stop:\n",
    "            print('Early Stop!')\n",
    "            break\n",
    "        else:\n",
    "            #scheduler.step()\n",
    "            if args.pat_sched >= 0: scheduler.step(early_stopping.val_loss_min)\n",
    "                \n",
    "    return dict_hist"
   ]
  },
  {
   "cell_type": "code",
   "execution_count": 25,
   "id": "eb6ada3d",
   "metadata": {},
   "outputs": [],
   "source": [
    "def test_model(model, dl_tst, args, dict_hist):\n",
    "    \n",
    "    model.load_state_dict(torch.load(args.model_file_path))\n",
    "    \n",
    "    model.eval()\n",
    "\n",
    "    loss_tst_list = []\n",
    "    y_hat_score_tst_list = []\n",
    "    y_true_tst_list = []\n",
    "\n",
    "    # test --\n",
    "    with torch.no_grad():\n",
    "        for batch_idx, (x_batch, y_true_batch_labels) in enumerate(tqdm(dl_tst)):\n",
    "\n",
    "            bs = x_batch.shape[0]\n",
    "            seq_len = x_batch.shape[1]\n",
    "\n",
    "            x_batch = x_batch.float().to(device)\n",
    "            y_true_batch_labels = y_true_batch_labels.unsqueeze(1)\n",
    "            y_true_batch_labels = y_true_batch_labels.float().to(device)\n",
    "\n",
    "            #y_hat_score = model.forward(x_batch) # predicted probability for an abnormal group (0. = normal group)\n",
    "            y_hat_score = model.forward(x_batch, 0, None) # predicted probability for an abnormal group (0. = normal group)\n",
    "\n",
    "            #loss_ = loss_fn(y_hat_score, y_true_batch_labels)\n",
    "            loss_ = F.binary_cross_entropy(y_hat_score, y_true_batch_labels) \n",
    "    \n",
    "            loss_tst_list.append(loss_.item())          \n",
    "\n",
    "            y_hat_score_tst_list.extend(y_hat_score.clone().detach().cpu().numpy().ravel())\n",
    "            y_true_tst_list.extend(y_true_batch_labels.clone().detach().cpu().numpy().ravel())\n",
    "    # test --\n",
    "\n",
    "    dict_hist['tst']['y_hat_scores'].append(y_hat_score_tst_list)        \n",
    "    dict_hist['tst']['y_true'].append(y_true_tst_list)   \n",
    "    avg_tst_loss = np.mean(loss_tst_list)\n",
    "    dict_hist['tst']['losses'].append(avg_tst_loss) # todo: dict_hist['tst']['loss'].append(avg_tst_loss)\n",
    "\n",
    "    auroc = roc_auc_score(np.array(y_true_tst_list), np.array(y_hat_score_tst_list))\n",
    "    auprc = average_precision_score(np.array(y_true_tst_list), np.array(y_hat_score_tst_list))\n",
    "    dict_hist['tst']['auroc'].append(auroc)\n",
    "    dict_hist['tst']['auprc'].append(auprc)\n",
    "    \n",
    "    return dict_hist"
   ]
  },
  {
   "cell_type": "code",
   "execution_count": 27,
   "id": "fd986dda",
   "metadata": {},
   "outputs": [
    {
     "name": "stdout",
     "output_type": "stream",
     "text": [
      " ################ SEED 0 ################\n",
      "\n",
      "-------------Creating *train* dataset from dataset file ./datasets/files_valid/Trajectorys2_72_2000_anom.csv -----\n",
      "\n",
      "        Step  Entity  X_Coord  Y_Coord  Label\n",
      "0          0       1      1.0     -1.0      0\n",
      "1          0       2      3.0      6.0      0\n",
      "2          0       3      3.0     -4.0      0\n",
      "3          0       4      1.0      3.0      0\n",
      "4          0       5      1.0      1.0      0\n",
      "...      ...     ...      ...      ...    ...\n",
      "143995    71    1996    148.0     73.0      0\n",
      "143996    71    1997    156.0     44.0      0\n",
      "143997    71    1998    145.0     48.0      0\n",
      "143998    71    1999    147.0     87.0      0\n",
      "143999    71    2000    158.0     97.0      0\n",
      "\n",
      "[144000 rows x 5 columns]\n",
      "trajectory length: 72, abnormal trajectories: 188/2000\n",
      "\n",
      "-------------Creating *valid* dataset from dataset file ./datasets/files_valid/Trajectorys2_72_1000_anom.csv -----\n",
      "\n",
      "       Step  Entity  X_Coord  Y_Coord  Label\n",
      "0         0       1      3.0      5.0      0\n",
      "1         0       2      2.0      4.0      0\n",
      "2         0       3      3.0     -3.0      0\n",
      "3         0       4      3.0      7.0      0\n",
      "4         0       5      3.0      6.0      0\n",
      "...     ...     ...      ...      ...    ...\n",
      "71995    71     996    163.0     66.0      0\n",
      "71996    71     997    154.0     74.0      0\n",
      "71997    71     998    153.0     81.0      0\n",
      "71998    71     999    141.0     82.0      0\n",
      "71999    71    1000    148.0     75.0      0\n",
      "\n",
      "[72000 rows x 5 columns]\n",
      "trajectory length: 72, abnormal trajectories: 92/1000\n",
      "\n",
      "-------------Creating *test* dataset from dataset file ./datasets/files_valid/Trajectorys2_72_400_anom.csv -----\n",
      "\n",
      "       Step  Entity  X_Coord  Y_Coord  Label\n",
      "0         0       1      1.0     -4.0      0\n",
      "1         0       2      3.0      5.0      0\n",
      "2         0       3      3.0      2.0      0\n",
      "3         0       4      1.0     -4.0      0\n",
      "4         0       5      1.0     -4.0      0\n",
      "...     ...     ...      ...      ...    ...\n",
      "28795    71     396    142.0    125.0      0\n",
      "28796    71     397    148.0     26.0      0\n",
      "28797    71     398    102.0     97.0      1\n",
      "28798    71     399    146.0    116.0      0\n",
      "28799    71     400    138.0     35.0      0\n",
      "\n",
      "[28800 rows x 5 columns]\n",
      "trajectory length: 72, abnormal trajectories: 37/400\n"
     ]
    },
    {
     "name": "stderr",
     "output_type": "stream",
     "text": [
      "100%|██████████| 8/8 [00:05<00:00,  1.39it/s]\n",
      " 50%|█████     | 2/4 [00:02<00:02,  1.19s/it]"
     ]
    },
    {
     "name": "stdout",
     "output_type": "stream",
     "text": [
      "custom_task_head frozen\n",
      "custom_task_head frozen\n"
     ]
    },
    {
     "name": "stderr",
     "output_type": "stream",
     "text": [
      "100%|██████████| 4/4 [00:03<00:00,  1.98it/s]"
     ]
    },
    {
     "name": "stdout",
     "output_type": "stream",
     "text": [
      "custom_task_head frozen\n",
      "custom_task_head frozen\n"
     ]
    },
    {
     "name": "stderr",
     "output_type": "stream",
     "text": [
      "100%|██████████| 4/4 [00:03<00:00,  1.02it/s]\n"
     ]
    },
    {
     "name": "stdout",
     "output_type": "stream",
     "text": [
      "Score decreased (inf --> 0.675282).  Saving model ./temp/gadformer_checkpoint.pt ...\n",
      "0 trn|vld|cp[0.74236|0.67528|0.67528] - best score: 0.67528 (0)\n"
     ]
    },
    {
     "name": "stderr",
     "output_type": "stream",
     "text": [
      "100%|██████████| 8/8 [00:05<00:00,  1.36it/s]\n",
      " 50%|█████     | 2/4 [00:03<00:02,  1.39s/it]"
     ]
    },
    {
     "name": "stdout",
     "output_type": "stream",
     "text": [
      "custom_task_head frozen\n",
      "custom_task_head frozen\n"
     ]
    },
    {
     "name": "stderr",
     "output_type": "stream",
     "text": [
      " 75%|███████▌  | 3/4 [00:03<00:00,  1.22it/s]"
     ]
    },
    {
     "name": "stdout",
     "output_type": "stream",
     "text": [
      "custom_task_head frozen\n"
     ]
    },
    {
     "name": "stderr",
     "output_type": "stream",
     "text": [
      "100%|██████████| 4/4 [00:03<00:00,  1.70it/s]"
     ]
    },
    {
     "name": "stdout",
     "output_type": "stream",
     "text": [
      "custom_task_head frozen\n"
     ]
    },
    {
     "name": "stderr",
     "output_type": "stream",
     "text": [
      "100%|██████████| 4/4 [00:04<00:00,  1.10s/it]\n"
     ]
    },
    {
     "name": "stdout",
     "output_type": "stream",
     "text": [
      "Score decreased (0.675282 --> 0.553198).  Saving model ./temp/gadformer_checkpoint.pt ...\n",
      "1 trn|vld|cp[0.59595|0.5532|0.5532] - best score: 0.5532 (1)\n"
     ]
    },
    {
     "name": "stderr",
     "output_type": "stream",
     "text": [
      "100%|██████████| 8/8 [00:05<00:00,  1.38it/s]\n",
      " 50%|█████     | 2/4 [00:03<00:02,  1.48s/it]"
     ]
    },
    {
     "name": "stdout",
     "output_type": "stream",
     "text": [
      "custom_task_head frozen\n",
      "custom_task_head frozen\n"
     ]
    },
    {
     "name": "stderr",
     "output_type": "stream",
     "text": [
      " 75%|███████▌  | 3/4 [00:03<00:00,  1.15it/s]"
     ]
    },
    {
     "name": "stdout",
     "output_type": "stream",
     "text": [
      "custom_task_head frozen\n",
      "custom_task_head frozen\n"
     ]
    },
    {
     "name": "stderr",
     "output_type": "stream",
     "text": [
      "100%|██████████| 4/4 [00:04<00:00,  1.15s/it]\n"
     ]
    },
    {
     "name": "stdout",
     "output_type": "stream",
     "text": [
      "Score decreased (0.553198 --> 0.481670).  Saving model ./temp/gadformer_checkpoint.pt ...\n",
      "2 trn|vld|cp[0.47355|0.48167|0.48167] - best score: 0.48167 (2)\n"
     ]
    },
    {
     "name": "stderr",
     "output_type": "stream",
     "text": [
      "100%|██████████| 8/8 [00:05<00:00,  1.46it/s]\n",
      " 50%|█████     | 2/4 [00:02<00:02,  1.18s/it]"
     ]
    },
    {
     "name": "stdout",
     "output_type": "stream",
     "text": [
      "custom_task_head frozen\n",
      "custom_task_head frozen\n"
     ]
    },
    {
     "name": "stderr",
     "output_type": "stream",
     "text": [
      " 75%|███████▌  | 3/4 [00:02<00:00,  1.43it/s]"
     ]
    },
    {
     "name": "stdout",
     "output_type": "stream",
     "text": [
      "custom_task_head frozen\n"
     ]
    },
    {
     "name": "stderr",
     "output_type": "stream",
     "text": [
      "100%|██████████| 4/4 [00:03<00:00,  1.95it/s]"
     ]
    },
    {
     "name": "stdout",
     "output_type": "stream",
     "text": [
      "custom_task_head frozen\n"
     ]
    },
    {
     "name": "stderr",
     "output_type": "stream",
     "text": [
      "100%|██████████| 4/4 [00:03<00:00,  1.05it/s]\n"
     ]
    },
    {
     "name": "stdout",
     "output_type": "stream",
     "text": [
      "Score decreased (0.481670 --> 0.430970).  Saving model ./temp/gadformer_checkpoint.pt ...\n",
      "3 trn|vld|cp[0.39067|0.43097|0.43097] - best score: 0.43097 (3)\n"
     ]
    },
    {
     "name": "stderr",
     "output_type": "stream",
     "text": [
      "100%|██████████| 8/8 [00:05<00:00,  1.39it/s]\n",
      " 50%|█████     | 2/4 [00:03<00:02,  1.28s/it]"
     ]
    },
    {
     "name": "stdout",
     "output_type": "stream",
     "text": [
      "custom_task_head frozen\n",
      "custom_task_head frozen\n"
     ]
    },
    {
     "name": "stderr",
     "output_type": "stream",
     "text": [
      " 75%|███████▌  | 3/4 [00:03<00:00,  1.28it/s]"
     ]
    },
    {
     "name": "stdout",
     "output_type": "stream",
     "text": [
      "custom_task_head frozen\n"
     ]
    },
    {
     "name": "stderr",
     "output_type": "stream",
     "text": [
      "100%|██████████| 4/4 [00:03<00:00,  1.77it/s]"
     ]
    },
    {
     "name": "stdout",
     "output_type": "stream",
     "text": [
      "custom_task_head frozen\n"
     ]
    },
    {
     "name": "stderr",
     "output_type": "stream",
     "text": [
      "100%|██████████| 4/4 [00:04<00:00,  1.05s/it]\n"
     ]
    },
    {
     "name": "stdout",
     "output_type": "stream",
     "text": [
      "Score decreased (0.430970 --> 0.389795).  Saving model ./temp/gadformer_checkpoint.pt ...\n",
      "4 trn|vld|cp[0.32464|0.3898|0.3898] - best score: 0.3898 (4)\n"
     ]
    },
    {
     "name": "stderr",
     "output_type": "stream",
     "text": [
      "100%|██████████| 8/8 [00:05<00:00,  1.34it/s]\n",
      " 50%|█████     | 2/4 [00:03<00:02,  1.33s/it]"
     ]
    },
    {
     "name": "stdout",
     "output_type": "stream",
     "text": [
      "custom_task_head frozen\n",
      "custom_task_head frozen\n"
     ]
    },
    {
     "name": "stderr",
     "output_type": "stream",
     "text": [
      " 75%|███████▌  | 3/4 [00:03<00:00,  1.25it/s]"
     ]
    },
    {
     "name": "stdout",
     "output_type": "stream",
     "text": [
      "custom_task_head frozen\n"
     ]
    },
    {
     "name": "stderr",
     "output_type": "stream",
     "text": [
      "100%|██████████| 4/4 [00:03<00:00,  1.76it/s]"
     ]
    },
    {
     "name": "stdout",
     "output_type": "stream",
     "text": [
      "custom_task_head frozen\n"
     ]
    },
    {
     "name": "stderr",
     "output_type": "stream",
     "text": [
      "100%|██████████| 4/4 [00:04<00:00,  1.07s/it]\n"
     ]
    },
    {
     "name": "stdout",
     "output_type": "stream",
     "text": [
      "Score decreased (0.389795 --> 0.356186).  Saving model ./temp/gadformer_checkpoint.pt ...\n",
      "5 trn|vld|cp[0.26768|0.35619|0.35619] - best score: 0.35619 (5)\n"
     ]
    },
    {
     "name": "stderr",
     "output_type": "stream",
     "text": [
      "100%|██████████| 8/8 [00:05<00:00,  1.38it/s]\n",
      " 50%|█████     | 2/4 [00:02<00:02,  1.20s/it]"
     ]
    },
    {
     "name": "stdout",
     "output_type": "stream",
     "text": [
      "custom_task_head frozen\n",
      "custom_task_head frozen\n"
     ]
    },
    {
     "name": "stderr",
     "output_type": "stream",
     "text": [
      "100%|██████████| 4/4 [00:03<00:00,  1.98it/s]"
     ]
    },
    {
     "name": "stdout",
     "output_type": "stream",
     "text": [
      "custom_task_head frozen\n",
      "custom_task_head frozen\n"
     ]
    },
    {
     "name": "stderr",
     "output_type": "stream",
     "text": [
      "100%|██████████| 4/4 [00:03<00:00,  1.04it/s]\n"
     ]
    },
    {
     "name": "stdout",
     "output_type": "stream",
     "text": [
      "Score decreased (0.356186 --> 0.330838).  Saving model ./temp/gadformer_checkpoint.pt ...\n",
      "6 trn|vld|cp[0.21821|0.33084|0.33084] - best score: 0.33084 (6)\n"
     ]
    },
    {
     "name": "stderr",
     "output_type": "stream",
     "text": [
      "100%|██████████| 8/8 [00:05<00:00,  1.40it/s]\n",
      " 50%|█████     | 2/4 [00:03<00:02,  1.31s/it]"
     ]
    },
    {
     "name": "stdout",
     "output_type": "stream",
     "text": [
      "custom_task_head frozen\n",
      "custom_task_head frozen\n"
     ]
    },
    {
     "name": "stderr",
     "output_type": "stream",
     "text": [
      "100%|██████████| 4/4 [00:03<00:00,  1.84it/s]"
     ]
    },
    {
     "name": "stdout",
     "output_type": "stream",
     "text": [
      "custom_task_head frozen\n",
      "custom_task_head frozen\n"
     ]
    },
    {
     "name": "stderr",
     "output_type": "stream",
     "text": [
      "100%|██████████| 4/4 [00:04<00:00,  1.04s/it]\n"
     ]
    },
    {
     "name": "stdout",
     "output_type": "stream",
     "text": [
      "Score decreased (0.330838 --> 0.313086).  Saving model ./temp/gadformer_checkpoint.pt ...\n",
      "7 trn|vld|cp[0.17263|0.31309|0.31309] - best score: 0.31309 (7)\n"
     ]
    },
    {
     "name": "stderr",
     "output_type": "stream",
     "text": [
      "100%|██████████| 8/8 [00:05<00:00,  1.42it/s]\n",
      " 25%|██▌       | 1/4 [00:02<00:08,  2.80s/it]"
     ]
    },
    {
     "name": "stdout",
     "output_type": "stream",
     "text": [
      "custom_task_head frozen\n"
     ]
    },
    {
     "name": "stderr",
     "output_type": "stream",
     "text": [
      " 75%|███████▌  | 3/4 [00:03<00:00,  1.31it/s]"
     ]
    },
    {
     "name": "stdout",
     "output_type": "stream",
     "text": [
      "custom_task_head frozen\n",
      "custom_task_head frozen\n"
     ]
    },
    {
     "name": "stderr",
     "output_type": "stream",
     "text": [
      "100%|██████████| 4/4 [00:03<00:00,  1.84it/s]"
     ]
    },
    {
     "name": "stdout",
     "output_type": "stream",
     "text": [
      "custom_task_head frozen\n"
     ]
    },
    {
     "name": "stderr",
     "output_type": "stream",
     "text": [
      "100%|██████████| 4/4 [00:04<00:00,  1.02s/it]\n"
     ]
    },
    {
     "name": "stdout",
     "output_type": "stream",
     "text": [
      "Score decreased (0.313086 --> 0.302917).  Saving model ./temp/gadformer_checkpoint.pt ...\n",
      "8 trn|vld|cp[0.1326|0.30292|0.30292] - best score: 0.30292 (8)\n"
     ]
    },
    {
     "name": "stderr",
     "output_type": "stream",
     "text": [
      "100%|██████████| 8/8 [00:06<00:00,  1.23it/s]\n",
      " 50%|█████     | 2/4 [00:03<00:02,  1.44s/it]"
     ]
    },
    {
     "name": "stdout",
     "output_type": "stream",
     "text": [
      "custom_task_head frozen\n",
      "custom_task_head frozen\n"
     ]
    },
    {
     "name": "stderr",
     "output_type": "stream",
     "text": [
      "100%|██████████| 4/4 [00:03<00:00,  1.71it/s]"
     ]
    },
    {
     "name": "stdout",
     "output_type": "stream",
     "text": [
      "custom_task_head frozen\n",
      "custom_task_head frozen\n"
     ]
    },
    {
     "name": "stderr",
     "output_type": "stream",
     "text": [
      "100%|██████████| 4/4 [00:04<00:00,  1.13s/it]\n"
     ]
    },
    {
     "name": "stdout",
     "output_type": "stream",
     "text": [
      "Score decreased (0.302917 --> 0.302295).  Saving model ./temp/gadformer_checkpoint.pt ...\n",
      "9 trn|vld|cp[0.09902|0.30229|0.30229] - best score: 0.30229 (9)\n"
     ]
    },
    {
     "name": "stderr",
     "output_type": "stream",
     "text": [
      "100%|██████████| 8/8 [00:06<00:00,  1.32it/s]\n",
      " 25%|██▌       | 1/4 [00:02<00:08,  2.97s/it]"
     ]
    },
    {
     "name": "stdout",
     "output_type": "stream",
     "text": [
      "custom_task_head frozen\n"
     ]
    },
    {
     "name": "stderr",
     "output_type": "stream",
     "text": [
      " 75%|███████▌  | 3/4 [00:03<00:00,  1.25it/s]"
     ]
    },
    {
     "name": "stdout",
     "output_type": "stream",
     "text": [
      "custom_task_head frozen\n",
      "custom_task_head frozen\n"
     ]
    },
    {
     "name": "stderr",
     "output_type": "stream",
     "text": [
      "100%|██████████| 4/4 [00:03<00:00,  1.79it/s]"
     ]
    },
    {
     "name": "stdout",
     "output_type": "stream",
     "text": [
      "custom_task_head frozen\n"
     ]
    },
    {
     "name": "stderr",
     "output_type": "stream",
     "text": [
      "100%|██████████| 4/4 [00:04<00:00,  1.08s/it]\n"
     ]
    },
    {
     "name": "stdout",
     "output_type": "stream",
     "text": [
      "EarlyStopping counter: 1 out of 5\n",
      "10 trn|vld|cp[0.07243|0.30946|0.30946] - best score: 0.30229 (9)\n",
      "Epoch 00011: reducing learning rate of group 0 to 1.0000e-04.\n"
     ]
    },
    {
     "name": "stderr",
     "output_type": "stream",
     "text": [
      "100%|██████████| 8/8 [00:05<00:00,  1.34it/s]\n",
      "100%|██████████| 4/4 [00:05<00:00,  1.27s/it]\n"
     ]
    },
    {
     "name": "stdout",
     "output_type": "stream",
     "text": [
      "EarlyStopping counter: 2 out of 5\n",
      "11 trn|vld|cp[0.05942|0.31076|0.31076] - best score: 0.30229 (9)\n",
      "Epoch 00012: reducing learning rate of group 0 to 1.0000e-05.\n"
     ]
    },
    {
     "name": "stderr",
     "output_type": "stream",
     "text": [
      "100%|██████████| 8/8 [00:06<00:00,  1.31it/s]\n",
      "100%|██████████| 4/4 [00:04<00:00,  1.04s/it]\n"
     ]
    },
    {
     "name": "stdout",
     "output_type": "stream",
     "text": [
      "EarlyStopping counter: 3 out of 5\n",
      "12 trn|vld|cp[0.05826|0.31089|0.31089] - best score: 0.30229 (9)\n",
      "Epoch 00013: reducing learning rate of group 0 to 1.0000e-06.\n"
     ]
    },
    {
     "name": "stderr",
     "output_type": "stream",
     "text": [
      "100%|██████████| 8/8 [00:06<00:00,  1.30it/s]\n",
      "100%|██████████| 4/4 [00:04<00:00,  1.07s/it]\n"
     ]
    },
    {
     "name": "stdout",
     "output_type": "stream",
     "text": [
      "EarlyStopping counter: 4 out of 5\n",
      "13 trn|vld|cp[0.05815|0.31091|0.31091] - best score: 0.30229 (9)\n"
     ]
    },
    {
     "name": "stderr",
     "output_type": "stream",
     "text": [
      "100%|██████████| 8/8 [00:05<00:00,  1.35it/s]\n",
      "100%|██████████| 4/4 [00:04<00:00,  1.04s/it]\n"
     ]
    },
    {
     "name": "stdout",
     "output_type": "stream",
     "text": [
      "EarlyStopping counter: 5 out of 5\n",
      "14 trn|vld|cp[0.05813|0.31092|0.31092] - best score: 0.30229 (9)\n",
      "Early Stop!\n"
     ]
    },
    {
     "name": "stderr",
     "output_type": "stream",
     "text": [
      "100%|██████████| 2/2 [00:03<00:00,  1.88s/it]\n"
     ]
    },
    {
     "name": "stdout",
     "output_type": "stream",
     "text": [
      " ################ SEED 0: AUROC: 0.90961 AUPRC: 0.73241 ################\n",
      " ################ SEED 1 ################\n",
      "\n",
      "-------------Creating *train* dataset from dataset file ./datasets/files_valid/Trajectorys2_72_2000_anom.csv -----\n",
      "\n",
      "        Step  Entity  X_Coord  Y_Coord  Label\n",
      "0          0       1      1.0     -1.0      0\n",
      "1          0       2      3.0      6.0      0\n",
      "2          0       3      3.0     -4.0      0\n",
      "3          0       4      1.0      3.0      0\n",
      "4          0       5      1.0      1.0      0\n",
      "...      ...     ...      ...      ...    ...\n",
      "143995    71    1996    148.0     73.0      0\n",
      "143996    71    1997    156.0     44.0      0\n",
      "143997    71    1998    145.0     48.0      0\n",
      "143998    71    1999    147.0     87.0      0\n",
      "143999    71    2000    158.0     97.0      0\n",
      "\n",
      "[144000 rows x 5 columns]\n",
      "trajectory length: 72, abnormal trajectories: 188/2000\n",
      "\n",
      "-------------Creating *valid* dataset from dataset file ./datasets/files_valid/Trajectorys2_72_1000_anom.csv -----\n",
      "\n",
      "       Step  Entity  X_Coord  Y_Coord  Label\n",
      "0         0       1      3.0      5.0      0\n",
      "1         0       2      2.0      4.0      0\n",
      "2         0       3      3.0     -3.0      0\n",
      "3         0       4      3.0      7.0      0\n",
      "4         0       5      3.0      6.0      0\n",
      "...     ...     ...      ...      ...    ...\n",
      "71995    71     996    163.0     66.0      0\n",
      "71996    71     997    154.0     74.0      0\n",
      "71997    71     998    153.0     81.0      0\n",
      "71998    71     999    141.0     82.0      0\n",
      "71999    71    1000    148.0     75.0      0\n",
      "\n",
      "[72000 rows x 5 columns]\n",
      "trajectory length: 72, abnormal trajectories: 92/1000\n",
      "\n",
      "-------------Creating *test* dataset from dataset file ./datasets/files_valid/Trajectorys2_72_400_anom.csv -----\n",
      "\n",
      "       Step  Entity  X_Coord  Y_Coord  Label\n",
      "0         0       1      1.0     -4.0      0\n",
      "1         0       2      3.0      5.0      0\n",
      "2         0       3      3.0      2.0      0\n",
      "3         0       4      1.0     -4.0      0\n",
      "4         0       5      1.0     -4.0      0\n",
      "...     ...     ...      ...      ...    ...\n",
      "28795    71     396    142.0    125.0      0\n",
      "28796    71     397    148.0     26.0      0\n",
      "28797    71     398    102.0     97.0      1\n",
      "28798    71     399    146.0    116.0      0\n",
      "28799    71     400    138.0     35.0      0\n",
      "\n",
      "[28800 rows x 5 columns]\n",
      "trajectory length: 72, abnormal trajectories: 37/400\n"
     ]
    },
    {
     "name": "stderr",
     "output_type": "stream",
     "text": [
      "100%|██████████| 8/8 [00:06<00:00,  1.31it/s]\n",
      " 25%|██▌       | 1/4 [00:03<00:09,  3.19s/it]"
     ]
    },
    {
     "name": "stdout",
     "output_type": "stream",
     "text": [
      "custom_task_head frozen\n"
     ]
    },
    {
     "name": "stderr",
     "output_type": "stream",
     "text": [
      " 75%|███████▌  | 3/4 [00:03<00:00,  1.17it/s]"
     ]
    },
    {
     "name": "stdout",
     "output_type": "stream",
     "text": [
      "custom_task_head frozen\n",
      "custom_task_head frozen\n"
     ]
    },
    {
     "name": "stderr",
     "output_type": "stream",
     "text": [
      "100%|██████████| 4/4 [00:03<00:00,  1.58it/s]"
     ]
    },
    {
     "name": "stdout",
     "output_type": "stream",
     "text": [
      "custom_task_head frozen\n"
     ]
    },
    {
     "name": "stderr",
     "output_type": "stream",
     "text": [
      "100%|██████████| 4/4 [00:04<00:00,  1.18s/it]\n"
     ]
    },
    {
     "name": "stdout",
     "output_type": "stream",
     "text": [
      "Score decreased (inf --> 0.633407).  Saving model ./temp/gadformer_checkpoint.pt ...\n",
      "0 trn|vld|cp[0.67523|0.63341|0.63341] - best score: 0.63341 (0)\n"
     ]
    },
    {
     "name": "stderr",
     "output_type": "stream",
     "text": [
      "100%|██████████| 8/8 [00:06<00:00,  1.28it/s]\n",
      " 50%|█████     | 2/4 [00:03<00:02,  1.27s/it]"
     ]
    },
    {
     "name": "stdout",
     "output_type": "stream",
     "text": [
      "custom_task_head frozen\n",
      "custom_task_head frozen\n"
     ]
    },
    {
     "name": "stderr",
     "output_type": "stream",
     "text": [
      " 75%|███████▌  | 3/4 [00:03<00:00,  1.34it/s]"
     ]
    },
    {
     "name": "stdout",
     "output_type": "stream",
     "text": [
      "custom_task_head frozen\n"
     ]
    },
    {
     "name": "stderr",
     "output_type": "stream",
     "text": [
      "100%|██████████| 4/4 [00:03<00:00,  1.83it/s]"
     ]
    },
    {
     "name": "stdout",
     "output_type": "stream",
     "text": [
      "custom_task_head frozen\n"
     ]
    },
    {
     "name": "stderr",
     "output_type": "stream",
     "text": [
      "100%|██████████| 4/4 [00:04<00:00,  1.03s/it]\n"
     ]
    },
    {
     "name": "stdout",
     "output_type": "stream",
     "text": [
      "Score decreased (0.633407 --> 0.529530).  Saving model ./temp/gadformer_checkpoint.pt ...\n",
      "1 trn|vld|cp[0.56765|0.52953|0.52953] - best score: 0.52953 (1)\n"
     ]
    },
    {
     "name": "stderr",
     "output_type": "stream",
     "text": [
      "100%|██████████| 8/8 [00:06<00:00,  1.28it/s]\n",
      " 25%|██▌       | 1/4 [00:03<00:10,  3.43s/it]"
     ]
    },
    {
     "name": "stdout",
     "output_type": "stream",
     "text": [
      "custom_task_head frozen\n"
     ]
    },
    {
     "name": "stderr",
     "output_type": "stream",
     "text": [
      " 50%|█████     | 2/4 [00:03<00:03,  1.59s/it]"
     ]
    },
    {
     "name": "stdout",
     "output_type": "stream",
     "text": [
      "custom_task_head frozen\n"
     ]
    },
    {
     "name": "stderr",
     "output_type": "stream",
     "text": [
      " 75%|███████▌  | 3/4 [00:03<00:00,  1.02it/s]"
     ]
    },
    {
     "name": "stdout",
     "output_type": "stream",
     "text": [
      "custom_task_head frozen\n"
     ]
    },
    {
     "name": "stderr",
     "output_type": "stream",
     "text": [
      "100%|██████████| 4/4 [00:04<00:00,  1.38it/s]"
     ]
    },
    {
     "name": "stdout",
     "output_type": "stream",
     "text": [
      "custom_task_head frozen\n"
     ]
    },
    {
     "name": "stderr",
     "output_type": "stream",
     "text": [
      "100%|██████████| 4/4 [00:05<00:00,  1.35s/it]\n"
     ]
    },
    {
     "name": "stdout",
     "output_type": "stream",
     "text": [
      "Score decreased (0.529530 --> 0.459453).  Saving model ./temp/gadformer_checkpoint.pt ...\n",
      "2 trn|vld|cp[0.44826|0.45945|0.45945] - best score: 0.45945 (2)\n"
     ]
    },
    {
     "name": "stderr",
     "output_type": "stream",
     "text": [
      "100%|██████████| 8/8 [00:06<00:00,  1.27it/s]\n",
      " 50%|█████     | 2/4 [00:03<00:02,  1.31s/it]"
     ]
    },
    {
     "name": "stdout",
     "output_type": "stream",
     "text": [
      "custom_task_head frozen\n",
      "custom_task_head frozen\n"
     ]
    },
    {
     "name": "stderr",
     "output_type": "stream",
     "text": [
      " 75%|███████▌  | 3/4 [00:03<00:00,  1.27it/s]"
     ]
    },
    {
     "name": "stdout",
     "output_type": "stream",
     "text": [
      "custom_task_head frozen\n"
     ]
    },
    {
     "name": "stderr",
     "output_type": "stream",
     "text": [
      "100%|██████████| 4/4 [00:03<00:00,  1.78it/s]"
     ]
    },
    {
     "name": "stdout",
     "output_type": "stream",
     "text": [
      "custom_task_head frozen\n"
     ]
    },
    {
     "name": "stderr",
     "output_type": "stream",
     "text": [
      "100%|██████████| 4/4 [00:04<00:00,  1.06s/it]\n"
     ]
    },
    {
     "name": "stdout",
     "output_type": "stream",
     "text": [
      "Score decreased (0.459453 --> 0.415259).  Saving model ./temp/gadformer_checkpoint.pt ...\n",
      "3 trn|vld|cp[0.3713|0.41526|0.41526] - best score: 0.41526 (3)\n"
     ]
    },
    {
     "name": "stderr",
     "output_type": "stream",
     "text": [
      "100%|██████████| 8/8 [00:05<00:00,  1.35it/s]\n",
      " 50%|█████     | 2/4 [00:02<00:02,  1.25s/it]"
     ]
    },
    {
     "name": "stdout",
     "output_type": "stream",
     "text": [
      "custom_task_head frozen\n",
      "custom_task_head frozen\n"
     ]
    },
    {
     "name": "stderr",
     "output_type": "stream",
     "text": [
      " 75%|███████▌  | 3/4 [00:03<00:00,  1.34it/s]"
     ]
    },
    {
     "name": "stdout",
     "output_type": "stream",
     "text": [
      "custom_task_head frozen\n"
     ]
    },
    {
     "name": "stderr",
     "output_type": "stream",
     "text": [
      "100%|██████████| 4/4 [00:03<00:00,  1.87it/s]"
     ]
    },
    {
     "name": "stdout",
     "output_type": "stream",
     "text": [
      "custom_task_head frozen\n"
     ]
    },
    {
     "name": "stderr",
     "output_type": "stream",
     "text": [
      "100%|██████████| 4/4 [00:04<00:00,  1.02s/it]\n"
     ]
    },
    {
     "name": "stdout",
     "output_type": "stream",
     "text": [
      "Score decreased (0.415259 --> 0.374853).  Saving model ./temp/gadformer_checkpoint.pt ...\n",
      "4 trn|vld|cp[0.30807|0.37485|0.37485] - best score: 0.37485 (4)\n"
     ]
    },
    {
     "name": "stderr",
     "output_type": "stream",
     "text": [
      "100%|██████████| 8/8 [00:05<00:00,  1.35it/s]\n",
      " 50%|█████     | 2/4 [00:03<00:02,  1.38s/it]"
     ]
    },
    {
     "name": "stdout",
     "output_type": "stream",
     "text": [
      "custom_task_head frozen\n",
      "custom_task_head frozen\n"
     ]
    },
    {
     "name": "stderr",
     "output_type": "stream",
     "text": [
      " 75%|███████▌  | 3/4 [00:03<00:00,  1.24it/s]"
     ]
    },
    {
     "name": "stdout",
     "output_type": "stream",
     "text": [
      "custom_task_head frozen\n"
     ]
    },
    {
     "name": "stderr",
     "output_type": "stream",
     "text": [
      "100%|██████████| 4/4 [00:03<00:00,  1.75it/s]"
     ]
    },
    {
     "name": "stdout",
     "output_type": "stream",
     "text": [
      "custom_task_head frozen\n"
     ]
    },
    {
     "name": "stderr",
     "output_type": "stream",
     "text": [
      "100%|██████████| 4/4 [00:04<00:00,  1.10s/it]\n"
     ]
    },
    {
     "name": "stdout",
     "output_type": "stream",
     "text": [
      "Score decreased (0.374853 --> 0.346190).  Saving model ./temp/gadformer_checkpoint.pt ...\n",
      "5 trn|vld|cp[0.25197|0.34619|0.34619] - best score: 0.34619 (5)\n"
     ]
    },
    {
     "name": "stderr",
     "output_type": "stream",
     "text": [
      "100%|██████████| 8/8 [00:06<00:00,  1.19it/s]\n",
      " 50%|█████     | 2/4 [00:03<00:02,  1.39s/it]"
     ]
    },
    {
     "name": "stdout",
     "output_type": "stream",
     "text": [
      "custom_task_head frozen\n",
      "custom_task_head frozen\n"
     ]
    },
    {
     "name": "stderr",
     "output_type": "stream",
     "text": [
      " 75%|███████▌  | 3/4 [00:03<00:00,  1.24it/s]"
     ]
    },
    {
     "name": "stdout",
     "output_type": "stream",
     "text": [
      "custom_task_head frozen\n"
     ]
    },
    {
     "name": "stderr",
     "output_type": "stream",
     "text": [
      "100%|██████████| 4/4 [00:03<00:00,  1.74it/s]"
     ]
    },
    {
     "name": "stdout",
     "output_type": "stream",
     "text": [
      "custom_task_head frozen\n"
     ]
    },
    {
     "name": "stderr",
     "output_type": "stream",
     "text": [
      "100%|██████████| 4/4 [00:04<00:00,  1.08s/it]\n"
     ]
    },
    {
     "name": "stdout",
     "output_type": "stream",
     "text": [
      "Score decreased (0.346190 --> 0.325261).  Saving model ./temp/gadformer_checkpoint.pt ...\n",
      "6 trn|vld|cp[0.20361|0.32526|0.32526] - best score: 0.32526 (6)\n"
     ]
    },
    {
     "name": "stderr",
     "output_type": "stream",
     "text": [
      "100%|██████████| 8/8 [00:06<00:00,  1.32it/s]\n",
      " 50%|█████     | 2/4 [00:03<00:02,  1.32s/it]"
     ]
    },
    {
     "name": "stdout",
     "output_type": "stream",
     "text": [
      "custom_task_head frozen\n",
      "custom_task_head frozen\n"
     ]
    },
    {
     "name": "stderr",
     "output_type": "stream",
     "text": [
      " 75%|███████▌  | 3/4 [00:03<00:00,  1.28it/s]"
     ]
    },
    {
     "name": "stdout",
     "output_type": "stream",
     "text": [
      "custom_task_head frozen\n"
     ]
    },
    {
     "name": "stderr",
     "output_type": "stream",
     "text": [
      "100%|██████████| 4/4 [00:03<00:00,  1.78it/s]"
     ]
    },
    {
     "name": "stdout",
     "output_type": "stream",
     "text": [
      "custom_task_head frozen\n"
     ]
    },
    {
     "name": "stderr",
     "output_type": "stream",
     "text": [
      "100%|██████████| 4/4 [00:04<00:00,  1.07s/it]\n"
     ]
    },
    {
     "name": "stdout",
     "output_type": "stream",
     "text": [
      "Score decreased (0.325261 --> 0.311398).  Saving model ./temp/gadformer_checkpoint.pt ...\n",
      "7 trn|vld|cp[0.16189|0.3114|0.3114] - best score: 0.3114 (7)\n"
     ]
    },
    {
     "name": "stderr",
     "output_type": "stream",
     "text": [
      "100%|██████████| 8/8 [00:05<00:00,  1.39it/s]\n",
      " 25%|██▌       | 1/4 [00:02<00:08,  2.76s/it]"
     ]
    },
    {
     "name": "stdout",
     "output_type": "stream",
     "text": [
      "custom_task_head frozen\n"
     ]
    },
    {
     "name": "stderr",
     "output_type": "stream",
     "text": [
      " 75%|███████▌  | 3/4 [00:03<00:00,  1.29it/s]"
     ]
    },
    {
     "name": "stdout",
     "output_type": "stream",
     "text": [
      "custom_task_head frozen\n",
      "custom_task_head frozen\n"
     ]
    },
    {
     "name": "stderr",
     "output_type": "stream",
     "text": [
      "100%|██████████| 4/4 [00:03<00:00,  1.85it/s]"
     ]
    },
    {
     "name": "stdout",
     "output_type": "stream",
     "text": [
      "custom_task_head frozen\n"
     ]
    },
    {
     "name": "stderr",
     "output_type": "stream",
     "text": [
      "100%|██████████| 4/4 [00:04<00:00,  1.03s/it]\n"
     ]
    },
    {
     "name": "stdout",
     "output_type": "stream",
     "text": [
      "Score decreased (0.311398 --> 0.304520).  Saving model ./temp/gadformer_checkpoint.pt ...\n",
      "8 trn|vld|cp[0.12573|0.30452|0.30452] - best score: 0.30452 (8)\n"
     ]
    },
    {
     "name": "stderr",
     "output_type": "stream",
     "text": [
      "100%|██████████| 8/8 [00:06<00:00,  1.26it/s]\n",
      " 50%|█████     | 2/4 [00:03<00:03,  1.65s/it]"
     ]
    },
    {
     "name": "stdout",
     "output_type": "stream",
     "text": [
      "custom_task_head frozen\n",
      "custom_task_head frozen\n"
     ]
    },
    {
     "name": "stderr",
     "output_type": "stream",
     "text": [
      "100%|██████████| 4/4 [00:04<00:00,  1.53it/s]"
     ]
    },
    {
     "name": "stdout",
     "output_type": "stream",
     "text": [
      "custom_task_head frozen\n",
      "custom_task_head frozen\n"
     ]
    },
    {
     "name": "stderr",
     "output_type": "stream",
     "text": [
      "100%|██████████| 4/4 [00:04<00:00,  1.23s/it]\n"
     ]
    },
    {
     "name": "stdout",
     "output_type": "stream",
     "text": [
      "EarlyStopping counter: 1 out of 5\n",
      "9 trn|vld|cp[0.0956|0.30525|0.30525] - best score: 0.30452 (8)\n",
      "Epoch 00010: reducing learning rate of group 0 to 1.0000e-04.\n"
     ]
    },
    {
     "name": "stderr",
     "output_type": "stream",
     "text": [
      "100%|██████████| 8/8 [00:05<00:00,  1.47it/s]\n",
      "100%|██████████| 4/4 [00:04<00:00,  1.00s/it]\n"
     ]
    },
    {
     "name": "stdout",
     "output_type": "stream",
     "text": [
      "EarlyStopping counter: 2 out of 5\n",
      "10 trn|vld|cp[0.08049|0.30577|0.30577] - best score: 0.30452 (8)\n",
      "Epoch 00011: reducing learning rate of group 0 to 1.0000e-05.\n"
     ]
    },
    {
     "name": "stderr",
     "output_type": "stream",
     "text": [
      "100%|██████████| 8/8 [00:06<00:00,  1.29it/s]\n",
      "100%|██████████| 4/4 [00:04<00:00,  1.09s/it]\n"
     ]
    },
    {
     "name": "stdout",
     "output_type": "stream",
     "text": [
      "EarlyStopping counter: 3 out of 5\n",
      "11 trn|vld|cp[0.07913|0.30583|0.30583] - best score: 0.30452 (8)\n",
      "Epoch 00012: reducing learning rate of group 0 to 1.0000e-06.\n"
     ]
    },
    {
     "name": "stderr",
     "output_type": "stream",
     "text": [
      "100%|██████████| 8/8 [00:06<00:00,  1.24it/s]\n",
      "100%|██████████| 4/4 [00:04<00:00,  1.03s/it]\n"
     ]
    },
    {
     "name": "stdout",
     "output_type": "stream",
     "text": [
      "EarlyStopping counter: 4 out of 5\n",
      "12 trn|vld|cp[0.079|0.30584|0.30584] - best score: 0.30452 (8)\n"
     ]
    },
    {
     "name": "stderr",
     "output_type": "stream",
     "text": [
      "100%|██████████| 8/8 [00:05<00:00,  1.35it/s]\n",
      "100%|██████████| 4/4 [00:05<00:00,  1.35s/it]\n"
     ]
    },
    {
     "name": "stdout",
     "output_type": "stream",
     "text": [
      "EarlyStopping counter: 5 out of 5\n",
      "13 trn|vld|cp[0.07897|0.30584|0.30584] - best score: 0.30452 (8)\n",
      "Early Stop!\n"
     ]
    },
    {
     "name": "stderr",
     "output_type": "stream",
     "text": [
      "100%|██████████| 2/2 [00:04<00:00,  2.01s/it]\n"
     ]
    },
    {
     "name": "stdout",
     "output_type": "stream",
     "text": [
      " ################ SEED 1: AUROC: 0.89926 AUPRC: 0.61132 ################\n",
      " ################ SEED 2 ################\n",
      "\n",
      "-------------Creating *train* dataset from dataset file ./datasets/files_valid/Trajectorys2_72_2000_anom.csv -----\n",
      "\n",
      "        Step  Entity  X_Coord  Y_Coord  Label\n",
      "0          0       1      1.0     -1.0      0\n",
      "1          0       2      3.0      6.0      0\n",
      "2          0       3      3.0     -4.0      0\n",
      "3          0       4      1.0      3.0      0\n",
      "4          0       5      1.0      1.0      0\n",
      "...      ...     ...      ...      ...    ...\n",
      "143995    71    1996    148.0     73.0      0\n",
      "143996    71    1997    156.0     44.0      0\n",
      "143997    71    1998    145.0     48.0      0\n",
      "143998    71    1999    147.0     87.0      0\n",
      "143999    71    2000    158.0     97.0      0\n",
      "\n",
      "[144000 rows x 5 columns]\n",
      "trajectory length: 72, abnormal trajectories: 188/2000\n",
      "\n",
      "-------------Creating *valid* dataset from dataset file ./datasets/files_valid/Trajectorys2_72_1000_anom.csv -----\n",
      "\n",
      "       Step  Entity  X_Coord  Y_Coord  Label\n",
      "0         0       1      3.0      5.0      0\n",
      "1         0       2      2.0      4.0      0\n",
      "2         0       3      3.0     -3.0      0\n",
      "3         0       4      3.0      7.0      0\n",
      "4         0       5      3.0      6.0      0\n",
      "...     ...     ...      ...      ...    ...\n",
      "71995    71     996    163.0     66.0      0\n",
      "71996    71     997    154.0     74.0      0\n",
      "71997    71     998    153.0     81.0      0\n",
      "71998    71     999    141.0     82.0      0\n",
      "71999    71    1000    148.0     75.0      0\n",
      "\n",
      "[72000 rows x 5 columns]\n",
      "trajectory length: 72, abnormal trajectories: 92/1000\n",
      "\n",
      "-------------Creating *test* dataset from dataset file ./datasets/files_valid/Trajectorys2_72_400_anom.csv -----\n",
      "\n",
      "       Step  Entity  X_Coord  Y_Coord  Label\n",
      "0         0       1      1.0     -4.0      0\n",
      "1         0       2      3.0      5.0      0\n",
      "2         0       3      3.0      2.0      0\n",
      "3         0       4      1.0     -4.0      0\n",
      "4         0       5      1.0     -4.0      0\n",
      "...     ...     ...      ...      ...    ...\n",
      "28795    71     396    142.0    125.0      0\n",
      "28796    71     397    148.0     26.0      0\n",
      "28797    71     398    102.0     97.0      1\n",
      "28798    71     399    146.0    116.0      0\n",
      "28799    71     400    138.0     35.0      0\n",
      "\n",
      "[28800 rows x 5 columns]\n",
      "trajectory length: 72, abnormal trajectories: 37/400\n"
     ]
    },
    {
     "name": "stderr",
     "output_type": "stream",
     "text": [
      "100%|██████████| 8/8 [00:06<00:00,  1.23it/s]\n",
      " 25%|██▌       | 1/4 [00:02<00:08,  2.94s/it]"
     ]
    },
    {
     "name": "stdout",
     "output_type": "stream",
     "text": [
      "custom_task_head frozen\n"
     ]
    },
    {
     "name": "stderr",
     "output_type": "stream",
     "text": [
      " 75%|███████▌  | 3/4 [00:03<00:00,  1.25it/s]"
     ]
    },
    {
     "name": "stdout",
     "output_type": "stream",
     "text": [
      "custom_task_head frozen\n",
      "custom_task_head frozen\n"
     ]
    },
    {
     "name": "stderr",
     "output_type": "stream",
     "text": [
      "100%|██████████| 4/4 [00:03<00:00,  1.69it/s]"
     ]
    },
    {
     "name": "stdout",
     "output_type": "stream",
     "text": [
      "custom_task_head frozen\n"
     ]
    },
    {
     "name": "stderr",
     "output_type": "stream",
     "text": [
      "100%|██████████| 4/4 [00:04<00:00,  1.11s/it]\n"
     ]
    },
    {
     "name": "stdout",
     "output_type": "stream",
     "text": [
      "Score decreased (inf --> 0.590431).  Saving model ./temp/gadformer_checkpoint.pt ...\n",
      "0 trn|vld|cp[0.60781|0.59043|0.59043] - best score: 0.59043 (0)\n"
     ]
    },
    {
     "name": "stderr",
     "output_type": "stream",
     "text": [
      "100%|██████████| 8/8 [00:06<00:00,  1.25it/s]\n",
      " 50%|█████     | 2/4 [00:03<00:02,  1.29s/it]"
     ]
    },
    {
     "name": "stdout",
     "output_type": "stream",
     "text": [
      "custom_task_head frozen\n",
      "custom_task_head frozen\n"
     ]
    },
    {
     "name": "stderr",
     "output_type": "stream",
     "text": [
      " 75%|███████▌  | 3/4 [00:03<00:00,  1.32it/s]"
     ]
    },
    {
     "name": "stdout",
     "output_type": "stream",
     "text": [
      "custom_task_head frozen\n"
     ]
    },
    {
     "name": "stderr",
     "output_type": "stream",
     "text": [
      "100%|██████████| 4/4 [00:03<00:00,  1.82it/s]"
     ]
    },
    {
     "name": "stdout",
     "output_type": "stream",
     "text": [
      "custom_task_head frozen\n"
     ]
    },
    {
     "name": "stderr",
     "output_type": "stream",
     "text": [
      "100%|██████████| 4/4 [00:04<00:00,  1.06s/it]\n"
     ]
    },
    {
     "name": "stdout",
     "output_type": "stream",
     "text": [
      "Score decreased (0.590431 --> 0.527955).  Saving model ./temp/gadformer_checkpoint.pt ...\n",
      "1 trn|vld|cp[0.52443|0.52796|0.52796] - best score: 0.52796 (1)\n"
     ]
    },
    {
     "name": "stderr",
     "output_type": "stream",
     "text": [
      "100%|██████████| 8/8 [00:06<00:00,  1.17it/s]\n",
      " 50%|█████     | 2/4 [00:03<00:02,  1.32s/it]"
     ]
    },
    {
     "name": "stdout",
     "output_type": "stream",
     "text": [
      "custom_task_head frozen\n",
      "custom_task_head frozen\n"
     ]
    },
    {
     "name": "stderr",
     "output_type": "stream",
     "text": [
      " 75%|███████▌  | 3/4 [00:03<00:00,  1.28it/s]"
     ]
    },
    {
     "name": "stdout",
     "output_type": "stream",
     "text": [
      "custom_task_head frozen\n"
     ]
    },
    {
     "name": "stderr",
     "output_type": "stream",
     "text": [
      "100%|██████████| 4/4 [00:03<00:00,  1.79it/s]"
     ]
    },
    {
     "name": "stdout",
     "output_type": "stream",
     "text": [
      "custom_task_head frozen\n"
     ]
    },
    {
     "name": "stderr",
     "output_type": "stream",
     "text": [
      "100%|██████████| 4/4 [00:04<00:00,  1.06s/it]\n"
     ]
    },
    {
     "name": "stdout",
     "output_type": "stream",
     "text": [
      "Score decreased (0.527955 --> 0.495990).  Saving model ./temp/gadformer_checkpoint.pt ...\n",
      "2 trn|vld|cp[0.46515|0.49599|0.49599] - best score: 0.49599 (2)\n"
     ]
    },
    {
     "name": "stderr",
     "output_type": "stream",
     "text": [
      "100%|██████████| 8/8 [00:05<00:00,  1.34it/s]\n",
      " 50%|█████     | 2/4 [00:03<00:02,  1.36s/it]"
     ]
    },
    {
     "name": "stdout",
     "output_type": "stream",
     "text": [
      "custom_task_head frozen\n",
      "custom_task_head frozen\n"
     ]
    },
    {
     "name": "stderr",
     "output_type": "stream",
     "text": [
      " 75%|███████▌  | 3/4 [00:03<00:00,  1.25it/s]"
     ]
    },
    {
     "name": "stdout",
     "output_type": "stream",
     "text": [
      "custom_task_head frozen\n"
     ]
    },
    {
     "name": "stderr",
     "output_type": "stream",
     "text": [
      "100%|██████████| 4/4 [00:03<00:00,  1.75it/s]"
     ]
    },
    {
     "name": "stdout",
     "output_type": "stream",
     "text": [
      "custom_task_head frozen\n"
     ]
    },
    {
     "name": "stderr",
     "output_type": "stream",
     "text": [
      "100%|██████████| 4/4 [00:04<00:00,  1.08s/it]\n"
     ]
    },
    {
     "name": "stdout",
     "output_type": "stream",
     "text": [
      "Score decreased (0.495990 --> 0.460677).  Saving model ./temp/gadformer_checkpoint.pt ...\n",
      "3 trn|vld|cp[0.42245|0.46068|0.46068] - best score: 0.46068 (3)\n"
     ]
    },
    {
     "name": "stderr",
     "output_type": "stream",
     "text": [
      "100%|██████████| 8/8 [00:05<00:00,  1.39it/s]\n",
      " 50%|█████     | 2/4 [00:02<00:02,  1.20s/it]"
     ]
    },
    {
     "name": "stdout",
     "output_type": "stream",
     "text": [
      "custom_task_head frozen\n",
      "custom_task_head frozen\n"
     ]
    },
    {
     "name": "stderr",
     "output_type": "stream",
     "text": [
      " 75%|███████▌  | 3/4 [00:02<00:00,  1.40it/s]"
     ]
    },
    {
     "name": "stdout",
     "output_type": "stream",
     "text": [
      "custom_task_head frozen\n"
     ]
    },
    {
     "name": "stderr",
     "output_type": "stream",
     "text": [
      "100%|██████████| 4/4 [00:03<00:00,  1.88it/s]"
     ]
    },
    {
     "name": "stdout",
     "output_type": "stream",
     "text": [
      "custom_task_head frozen\n"
     ]
    },
    {
     "name": "stderr",
     "output_type": "stream",
     "text": [
      "100%|██████████| 4/4 [00:03<00:00,  1.01it/s]\n"
     ]
    },
    {
     "name": "stdout",
     "output_type": "stream",
     "text": [
      "Score decreased (0.460677 --> 0.422678).  Saving model ./temp/gadformer_checkpoint.pt ...\n",
      "4 trn|vld|cp[0.37039|0.42268|0.42268] - best score: 0.42268 (4)\n"
     ]
    },
    {
     "name": "stderr",
     "output_type": "stream",
     "text": [
      "100%|██████████| 8/8 [00:05<00:00,  1.35it/s]\n",
      " 50%|█████     | 2/4 [00:03<00:02,  1.39s/it]"
     ]
    },
    {
     "name": "stdout",
     "output_type": "stream",
     "text": [
      "custom_task_head frozen\n",
      "custom_task_head frozen\n"
     ]
    },
    {
     "name": "stderr",
     "output_type": "stream",
     "text": [
      " 75%|███████▌  | 3/4 [00:03<00:00,  1.25it/s]"
     ]
    },
    {
     "name": "stdout",
     "output_type": "stream",
     "text": [
      "custom_task_head frozen\n"
     ]
    },
    {
     "name": "stderr",
     "output_type": "stream",
     "text": [
      "100%|██████████| 4/4 [00:03<00:00,  1.72it/s]"
     ]
    },
    {
     "name": "stdout",
     "output_type": "stream",
     "text": [
      "custom_task_head frozen\n"
     ]
    },
    {
     "name": "stderr",
     "output_type": "stream",
     "text": [
      "100%|██████████| 4/4 [00:04<00:00,  1.08s/it]\n"
     ]
    },
    {
     "name": "stdout",
     "output_type": "stream",
     "text": [
      "Score decreased (0.422678 --> 0.387738).  Saving model ./temp/gadformer_checkpoint.pt ...\n",
      "5 trn|vld|cp[0.31666|0.38774|0.38774] - best score: 0.38774 (5)\n"
     ]
    },
    {
     "name": "stderr",
     "output_type": "stream",
     "text": [
      "100%|██████████| 8/8 [00:05<00:00,  1.34it/s]\n",
      " 50%|█████     | 2/4 [00:03<00:03,  1.53s/it]"
     ]
    },
    {
     "name": "stdout",
     "output_type": "stream",
     "text": [
      "custom_task_head frozen\n",
      "custom_task_head frozen\n"
     ]
    },
    {
     "name": "stderr",
     "output_type": "stream",
     "text": [
      " 75%|███████▌  | 3/4 [00:03<00:00,  1.12it/s]"
     ]
    },
    {
     "name": "stdout",
     "output_type": "stream",
     "text": [
      "custom_task_head frozen\n"
     ]
    },
    {
     "name": "stderr",
     "output_type": "stream",
     "text": [
      "100%|██████████| 4/4 [00:03<00:00,  1.58it/s]"
     ]
    },
    {
     "name": "stdout",
     "output_type": "stream",
     "text": [
      "custom_task_head frozen\n"
     ]
    },
    {
     "name": "stderr",
     "output_type": "stream",
     "text": [
      "100%|██████████| 4/4 [00:04<00:00,  1.19s/it]\n"
     ]
    },
    {
     "name": "stdout",
     "output_type": "stream",
     "text": [
      "Score decreased (0.387738 --> 0.356991).  Saving model ./temp/gadformer_checkpoint.pt ...\n",
      "6 trn|vld|cp[0.26553|0.35699|0.35699] - best score: 0.35699 (6)\n"
     ]
    },
    {
     "name": "stderr",
     "output_type": "stream",
     "text": [
      "100%|██████████| 8/8 [00:06<00:00,  1.29it/s]\n",
      " 50%|█████     | 2/4 [00:03<00:02,  1.39s/it]"
     ]
    },
    {
     "name": "stdout",
     "output_type": "stream",
     "text": [
      "custom_task_head frozen\n",
      "custom_task_head frozen\n"
     ]
    },
    {
     "name": "stderr",
     "output_type": "stream",
     "text": [
      " 75%|███████▌  | 3/4 [00:03<00:00,  1.21it/s]"
     ]
    },
    {
     "name": "stdout",
     "output_type": "stream",
     "text": [
      "custom_task_head frozen\n"
     ]
    },
    {
     "name": "stderr",
     "output_type": "stream",
     "text": [
      "100%|██████████| 4/4 [00:03<00:00,  1.71it/s]"
     ]
    },
    {
     "name": "stdout",
     "output_type": "stream",
     "text": [
      "custom_task_head frozen\n"
     ]
    },
    {
     "name": "stderr",
     "output_type": "stream",
     "text": [
      "100%|██████████| 4/4 [00:04<00:00,  1.11s/it]\n"
     ]
    },
    {
     "name": "stdout",
     "output_type": "stream",
     "text": [
      "Score decreased (0.356991 --> 0.332183).  Saving model ./temp/gadformer_checkpoint.pt ...\n",
      "7 trn|vld|cp[0.21574|0.33218|0.33218] - best score: 0.33218 (7)\n"
     ]
    },
    {
     "name": "stderr",
     "output_type": "stream",
     "text": [
      "100%|██████████| 8/8 [00:06<00:00,  1.28it/s]\n",
      " 50%|█████     | 2/4 [00:03<00:02,  1.37s/it]"
     ]
    },
    {
     "name": "stdout",
     "output_type": "stream",
     "text": [
      "custom_task_head frozen\n",
      "custom_task_head frozen\n"
     ]
    },
    {
     "name": "stderr",
     "output_type": "stream",
     "text": [
      " 75%|███████▌  | 3/4 [00:03<00:00,  1.24it/s]"
     ]
    },
    {
     "name": "stdout",
     "output_type": "stream",
     "text": [
      "custom_task_head frozen\n"
     ]
    },
    {
     "name": "stderr",
     "output_type": "stream",
     "text": [
      "100%|██████████| 4/4 [00:03<00:00,  1.76it/s]"
     ]
    },
    {
     "name": "stdout",
     "output_type": "stream",
     "text": [
      "custom_task_head frozen\n"
     ]
    },
    {
     "name": "stderr",
     "output_type": "stream",
     "text": [
      "100%|██████████| 4/4 [00:04<00:00,  1.09s/it]\n"
     ]
    },
    {
     "name": "stdout",
     "output_type": "stream",
     "text": [
      "Score decreased (0.332183 --> 0.314004).  Saving model ./temp/gadformer_checkpoint.pt ...\n",
      "8 trn|vld|cp[0.17038|0.314|0.314] - best score: 0.314 (8)\n"
     ]
    },
    {
     "name": "stderr",
     "output_type": "stream",
     "text": [
      "100%|██████████| 8/8 [00:05<00:00,  1.33it/s]\n",
      " 50%|█████     | 2/4 [00:03<00:02,  1.45s/it]"
     ]
    },
    {
     "name": "stdout",
     "output_type": "stream",
     "text": [
      "custom_task_head frozen\n",
      "custom_task_head frozen\n"
     ]
    },
    {
     "name": "stderr",
     "output_type": "stream",
     "text": [
      " 75%|███████▌  | 3/4 [00:03<00:00,  1.17it/s]"
     ]
    },
    {
     "name": "stdout",
     "output_type": "stream",
     "text": [
      "custom_task_head frozen\n"
     ]
    },
    {
     "name": "stderr",
     "output_type": "stream",
     "text": [
      "100%|██████████| 4/4 [00:03<00:00,  1.65it/s]"
     ]
    },
    {
     "name": "stdout",
     "output_type": "stream",
     "text": [
      "custom_task_head frozen\n"
     ]
    },
    {
     "name": "stderr",
     "output_type": "stream",
     "text": [
      "100%|██████████| 4/4 [00:04<00:00,  1.15s/it]\n"
     ]
    },
    {
     "name": "stdout",
     "output_type": "stream",
     "text": [
      "Score decreased (0.314004 --> 0.305235).  Saving model ./temp/gadformer_checkpoint.pt ...\n",
      "9 trn|vld|cp[0.13108|0.30523|0.30523] - best score: 0.30523 (9)\n"
     ]
    },
    {
     "name": "stderr",
     "output_type": "stream",
     "text": [
      "100%|██████████| 8/8 [00:06<00:00,  1.25it/s]\n",
      " 25%|██▌       | 1/4 [00:02<00:08,  2.92s/it]"
     ]
    },
    {
     "name": "stdout",
     "output_type": "stream",
     "text": [
      "custom_task_head frozen\n"
     ]
    },
    {
     "name": "stderr",
     "output_type": "stream",
     "text": [
      " 75%|███████▌  | 3/4 [00:03<00:00,  1.28it/s]"
     ]
    },
    {
     "name": "stdout",
     "output_type": "stream",
     "text": [
      "custom_task_head frozen\n",
      "custom_task_head frozen\n"
     ]
    },
    {
     "name": "stderr",
     "output_type": "stream",
     "text": [
      "100%|██████████| 4/4 [00:03<00:00,  1.84it/s]"
     ]
    },
    {
     "name": "stdout",
     "output_type": "stream",
     "text": [
      "custom_task_head frozen\n"
     ]
    },
    {
     "name": "stderr",
     "output_type": "stream",
     "text": [
      "100%|██████████| 4/4 [00:04<00:00,  1.04s/it]\n"
     ]
    },
    {
     "name": "stdout",
     "output_type": "stream",
     "text": [
      "EarlyStopping counter: 1 out of 5\n",
      "10 trn|vld|cp[0.09803|0.30567|0.30567] - best score: 0.30523 (9)\n",
      "Epoch 00011: reducing learning rate of group 0 to 1.0000e-04.\n"
     ]
    },
    {
     "name": "stderr",
     "output_type": "stream",
     "text": [
      "100%|██████████| 8/8 [00:06<00:00,  1.25it/s]\n",
      "100%|██████████| 4/4 [00:04<00:00,  1.12s/it]\n"
     ]
    },
    {
     "name": "stdout",
     "output_type": "stream",
     "text": [
      "EarlyStopping counter: 2 out of 5\n",
      "11 trn|vld|cp[0.08118|0.30609|0.30609] - best score: 0.30523 (9)\n",
      "Epoch 00012: reducing learning rate of group 0 to 1.0000e-05.\n"
     ]
    },
    {
     "name": "stderr",
     "output_type": "stream",
     "text": [
      "100%|██████████| 8/8 [00:06<00:00,  1.28it/s]\n",
      "100%|██████████| 4/4 [00:04<00:00,  1.06s/it]\n"
     ]
    },
    {
     "name": "stdout",
     "output_type": "stream",
     "text": [
      "EarlyStopping counter: 3 out of 5\n",
      "12 trn|vld|cp[0.07964|0.3061|0.3061] - best score: 0.30523 (9)\n",
      "Epoch 00013: reducing learning rate of group 0 to 1.0000e-06.\n"
     ]
    },
    {
     "name": "stderr",
     "output_type": "stream",
     "text": [
      "100%|██████████| 8/8 [00:06<00:00,  1.27it/s]\n",
      "100%|██████████| 4/4 [00:04<00:00,  1.09s/it]\n"
     ]
    },
    {
     "name": "stdout",
     "output_type": "stream",
     "text": [
      "EarlyStopping counter: 4 out of 5\n",
      "13 trn|vld|cp[0.07948|0.3061|0.3061] - best score: 0.30523 (9)\n"
     ]
    },
    {
     "name": "stderr",
     "output_type": "stream",
     "text": [
      "100%|██████████| 8/8 [00:06<00:00,  1.19it/s]\n",
      "100%|██████████| 4/4 [00:05<00:00,  1.43s/it]\n"
     ]
    },
    {
     "name": "stdout",
     "output_type": "stream",
     "text": [
      "EarlyStopping counter: 5 out of 5\n",
      "14 trn|vld|cp[0.07945|0.30611|0.30611] - best score: 0.30523 (9)\n",
      "Early Stop!\n"
     ]
    },
    {
     "name": "stderr",
     "output_type": "stream",
     "text": [
      "100%|██████████| 2/2 [00:03<00:00,  1.89s/it]\n"
     ]
    },
    {
     "name": "stdout",
     "output_type": "stream",
     "text": [
      " ################ SEED 2: AUROC: 0.90887 AUPRC: 0.7478 ################\n",
      " ################ SEED 3 ################\n",
      "\n",
      "-------------Creating *train* dataset from dataset file ./datasets/files_valid/Trajectorys2_72_2000_anom.csv -----\n",
      "\n",
      "        Step  Entity  X_Coord  Y_Coord  Label\n",
      "0          0       1      1.0     -1.0      0\n",
      "1          0       2      3.0      6.0      0\n",
      "2          0       3      3.0     -4.0      0\n",
      "3          0       4      1.0      3.0      0\n",
      "4          0       5      1.0      1.0      0\n",
      "...      ...     ...      ...      ...    ...\n",
      "143995    71    1996    148.0     73.0      0\n",
      "143996    71    1997    156.0     44.0      0\n",
      "143997    71    1998    145.0     48.0      0\n",
      "143998    71    1999    147.0     87.0      0\n",
      "143999    71    2000    158.0     97.0      0\n",
      "\n",
      "[144000 rows x 5 columns]\n",
      "trajectory length: 72, abnormal trajectories: 188/2000\n",
      "\n",
      "-------------Creating *valid* dataset from dataset file ./datasets/files_valid/Trajectorys2_72_1000_anom.csv -----\n",
      "\n",
      "       Step  Entity  X_Coord  Y_Coord  Label\n",
      "0         0       1      3.0      5.0      0\n",
      "1         0       2      2.0      4.0      0\n",
      "2         0       3      3.0     -3.0      0\n",
      "3         0       4      3.0      7.0      0\n",
      "4         0       5      3.0      6.0      0\n",
      "...     ...     ...      ...      ...    ...\n",
      "71995    71     996    163.0     66.0      0\n",
      "71996    71     997    154.0     74.0      0\n",
      "71997    71     998    153.0     81.0      0\n",
      "71998    71     999    141.0     82.0      0\n",
      "71999    71    1000    148.0     75.0      0\n",
      "\n",
      "[72000 rows x 5 columns]\n",
      "trajectory length: 72, abnormal trajectories: 92/1000\n",
      "\n",
      "-------------Creating *test* dataset from dataset file ./datasets/files_valid/Trajectorys2_72_400_anom.csv -----\n",
      "\n",
      "       Step  Entity  X_Coord  Y_Coord  Label\n",
      "0         0       1      1.0     -4.0      0\n",
      "1         0       2      3.0      5.0      0\n",
      "2         0       3      3.0      2.0      0\n",
      "3         0       4      1.0     -4.0      0\n",
      "4         0       5      1.0     -4.0      0\n",
      "...     ...     ...      ...      ...    ...\n",
      "28795    71     396    142.0    125.0      0\n",
      "28796    71     397    148.0     26.0      0\n",
      "28797    71     398    102.0     97.0      1\n",
      "28798    71     399    146.0    116.0      0\n",
      "28799    71     400    138.0     35.0      0\n",
      "\n",
      "[28800 rows x 5 columns]\n",
      "trajectory length: 72, abnormal trajectories: 37/400\n"
     ]
    },
    {
     "name": "stderr",
     "output_type": "stream",
     "text": [
      "100%|██████████| 8/8 [00:06<00:00,  1.21it/s]\n",
      " 50%|█████     | 2/4 [00:03<00:02,  1.46s/it]"
     ]
    },
    {
     "name": "stdout",
     "output_type": "stream",
     "text": [
      "custom_task_head frozen\n",
      "custom_task_head frozen\n"
     ]
    },
    {
     "name": "stderr",
     "output_type": "stream",
     "text": [
      " 75%|███████▌  | 3/4 [00:03<00:00,  1.15it/s]"
     ]
    },
    {
     "name": "stdout",
     "output_type": "stream",
     "text": [
      "custom_task_head frozen\n"
     ]
    },
    {
     "name": "stderr",
     "output_type": "stream",
     "text": [
      "100%|██████████| 4/4 [00:03<00:00,  1.60it/s]"
     ]
    },
    {
     "name": "stdout",
     "output_type": "stream",
     "text": [
      "custom_task_head frozen\n"
     ]
    },
    {
     "name": "stderr",
     "output_type": "stream",
     "text": [
      "100%|██████████| 4/4 [00:04<00:00,  1.18s/it]\n"
     ]
    },
    {
     "name": "stdout",
     "output_type": "stream",
     "text": [
      "Score decreased (inf --> 0.646789).  Saving model ./temp/gadformer_checkpoint.pt ...\n",
      "0 trn|vld|cp[0.71173|0.64679|0.64679] - best score: 0.64679 (0)\n"
     ]
    },
    {
     "name": "stderr",
     "output_type": "stream",
     "text": [
      "100%|██████████| 8/8 [00:05<00:00,  1.34it/s]\n",
      " 50%|█████     | 2/4 [00:03<00:02,  1.30s/it]"
     ]
    },
    {
     "name": "stdout",
     "output_type": "stream",
     "text": [
      "custom_task_head frozen\n",
      "custom_task_head frozen\n"
     ]
    },
    {
     "name": "stderr",
     "output_type": "stream",
     "text": [
      " 75%|███████▌  | 3/4 [00:03<00:00,  1.31it/s]"
     ]
    },
    {
     "name": "stdout",
     "output_type": "stream",
     "text": [
      "custom_task_head frozen\n"
     ]
    },
    {
     "name": "stderr",
     "output_type": "stream",
     "text": [
      "100%|██████████| 4/4 [00:03<00:00,  1.78it/s]"
     ]
    },
    {
     "name": "stdout",
     "output_type": "stream",
     "text": [
      "custom_task_head frozen\n"
     ]
    },
    {
     "name": "stderr",
     "output_type": "stream",
     "text": [
      "100%|██████████| 4/4 [00:04<00:00,  1.06s/it]\n"
     ]
    },
    {
     "name": "stdout",
     "output_type": "stream",
     "text": [
      "Score decreased (0.646789 --> 0.537490).  Saving model ./temp/gadformer_checkpoint.pt ...\n",
      "1 trn|vld|cp[0.56684|0.53749|0.53749] - best score: 0.53749 (1)\n"
     ]
    },
    {
     "name": "stderr",
     "output_type": "stream",
     "text": [
      "100%|██████████| 8/8 [00:06<00:00,  1.30it/s]\n",
      " 50%|█████     | 2/4 [00:02<00:02,  1.20s/it]"
     ]
    },
    {
     "name": "stdout",
     "output_type": "stream",
     "text": [
      "custom_task_head frozen\n",
      "custom_task_head frozen\n"
     ]
    },
    {
     "name": "stderr",
     "output_type": "stream",
     "text": [
      " 75%|███████▌  | 3/4 [00:03<00:00,  1.38it/s]"
     ]
    },
    {
     "name": "stdout",
     "output_type": "stream",
     "text": [
      "custom_task_head frozen\n"
     ]
    },
    {
     "name": "stderr",
     "output_type": "stream",
     "text": [
      "100%|██████████| 4/4 [00:03<00:00,  1.86it/s]"
     ]
    },
    {
     "name": "stdout",
     "output_type": "stream",
     "text": [
      "custom_task_head frozen\n"
     ]
    },
    {
     "name": "stderr",
     "output_type": "stream",
     "text": [
      "100%|██████████| 4/4 [00:03<00:00,  1.03it/s]\n"
     ]
    },
    {
     "name": "stdout",
     "output_type": "stream",
     "text": [
      "Score decreased (0.537490 --> 0.483772).  Saving model ./temp/gadformer_checkpoint.pt ...\n",
      "2 trn|vld|cp[0.46346|0.48377|0.48377] - best score: 0.48377 (2)\n"
     ]
    },
    {
     "name": "stderr",
     "output_type": "stream",
     "text": [
      "100%|██████████| 8/8 [00:05<00:00,  1.35it/s]\n",
      " 25%|██▌       | 1/4 [00:03<00:09,  3.03s/it]"
     ]
    },
    {
     "name": "stdout",
     "output_type": "stream",
     "text": [
      "custom_task_head frozen\n"
     ]
    },
    {
     "name": "stderr",
     "output_type": "stream",
     "text": [
      " 75%|███████▌  | 3/4 [00:03<00:00,  1.21it/s]"
     ]
    },
    {
     "name": "stdout",
     "output_type": "stream",
     "text": [
      "custom_task_head frozen\n",
      "custom_task_head frozen\n"
     ]
    },
    {
     "name": "stderr",
     "output_type": "stream",
     "text": [
      "100%|██████████| 4/4 [00:03<00:00,  1.71it/s]"
     ]
    },
    {
     "name": "stdout",
     "output_type": "stream",
     "text": [
      "custom_task_head frozen\n"
     ]
    },
    {
     "name": "stderr",
     "output_type": "stream",
     "text": [
      "100%|██████████| 4/4 [00:04<00:00,  1.12s/it]\n"
     ]
    },
    {
     "name": "stdout",
     "output_type": "stream",
     "text": [
      "Score decreased (0.483772 --> 0.444240).  Saving model ./temp/gadformer_checkpoint.pt ...\n",
      "3 trn|vld|cp[0.40108|0.44424|0.44424] - best score: 0.44424 (3)\n"
     ]
    },
    {
     "name": "stderr",
     "output_type": "stream",
     "text": [
      "100%|██████████| 8/8 [00:06<00:00,  1.33it/s]\n",
      " 50%|█████     | 2/4 [00:03<00:02,  1.39s/it]"
     ]
    },
    {
     "name": "stdout",
     "output_type": "stream",
     "text": [
      "custom_task_head frozen\n",
      "custom_task_head frozen\n"
     ]
    },
    {
     "name": "stderr",
     "output_type": "stream",
     "text": [
      " 75%|███████▌  | 3/4 [00:03<00:00,  1.22it/s]"
     ]
    },
    {
     "name": "stdout",
     "output_type": "stream",
     "text": [
      "custom_task_head frozen\n"
     ]
    },
    {
     "name": "stderr",
     "output_type": "stream",
     "text": [
      "100%|██████████| 4/4 [00:03<00:00,  1.70it/s]"
     ]
    },
    {
     "name": "stdout",
     "output_type": "stream",
     "text": [
      "custom_task_head frozen\n"
     ]
    },
    {
     "name": "stderr",
     "output_type": "stream",
     "text": [
      "100%|██████████| 4/4 [00:04<00:00,  1.11s/it]\n"
     ]
    },
    {
     "name": "stdout",
     "output_type": "stream",
     "text": [
      "Score decreased (0.444240 --> 0.403043).  Saving model ./temp/gadformer_checkpoint.pt ...\n",
      "4 trn|vld|cp[0.34517|0.40304|0.40304] - best score: 0.40304 (4)\n"
     ]
    },
    {
     "name": "stderr",
     "output_type": "stream",
     "text": [
      "100%|██████████| 8/8 [00:06<00:00,  1.29it/s]\n",
      " 50%|█████     | 2/4 [00:03<00:02,  1.35s/it]"
     ]
    },
    {
     "name": "stdout",
     "output_type": "stream",
     "text": [
      "custom_task_head frozen\n",
      "custom_task_head frozen\n"
     ]
    },
    {
     "name": "stderr",
     "output_type": "stream",
     "text": [
      " 75%|███████▌  | 3/4 [00:03<00:00,  1.24it/s]"
     ]
    },
    {
     "name": "stdout",
     "output_type": "stream",
     "text": [
      "custom_task_head frozen\n"
     ]
    },
    {
     "name": "stderr",
     "output_type": "stream",
     "text": [
      "100%|██████████| 4/4 [00:03<00:00,  1.74it/s]"
     ]
    },
    {
     "name": "stdout",
     "output_type": "stream",
     "text": [
      "custom_task_head frozen\n"
     ]
    },
    {
     "name": "stderr",
     "output_type": "stream",
     "text": [
      "100%|██████████| 4/4 [00:04<00:00,  1.09s/it]\n"
     ]
    },
    {
     "name": "stdout",
     "output_type": "stream",
     "text": [
      "Score decreased (0.403043 --> 0.362446).  Saving model ./temp/gadformer_checkpoint.pt ...\n",
      "5 trn|vld|cp[0.28528|0.36245|0.36245] - best score: 0.36245 (5)\n"
     ]
    },
    {
     "name": "stderr",
     "output_type": "stream",
     "text": [
      "100%|██████████| 8/8 [00:06<00:00,  1.32it/s]\n",
      " 50%|█████     | 2/4 [00:03<00:02,  1.43s/it]"
     ]
    },
    {
     "name": "stdout",
     "output_type": "stream",
     "text": [
      "custom_task_head frozen\n",
      "custom_task_head frozen\n"
     ]
    },
    {
     "name": "stderr",
     "output_type": "stream",
     "text": [
      " 75%|███████▌  | 3/4 [00:03<00:00,  1.19it/s]"
     ]
    },
    {
     "name": "stdout",
     "output_type": "stream",
     "text": [
      "custom_task_head frozen\n"
     ]
    },
    {
     "name": "stderr",
     "output_type": "stream",
     "text": [
      "100%|██████████| 4/4 [00:03<00:00,  1.66it/s]"
     ]
    },
    {
     "name": "stdout",
     "output_type": "stream",
     "text": [
      "custom_task_head frozen\n"
     ]
    },
    {
     "name": "stderr",
     "output_type": "stream",
     "text": [
      "100%|██████████| 4/4 [00:04<00:00,  1.13s/it]\n"
     ]
    },
    {
     "name": "stdout",
     "output_type": "stream",
     "text": [
      "Score decreased (0.362446 --> 0.330489).  Saving model ./temp/gadformer_checkpoint.pt ...\n",
      "6 trn|vld|cp[0.22779|0.33049|0.33049] - best score: 0.33049 (6)\n"
     ]
    },
    {
     "name": "stderr",
     "output_type": "stream",
     "text": [
      "100%|██████████| 8/8 [00:06<00:00,  1.22it/s]\n",
      " 50%|█████     | 2/4 [00:02<00:02,  1.25s/it]"
     ]
    },
    {
     "name": "stdout",
     "output_type": "stream",
     "text": [
      "custom_task_head frozen\n",
      "custom_task_head frozen\n"
     ]
    },
    {
     "name": "stderr",
     "output_type": "stream",
     "text": [
      " 75%|███████▌  | 3/4 [00:03<00:00,  1.35it/s]"
     ]
    },
    {
     "name": "stdout",
     "output_type": "stream",
     "text": [
      "custom_task_head frozen\n"
     ]
    },
    {
     "name": "stderr",
     "output_type": "stream",
     "text": [
      "100%|██████████| 4/4 [00:03<00:00,  1.84it/s]"
     ]
    },
    {
     "name": "stdout",
     "output_type": "stream",
     "text": [
      "custom_task_head frozen\n"
     ]
    },
    {
     "name": "stderr",
     "output_type": "stream",
     "text": [
      "100%|██████████| 4/4 [00:04<00:00,  1.02s/it]\n"
     ]
    },
    {
     "name": "stdout",
     "output_type": "stream",
     "text": [
      "Score decreased (0.330489 --> 0.308584).  Saving model ./temp/gadformer_checkpoint.pt ...\n",
      "7 trn|vld|cp[0.17888|0.30858|0.30858] - best score: 0.30858 (7)\n"
     ]
    },
    {
     "name": "stderr",
     "output_type": "stream",
     "text": [
      "100%|██████████| 8/8 [00:05<00:00,  1.35it/s]\n",
      " 50%|█████     | 2/4 [00:03<00:02,  1.34s/it]"
     ]
    },
    {
     "name": "stdout",
     "output_type": "stream",
     "text": [
      "custom_task_head frozen\n",
      "custom_task_head frozen\n"
     ]
    },
    {
     "name": "stderr",
     "output_type": "stream",
     "text": [
      " 75%|███████▌  | 3/4 [00:03<00:00,  1.28it/s]"
     ]
    },
    {
     "name": "stdout",
     "output_type": "stream",
     "text": [
      "custom_task_head frozen\n"
     ]
    },
    {
     "name": "stderr",
     "output_type": "stream",
     "text": [
      "100%|██████████| 4/4 [00:03<00:00,  1.79it/s]"
     ]
    },
    {
     "name": "stdout",
     "output_type": "stream",
     "text": [
      "custom_task_head frozen\n"
     ]
    },
    {
     "name": "stderr",
     "output_type": "stream",
     "text": [
      "100%|██████████| 4/4 [00:04<00:00,  1.08s/it]\n"
     ]
    },
    {
     "name": "stdout",
     "output_type": "stream",
     "text": [
      "Score decreased (0.308584 --> 0.297742).  Saving model ./temp/gadformer_checkpoint.pt ...\n",
      "8 trn|vld|cp[0.13694|0.29774|0.29774] - best score: 0.29774 (8)\n"
     ]
    },
    {
     "name": "stderr",
     "output_type": "stream",
     "text": [
      "100%|██████████| 8/8 [00:05<00:00,  1.36it/s]\n",
      " 50%|█████     | 2/4 [00:03<00:02,  1.34s/it]"
     ]
    },
    {
     "name": "stdout",
     "output_type": "stream",
     "text": [
      "custom_task_head frozen\n",
      "custom_task_head frozen\n"
     ]
    },
    {
     "name": "stderr",
     "output_type": "stream",
     "text": [
      " 75%|███████▌  | 3/4 [00:03<00:00,  1.27it/s]"
     ]
    },
    {
     "name": "stdout",
     "output_type": "stream",
     "text": [
      "custom_task_head frozen\n"
     ]
    },
    {
     "name": "stderr",
     "output_type": "stream",
     "text": [
      "100%|██████████| 4/4 [00:03<00:00,  1.77it/s]"
     ]
    },
    {
     "name": "stdout",
     "output_type": "stream",
     "text": [
      "custom_task_head frozen\n"
     ]
    },
    {
     "name": "stderr",
     "output_type": "stream",
     "text": [
      "100%|██████████| 4/4 [00:04<00:00,  1.08s/it]\n"
     ]
    },
    {
     "name": "stdout",
     "output_type": "stream",
     "text": [
      "Score decreased (0.297742 --> 0.297274).  Saving model ./temp/gadformer_checkpoint.pt ...\n",
      "9 trn|vld|cp[0.10304|0.29727|0.29727] - best score: 0.29727 (9)\n"
     ]
    },
    {
     "name": "stderr",
     "output_type": "stream",
     "text": [
      "100%|██████████| 8/8 [00:05<00:00,  1.37it/s]\n",
      " 50%|█████     | 2/4 [00:03<00:02,  1.40s/it]"
     ]
    },
    {
     "name": "stdout",
     "output_type": "stream",
     "text": [
      "custom_task_head frozen\n",
      "custom_task_head frozen\n"
     ]
    },
    {
     "name": "stderr",
     "output_type": "stream",
     "text": [
      "100%|██████████| 4/4 [00:03<00:00,  1.75it/s]"
     ]
    },
    {
     "name": "stdout",
     "output_type": "stream",
     "text": [
      "custom_task_head frozen\n",
      "custom_task_head frozen\n"
     ]
    },
    {
     "name": "stderr",
     "output_type": "stream",
     "text": [
      "100%|██████████| 4/4 [00:04<00:00,  1.10s/it]\n"
     ]
    },
    {
     "name": "stdout",
     "output_type": "stream",
     "text": [
      "EarlyStopping counter: 1 out of 5\n",
      "10 trn|vld|cp[0.07653|0.30438|0.30438] - best score: 0.29727 (9)\n",
      "Epoch 00011: reducing learning rate of group 0 to 1.0000e-04.\n"
     ]
    },
    {
     "name": "stderr",
     "output_type": "stream",
     "text": [
      "100%|██████████| 8/8 [00:05<00:00,  1.37it/s]\n",
      "100%|██████████| 4/4 [00:04<00:00,  1.04s/it]\n"
     ]
    },
    {
     "name": "stdout",
     "output_type": "stream",
     "text": [
      "EarlyStopping counter: 2 out of 5\n",
      "11 trn|vld|cp[0.06342|0.30544|0.30544] - best score: 0.29727 (9)\n",
      "Epoch 00012: reducing learning rate of group 0 to 1.0000e-05.\n"
     ]
    },
    {
     "name": "stderr",
     "output_type": "stream",
     "text": [
      "100%|██████████| 8/8 [00:06<00:00,  1.32it/s]\n",
      "100%|██████████| 4/4 [00:04<00:00,  1.13s/it]\n"
     ]
    },
    {
     "name": "stdout",
     "output_type": "stream",
     "text": [
      "EarlyStopping counter: 3 out of 5\n",
      "12 trn|vld|cp[0.06225|0.30554|0.30554] - best score: 0.29727 (9)\n",
      "Epoch 00013: reducing learning rate of group 0 to 1.0000e-06.\n"
     ]
    },
    {
     "name": "stderr",
     "output_type": "stream",
     "text": [
      "100%|██████████| 8/8 [00:06<00:00,  1.27it/s]\n",
      "100%|██████████| 4/4 [00:04<00:00,  1.09s/it]\n"
     ]
    },
    {
     "name": "stdout",
     "output_type": "stream",
     "text": [
      "EarlyStopping counter: 4 out of 5\n",
      "13 trn|vld|cp[0.06214|0.30555|0.30555] - best score: 0.29727 (9)\n"
     ]
    },
    {
     "name": "stderr",
     "output_type": "stream",
     "text": [
      "100%|██████████| 8/8 [00:05<00:00,  1.35it/s]\n",
      "100%|██████████| 4/4 [00:04<00:00,  1.02s/it]\n"
     ]
    },
    {
     "name": "stdout",
     "output_type": "stream",
     "text": [
      "EarlyStopping counter: 5 out of 5\n",
      "14 trn|vld|cp[0.06212|0.30556|0.30556] - best score: 0.29727 (9)\n",
      "Early Stop!\n"
     ]
    },
    {
     "name": "stderr",
     "output_type": "stream",
     "text": [
      "100%|██████████| 2/2 [00:04<00:00,  2.05s/it]\n"
     ]
    },
    {
     "name": "stdout",
     "output_type": "stream",
     "text": [
      " ################ SEED 3: AUROC: 0.98943 AUPRC: 0.93174 ################\n",
      " ################ SEED 4 ################\n",
      "\n",
      "-------------Creating *train* dataset from dataset file ./datasets/files_valid/Trajectorys2_72_2000_anom.csv -----\n",
      "\n",
      "        Step  Entity  X_Coord  Y_Coord  Label\n",
      "0          0       1      1.0     -1.0      0\n",
      "1          0       2      3.0      6.0      0\n",
      "2          0       3      3.0     -4.0      0\n",
      "3          0       4      1.0      3.0      0\n",
      "4          0       5      1.0      1.0      0\n",
      "...      ...     ...      ...      ...    ...\n",
      "143995    71    1996    148.0     73.0      0\n",
      "143996    71    1997    156.0     44.0      0\n",
      "143997    71    1998    145.0     48.0      0\n",
      "143998    71    1999    147.0     87.0      0\n",
      "143999    71    2000    158.0     97.0      0\n",
      "\n",
      "[144000 rows x 5 columns]\n",
      "trajectory length: 72, abnormal trajectories: 188/2000\n",
      "\n",
      "-------------Creating *valid* dataset from dataset file ./datasets/files_valid/Trajectorys2_72_1000_anom.csv -----\n",
      "\n",
      "       Step  Entity  X_Coord  Y_Coord  Label\n",
      "0         0       1      3.0      5.0      0\n",
      "1         0       2      2.0      4.0      0\n",
      "2         0       3      3.0     -3.0      0\n",
      "3         0       4      3.0      7.0      0\n",
      "4         0       5      3.0      6.0      0\n",
      "...     ...     ...      ...      ...    ...\n",
      "71995    71     996    163.0     66.0      0\n",
      "71996    71     997    154.0     74.0      0\n",
      "71997    71     998    153.0     81.0      0\n",
      "71998    71     999    141.0     82.0      0\n",
      "71999    71    1000    148.0     75.0      0\n",
      "\n",
      "[72000 rows x 5 columns]\n",
      "trajectory length: 72, abnormal trajectories: 92/1000\n",
      "\n",
      "-------------Creating *test* dataset from dataset file ./datasets/files_valid/Trajectorys2_72_400_anom.csv -----\n",
      "\n",
      "       Step  Entity  X_Coord  Y_Coord  Label\n",
      "0         0       1      1.0     -4.0      0\n",
      "1         0       2      3.0      5.0      0\n",
      "2         0       3      3.0      2.0      0\n",
      "3         0       4      1.0     -4.0      0\n",
      "4         0       5      1.0     -4.0      0\n",
      "...     ...     ...      ...      ...    ...\n",
      "28795    71     396    142.0    125.0      0\n",
      "28796    71     397    148.0     26.0      0\n",
      "28797    71     398    102.0     97.0      1\n",
      "28798    71     399    146.0    116.0      0\n",
      "28799    71     400    138.0     35.0      0\n",
      "\n",
      "[28800 rows x 5 columns]\n",
      "trajectory length: 72, abnormal trajectories: 37/400\n"
     ]
    },
    {
     "name": "stderr",
     "output_type": "stream",
     "text": [
      "100%|██████████| 8/8 [00:06<00:00,  1.32it/s]\n",
      " 50%|█████     | 2/4 [00:03<00:03,  1.66s/it]"
     ]
    },
    {
     "name": "stdout",
     "output_type": "stream",
     "text": [
      "custom_task_head frozen\n",
      "custom_task_head frozen\n"
     ]
    },
    {
     "name": "stderr",
     "output_type": "stream",
     "text": [
      "100%|██████████| 4/4 [00:04<00:00,  1.51it/s]"
     ]
    },
    {
     "name": "stdout",
     "output_type": "stream",
     "text": [
      "custom_task_head frozen\n",
      "custom_task_head frozen\n"
     ]
    },
    {
     "name": "stderr",
     "output_type": "stream",
     "text": [
      "100%|██████████| 4/4 [00:05<00:00,  1.26s/it]\n"
     ]
    },
    {
     "name": "stdout",
     "output_type": "stream",
     "text": [
      "Score decreased (inf --> 0.604316).  Saving model ./temp/gadformer_checkpoint.pt ...\n",
      "0 trn|vld|cp[0.6264|0.60432|0.60432] - best score: 0.60432 (0)\n"
     ]
    },
    {
     "name": "stderr",
     "output_type": "stream",
     "text": [
      "100%|██████████| 8/8 [00:06<00:00,  1.22it/s]\n",
      " 50%|█████     | 2/4 [00:02<00:02,  1.25s/it]"
     ]
    },
    {
     "name": "stdout",
     "output_type": "stream",
     "text": [
      "custom_task_head frozen\n",
      "custom_task_head frozen\n"
     ]
    },
    {
     "name": "stderr",
     "output_type": "stream",
     "text": [
      " 75%|███████▌  | 3/4 [00:03<00:00,  1.35it/s]"
     ]
    },
    {
     "name": "stdout",
     "output_type": "stream",
     "text": [
      "custom_task_head frozen\n"
     ]
    },
    {
     "name": "stderr",
     "output_type": "stream",
     "text": [
      "100%|██████████| 4/4 [00:03<00:00,  1.85it/s]"
     ]
    },
    {
     "name": "stdout",
     "output_type": "stream",
     "text": [
      "custom_task_head frozen\n"
     ]
    },
    {
     "name": "stderr",
     "output_type": "stream",
     "text": [
      "100%|██████████| 4/4 [00:04<00:00,  1.04s/it]\n"
     ]
    },
    {
     "name": "stdout",
     "output_type": "stream",
     "text": [
      "Score decreased (0.604316 --> 0.518326).  Saving model ./temp/gadformer_checkpoint.pt ...\n",
      "1 trn|vld|cp[0.53362|0.51833|0.51833] - best score: 0.51833 (1)\n"
     ]
    },
    {
     "name": "stderr",
     "output_type": "stream",
     "text": [
      "100%|██████████| 8/8 [00:05<00:00,  1.34it/s]\n",
      " 50%|█████     | 2/4 [00:03<00:02,  1.40s/it]"
     ]
    },
    {
     "name": "stdout",
     "output_type": "stream",
     "text": [
      "custom_task_head frozen\n",
      "custom_task_head frozen\n"
     ]
    },
    {
     "name": "stderr",
     "output_type": "stream",
     "text": [
      " 75%|███████▌  | 3/4 [00:03<00:00,  1.22it/s]"
     ]
    },
    {
     "name": "stdout",
     "output_type": "stream",
     "text": [
      "custom_task_head frozen\n"
     ]
    },
    {
     "name": "stderr",
     "output_type": "stream",
     "text": [
      "100%|██████████| 4/4 [00:03<00:00,  1.71it/s]"
     ]
    },
    {
     "name": "stdout",
     "output_type": "stream",
     "text": [
      "custom_task_head frozen\n"
     ]
    },
    {
     "name": "stderr",
     "output_type": "stream",
     "text": [
      "100%|██████████| 4/4 [00:04<00:00,  1.12s/it]\n"
     ]
    },
    {
     "name": "stdout",
     "output_type": "stream",
     "text": [
      "Score decreased (0.518326 --> 0.463267).  Saving model ./temp/gadformer_checkpoint.pt ...\n",
      "2 trn|vld|cp[0.43936|0.46327|0.46327] - best score: 0.46327 (2)\n"
     ]
    },
    {
     "name": "stderr",
     "output_type": "stream",
     "text": [
      "100%|██████████| 8/8 [00:06<00:00,  1.29it/s]\n",
      " 50%|█████     | 2/4 [00:03<00:02,  1.30s/it]"
     ]
    },
    {
     "name": "stdout",
     "output_type": "stream",
     "text": [
      "custom_task_head frozen\n",
      "custom_task_head frozen\n"
     ]
    },
    {
     "name": "stderr",
     "output_type": "stream",
     "text": [
      " 75%|███████▌  | 3/4 [00:03<00:00,  1.31it/s]"
     ]
    },
    {
     "name": "stdout",
     "output_type": "stream",
     "text": [
      "custom_task_head frozen\n"
     ]
    },
    {
     "name": "stderr",
     "output_type": "stream",
     "text": [
      "100%|██████████| 4/4 [00:03<00:00,  1.80it/s]"
     ]
    },
    {
     "name": "stdout",
     "output_type": "stream",
     "text": [
      "custom_task_head frozen\n"
     ]
    },
    {
     "name": "stderr",
     "output_type": "stream",
     "text": [
      "100%|██████████| 4/4 [00:04<00:00,  1.07s/it]\n"
     ]
    },
    {
     "name": "stdout",
     "output_type": "stream",
     "text": [
      "Score decreased (0.463267 --> 0.418197).  Saving model ./temp/gadformer_checkpoint.pt ...\n",
      "3 trn|vld|cp[0.37286|0.4182|0.4182] - best score: 0.4182 (3)\n"
     ]
    },
    {
     "name": "stderr",
     "output_type": "stream",
     "text": [
      "100%|██████████| 8/8 [00:05<00:00,  1.37it/s]\n",
      " 50%|█████     | 2/4 [00:03<00:02,  1.49s/it]"
     ]
    },
    {
     "name": "stdout",
     "output_type": "stream",
     "text": [
      "custom_task_head frozen\n",
      "custom_task_head frozen\n"
     ]
    },
    {
     "name": "stderr",
     "output_type": "stream",
     "text": [
      " 75%|███████▌  | 3/4 [00:03<00:00,  1.16it/s]"
     ]
    },
    {
     "name": "stdout",
     "output_type": "stream",
     "text": [
      "custom_task_head frozen\n"
     ]
    },
    {
     "name": "stderr",
     "output_type": "stream",
     "text": [
      "100%|██████████| 4/4 [00:03<00:00,  1.65it/s]"
     ]
    },
    {
     "name": "stdout",
     "output_type": "stream",
     "text": [
      "custom_task_head frozen\n"
     ]
    },
    {
     "name": "stderr",
     "output_type": "stream",
     "text": [
      "100%|██████████| 4/4 [00:04<00:00,  1.12s/it]\n"
     ]
    },
    {
     "name": "stdout",
     "output_type": "stream",
     "text": [
      "Score decreased (0.418197 --> 0.378135).  Saving model ./temp/gadformer_checkpoint.pt ...\n",
      "4 trn|vld|cp[0.30975|0.37813|0.37813] - best score: 0.37813 (4)\n"
     ]
    },
    {
     "name": "stderr",
     "output_type": "stream",
     "text": [
      "100%|██████████| 8/8 [00:05<00:00,  1.45it/s]\n",
      " 50%|█████     | 2/4 [00:03<00:02,  1.35s/it]"
     ]
    },
    {
     "name": "stdout",
     "output_type": "stream",
     "text": [
      "custom_task_head frozen\n",
      "custom_task_head frozen\n"
     ]
    },
    {
     "name": "stderr",
     "output_type": "stream",
     "text": [
      "100%|██████████| 4/4 [00:03<00:00,  1.78it/s]"
     ]
    },
    {
     "name": "stdout",
     "output_type": "stream",
     "text": [
      "custom_task_head frozen\n",
      "custom_task_head frozen\n"
     ]
    },
    {
     "name": "stderr",
     "output_type": "stream",
     "text": [
      "100%|██████████| 4/4 [00:04<00:00,  1.08s/it]\n"
     ]
    },
    {
     "name": "stdout",
     "output_type": "stream",
     "text": [
      "Score decreased (0.378135 --> 0.346829).  Saving model ./temp/gadformer_checkpoint.pt ...\n",
      "5 trn|vld|cp[0.2552|0.34683|0.34683] - best score: 0.34683 (5)\n"
     ]
    },
    {
     "name": "stderr",
     "output_type": "stream",
     "text": [
      "100%|██████████| 8/8 [00:06<00:00,  1.24it/s]\n",
      " 50%|█████     | 2/4 [00:02<00:02,  1.23s/it]"
     ]
    },
    {
     "name": "stdout",
     "output_type": "stream",
     "text": [
      "custom_task_head frozen\n",
      "custom_task_head frozen\n"
     ]
    },
    {
     "name": "stderr",
     "output_type": "stream",
     "text": [
      "100%|██████████| 4/4 [00:03<00:00,  1.93it/s]"
     ]
    },
    {
     "name": "stdout",
     "output_type": "stream",
     "text": [
      "custom_task_head frozen\n",
      "custom_task_head frozen\n"
     ]
    },
    {
     "name": "stderr",
     "output_type": "stream",
     "text": [
      "100%|██████████| 4/4 [00:03<00:00,  1.00it/s]\n"
     ]
    },
    {
     "name": "stdout",
     "output_type": "stream",
     "text": [
      "Score decreased (0.346829 --> 0.322011).  Saving model ./temp/gadformer_checkpoint.pt ...\n",
      "6 trn|vld|cp[0.20646|0.32201|0.32201] - best score: 0.32201 (6)\n"
     ]
    },
    {
     "name": "stderr",
     "output_type": "stream",
     "text": [
      "100%|██████████| 8/8 [00:05<00:00,  1.44it/s]\n",
      " 50%|█████     | 2/4 [00:03<00:02,  1.41s/it]"
     ]
    },
    {
     "name": "stdout",
     "output_type": "stream",
     "text": [
      "custom_task_head frozen\n",
      "custom_task_head frozen\n"
     ]
    },
    {
     "name": "stderr",
     "output_type": "stream",
     "text": [
      " 75%|███████▌  | 3/4 [00:03<00:00,  1.20it/s]"
     ]
    },
    {
     "name": "stdout",
     "output_type": "stream",
     "text": [
      "custom_task_head frozen\n"
     ]
    },
    {
     "name": "stderr",
     "output_type": "stream",
     "text": [
      "100%|██████████| 4/4 [00:03<00:00,  1.69it/s]"
     ]
    },
    {
     "name": "stdout",
     "output_type": "stream",
     "text": [
      "custom_task_head frozen\n"
     ]
    },
    {
     "name": "stderr",
     "output_type": "stream",
     "text": [
      "100%|██████████| 4/4 [00:04<00:00,  1.14s/it]\n"
     ]
    },
    {
     "name": "stdout",
     "output_type": "stream",
     "text": [
      "Score decreased (0.322011 --> 0.307705).  Saving model ./temp/gadformer_checkpoint.pt ...\n",
      "7 trn|vld|cp[0.16415|0.3077|0.3077] - best score: 0.3077 (7)\n"
     ]
    },
    {
     "name": "stderr",
     "output_type": "stream",
     "text": [
      "100%|██████████| 8/8 [00:06<00:00,  1.30it/s]\n",
      " 50%|█████     | 2/4 [00:04<00:03,  1.70s/it]"
     ]
    },
    {
     "name": "stdout",
     "output_type": "stream",
     "text": [
      "custom_task_head frozen\n",
      "custom_task_head frozen\n"
     ]
    },
    {
     "name": "stderr",
     "output_type": "stream",
     "text": [
      "100%|██████████| 4/4 [00:04<00:00,  1.48it/s]"
     ]
    },
    {
     "name": "stdout",
     "output_type": "stream",
     "text": [
      "custom_task_head frozen\n",
      "custom_task_head frozen\n"
     ]
    },
    {
     "name": "stderr",
     "output_type": "stream",
     "text": [
      "100%|██████████| 4/4 [00:05<00:00,  1.29s/it]\n"
     ]
    },
    {
     "name": "stdout",
     "output_type": "stream",
     "text": [
      "Score decreased (0.307705 --> 0.302885).  Saving model ./temp/gadformer_checkpoint.pt ...\n",
      "8 trn|vld|cp[0.12742|0.30289|0.30289] - best score: 0.30289 (8)\n"
     ]
    },
    {
     "name": "stderr",
     "output_type": "stream",
     "text": [
      "100%|██████████| 8/8 [00:07<00:00,  1.14it/s]\n",
      " 50%|█████     | 2/4 [00:03<00:02,  1.31s/it]"
     ]
    },
    {
     "name": "stdout",
     "output_type": "stream",
     "text": [
      "custom_task_head frozen\n",
      "custom_task_head frozen\n"
     ]
    },
    {
     "name": "stderr",
     "output_type": "stream",
     "text": [
      " 75%|███████▌  | 3/4 [00:03<00:00,  1.30it/s]"
     ]
    },
    {
     "name": "stdout",
     "output_type": "stream",
     "text": [
      "custom_task_head frozen\n"
     ]
    },
    {
     "name": "stderr",
     "output_type": "stream",
     "text": [
      "100%|██████████| 4/4 [00:03<00:00,  1.81it/s]"
     ]
    },
    {
     "name": "stdout",
     "output_type": "stream",
     "text": [
      "custom_task_head frozen\n"
     ]
    },
    {
     "name": "stderr",
     "output_type": "stream",
     "text": [
      "100%|██████████| 4/4 [00:04<00:00,  1.05s/it]\n"
     ]
    },
    {
     "name": "stdout",
     "output_type": "stream",
     "text": [
      "EarlyStopping counter: 1 out of 5\n",
      "9 trn|vld|cp[0.09691|0.30449|0.30449] - best score: 0.30289 (8)\n",
      "Epoch 00010: reducing learning rate of group 0 to 1.0000e-04.\n"
     ]
    },
    {
     "name": "stderr",
     "output_type": "stream",
     "text": [
      "100%|██████████| 8/8 [00:06<00:00,  1.29it/s]\n",
      "100%|██████████| 4/4 [00:04<00:00,  1.13s/it]\n"
     ]
    },
    {
     "name": "stdout",
     "output_type": "stream",
     "text": [
      "EarlyStopping counter: 2 out of 5\n",
      "10 trn|vld|cp[0.08134|0.30499|0.30499] - best score: 0.30289 (8)\n",
      "Epoch 00011: reducing learning rate of group 0 to 1.0000e-05.\n"
     ]
    },
    {
     "name": "stderr",
     "output_type": "stream",
     "text": [
      "100%|██████████| 8/8 [00:05<00:00,  1.39it/s]\n",
      "100%|██████████| 4/4 [00:04<00:00,  1.21s/it]\n"
     ]
    },
    {
     "name": "stdout",
     "output_type": "stream",
     "text": [
      "EarlyStopping counter: 3 out of 5\n",
      "11 trn|vld|cp[0.07992|0.30505|0.30505] - best score: 0.30289 (8)\n",
      "Epoch 00012: reducing learning rate of group 0 to 1.0000e-06.\n"
     ]
    },
    {
     "name": "stderr",
     "output_type": "stream",
     "text": [
      "100%|██████████| 8/8 [00:06<00:00,  1.16it/s]\n",
      "100%|██████████| 4/4 [00:04<00:00,  1.14s/it]\n"
     ]
    },
    {
     "name": "stdout",
     "output_type": "stream",
     "text": [
      "EarlyStopping counter: 4 out of 5\n",
      "12 trn|vld|cp[0.07977|0.30505|0.30505] - best score: 0.30289 (8)\n"
     ]
    },
    {
     "name": "stderr",
     "output_type": "stream",
     "text": [
      "100%|██████████| 8/8 [00:06<00:00,  1.27it/s]\n",
      "100%|██████████| 4/4 [00:04<00:00,  1.02s/it]\n"
     ]
    },
    {
     "name": "stdout",
     "output_type": "stream",
     "text": [
      "EarlyStopping counter: 5 out of 5\n",
      "13 trn|vld|cp[0.07975|0.30506|0.30506] - best score: 0.30289 (8)\n",
      "Early Stop!\n"
     ]
    },
    {
     "name": "stderr",
     "output_type": "stream",
     "text": [
      "100%|██████████| 2/2 [00:03<00:00,  1.98s/it]\n"
     ]
    },
    {
     "name": "stdout",
     "output_type": "stream",
     "text": [
      " ################ SEED 4: AUROC: 0.95428 AUPRC: 0.73784 ################\n",
      " ################ SEED 5 ################\n",
      "\n",
      "-------------Creating *train* dataset from dataset file ./datasets/files_valid/Trajectorys2_72_2000_anom.csv -----\n",
      "\n",
      "        Step  Entity  X_Coord  Y_Coord  Label\n",
      "0          0       1      1.0     -1.0      0\n",
      "1          0       2      3.0      6.0      0\n",
      "2          0       3      3.0     -4.0      0\n",
      "3          0       4      1.0      3.0      0\n",
      "4          0       5      1.0      1.0      0\n",
      "...      ...     ...      ...      ...    ...\n",
      "143995    71    1996    148.0     73.0      0\n",
      "143996    71    1997    156.0     44.0      0\n",
      "143997    71    1998    145.0     48.0      0\n",
      "143998    71    1999    147.0     87.0      0\n",
      "143999    71    2000    158.0     97.0      0\n",
      "\n",
      "[144000 rows x 5 columns]\n",
      "trajectory length: 72, abnormal trajectories: 188/2000\n",
      "\n",
      "-------------Creating *valid* dataset from dataset file ./datasets/files_valid/Trajectorys2_72_1000_anom.csv -----\n",
      "\n",
      "       Step  Entity  X_Coord  Y_Coord  Label\n",
      "0         0       1      3.0      5.0      0\n",
      "1         0       2      2.0      4.0      0\n",
      "2         0       3      3.0     -3.0      0\n",
      "3         0       4      3.0      7.0      0\n",
      "4         0       5      3.0      6.0      0\n",
      "...     ...     ...      ...      ...    ...\n",
      "71995    71     996    163.0     66.0      0\n",
      "71996    71     997    154.0     74.0      0\n",
      "71997    71     998    153.0     81.0      0\n",
      "71998    71     999    141.0     82.0      0\n",
      "71999    71    1000    148.0     75.0      0\n",
      "\n",
      "[72000 rows x 5 columns]\n",
      "trajectory length: 72, abnormal trajectories: 92/1000\n",
      "\n",
      "-------------Creating *test* dataset from dataset file ./datasets/files_valid/Trajectorys2_72_400_anom.csv -----\n",
      "\n",
      "       Step  Entity  X_Coord  Y_Coord  Label\n",
      "0         0       1      1.0     -4.0      0\n",
      "1         0       2      3.0      5.0      0\n",
      "2         0       3      3.0      2.0      0\n",
      "3         0       4      1.0     -4.0      0\n",
      "4         0       5      1.0     -4.0      0\n",
      "...     ...     ...      ...      ...    ...\n",
      "28795    71     396    142.0    125.0      0\n",
      "28796    71     397    148.0     26.0      0\n",
      "28797    71     398    102.0     97.0      1\n",
      "28798    71     399    146.0    116.0      0\n",
      "28799    71     400    138.0     35.0      0\n",
      "\n",
      "[28800 rows x 5 columns]\n",
      "trajectory length: 72, abnormal trajectories: 37/400\n"
     ]
    },
    {
     "name": "stderr",
     "output_type": "stream",
     "text": [
      "100%|██████████| 8/8 [00:06<00:00,  1.27it/s]\n",
      " 50%|█████     | 2/4 [00:03<00:03,  1.51s/it]"
     ]
    },
    {
     "name": "stdout",
     "output_type": "stream",
     "text": [
      "custom_task_head frozen\n",
      "custom_task_head frozen\n"
     ]
    },
    {
     "name": "stderr",
     "output_type": "stream",
     "text": [
      " 75%|███████▌  | 3/4 [00:03<00:00,  1.14it/s]"
     ]
    },
    {
     "name": "stdout",
     "output_type": "stream",
     "text": [
      "custom_task_head frozen\n"
     ]
    },
    {
     "name": "stderr",
     "output_type": "stream",
     "text": [
      "100%|██████████| 4/4 [00:03<00:00,  1.59it/s]"
     ]
    },
    {
     "name": "stdout",
     "output_type": "stream",
     "text": [
      "custom_task_head frozen\n"
     ]
    },
    {
     "name": "stderr",
     "output_type": "stream",
     "text": [
      "100%|██████████| 4/4 [00:04<00:00,  1.19s/it]\n"
     ]
    },
    {
     "name": "stdout",
     "output_type": "stream",
     "text": [
      "Score decreased (inf --> 0.628683).  Saving model ./temp/gadformer_checkpoint.pt ...\n",
      "0 trn|vld|cp[0.64827|0.62868|0.62868] - best score: 0.62868 (0)\n"
     ]
    },
    {
     "name": "stderr",
     "output_type": "stream",
     "text": [
      "100%|██████████| 8/8 [00:06<00:00,  1.33it/s]\n",
      " 50%|█████     | 2/4 [00:03<00:02,  1.37s/it]"
     ]
    },
    {
     "name": "stdout",
     "output_type": "stream",
     "text": [
      "custom_task_head frozen\n",
      "custom_task_head frozen\n"
     ]
    },
    {
     "name": "stderr",
     "output_type": "stream",
     "text": [
      " 75%|███████▌  | 3/4 [00:03<00:00,  1.24it/s]"
     ]
    },
    {
     "name": "stdout",
     "output_type": "stream",
     "text": [
      "custom_task_head frozen\n"
     ]
    },
    {
     "name": "stderr",
     "output_type": "stream",
     "text": [
      "100%|██████████| 4/4 [00:03<00:00,  1.70it/s]"
     ]
    },
    {
     "name": "stdout",
     "output_type": "stream",
     "text": [
      "custom_task_head frozen\n"
     ]
    },
    {
     "name": "stderr",
     "output_type": "stream",
     "text": [
      "100%|██████████| 4/4 [00:04<00:00,  1.12s/it]\n"
     ]
    },
    {
     "name": "stdout",
     "output_type": "stream",
     "text": [
      "Score decreased (0.628683 --> 0.546845).  Saving model ./temp/gadformer_checkpoint.pt ...\n",
      "1 trn|vld|cp[0.56643|0.54685|0.54685] - best score: 0.54685 (1)\n"
     ]
    },
    {
     "name": "stderr",
     "output_type": "stream",
     "text": [
      "100%|██████████| 8/8 [00:06<00:00,  1.27it/s]\n",
      " 50%|█████     | 2/4 [00:03<00:02,  1.40s/it]"
     ]
    },
    {
     "name": "stdout",
     "output_type": "stream",
     "text": [
      "custom_task_head frozen\n",
      "custom_task_head frozen\n"
     ]
    },
    {
     "name": "stderr",
     "output_type": "stream",
     "text": [
      " 75%|███████▌  | 3/4 [00:03<00:00,  1.23it/s]"
     ]
    },
    {
     "name": "stdout",
     "output_type": "stream",
     "text": [
      "custom_task_head frozen\n"
     ]
    },
    {
     "name": "stderr",
     "output_type": "stream",
     "text": [
      "100%|██████████| 4/4 [00:03<00:00,  1.70it/s]"
     ]
    },
    {
     "name": "stdout",
     "output_type": "stream",
     "text": [
      "custom_task_head frozen\n"
     ]
    },
    {
     "name": "stderr",
     "output_type": "stream",
     "text": [
      "100%|██████████| 4/4 [00:04<00:00,  1.11s/it]\n"
     ]
    },
    {
     "name": "stdout",
     "output_type": "stream",
     "text": [
      "Score decreased (0.546845 --> 0.482416).  Saving model ./temp/gadformer_checkpoint.pt ...\n",
      "2 trn|vld|cp[0.47746|0.48242|0.48242] - best score: 0.48242 (2)\n"
     ]
    },
    {
     "name": "stderr",
     "output_type": "stream",
     "text": [
      "100%|██████████| 8/8 [00:06<00:00,  1.25it/s]\n",
      " 50%|█████     | 2/4 [00:03<00:02,  1.41s/it]"
     ]
    },
    {
     "name": "stdout",
     "output_type": "stream",
     "text": [
      "custom_task_head frozen\n",
      "custom_task_head frozen\n"
     ]
    },
    {
     "name": "stderr",
     "output_type": "stream",
     "text": [
      " 75%|███████▌  | 3/4 [00:03<00:00,  1.20it/s]"
     ]
    },
    {
     "name": "stdout",
     "output_type": "stream",
     "text": [
      "custom_task_head frozen\n"
     ]
    },
    {
     "name": "stderr",
     "output_type": "stream",
     "text": [
      "100%|██████████| 4/4 [00:03<00:00,  1.68it/s]"
     ]
    },
    {
     "name": "stdout",
     "output_type": "stream",
     "text": [
      "custom_task_head frozen\n"
     ]
    },
    {
     "name": "stderr",
     "output_type": "stream",
     "text": [
      "100%|██████████| 4/4 [00:04<00:00,  1.12s/it]\n"
     ]
    },
    {
     "name": "stdout",
     "output_type": "stream",
     "text": [
      "Score decreased (0.482416 --> 0.429204).  Saving model ./temp/gadformer_checkpoint.pt ...\n",
      "3 trn|vld|cp[0.39723|0.4292|0.4292] - best score: 0.4292 (3)\n"
     ]
    },
    {
     "name": "stderr",
     "output_type": "stream",
     "text": [
      "100%|██████████| 8/8 [00:06<00:00,  1.32it/s]\n",
      " 50%|█████     | 2/4 [00:04<00:03,  1.78s/it]"
     ]
    },
    {
     "name": "stdout",
     "output_type": "stream",
     "text": [
      "custom_task_head frozen\n",
      "custom_task_head frozen\n"
     ]
    },
    {
     "name": "stderr",
     "output_type": "stream",
     "text": [
      " 75%|███████▌  | 3/4 [00:04<00:01,  1.03s/it]"
     ]
    },
    {
     "name": "stdout",
     "output_type": "stream",
     "text": [
      "custom_task_head frozen\n"
     ]
    },
    {
     "name": "stderr",
     "output_type": "stream",
     "text": [
      "100%|██████████| 4/4 [00:04<00:00,  1.41it/s]"
     ]
    },
    {
     "name": "stdout",
     "output_type": "stream",
     "text": [
      "custom_task_head frozen\n"
     ]
    },
    {
     "name": "stderr",
     "output_type": "stream",
     "text": [
      "100%|██████████| 4/4 [00:05<00:00,  1.35s/it]\n"
     ]
    },
    {
     "name": "stdout",
     "output_type": "stream",
     "text": [
      "Score decreased (0.429204 --> 0.390879).  Saving model ./temp/gadformer_checkpoint.pt ...\n",
      "4 trn|vld|cp[0.32756|0.39088|0.39088] - best score: 0.39088 (4)\n"
     ]
    },
    {
     "name": "stderr",
     "output_type": "stream",
     "text": [
      "100%|██████████| 8/8 [00:06<00:00,  1.19it/s]\n",
      " 50%|█████     | 2/4 [00:03<00:02,  1.27s/it]"
     ]
    },
    {
     "name": "stdout",
     "output_type": "stream",
     "text": [
      "custom_task_head frozen\n",
      "custom_task_head frozen\n"
     ]
    },
    {
     "name": "stderr",
     "output_type": "stream",
     "text": [
      " 75%|███████▌  | 3/4 [00:03<00:00,  1.31it/s]"
     ]
    },
    {
     "name": "stdout",
     "output_type": "stream",
     "text": [
      "custom_task_head frozen\n"
     ]
    },
    {
     "name": "stderr",
     "output_type": "stream",
     "text": [
      "100%|██████████| 4/4 [00:03<00:00,  1.83it/s]"
     ]
    },
    {
     "name": "stdout",
     "output_type": "stream",
     "text": [
      "custom_task_head frozen\n"
     ]
    },
    {
     "name": "stderr",
     "output_type": "stream",
     "text": [
      "100%|██████████| 4/4 [00:04<00:00,  1.04s/it]\n"
     ]
    },
    {
     "name": "stdout",
     "output_type": "stream",
     "text": [
      "Score decreased (0.390879 --> 0.357048).  Saving model ./temp/gadformer_checkpoint.pt ...\n",
      "5 trn|vld|cp[0.26965|0.35705|0.35705] - best score: 0.35705 (5)\n"
     ]
    },
    {
     "name": "stderr",
     "output_type": "stream",
     "text": [
      "100%|██████████| 8/8 [00:06<00:00,  1.27it/s]\n",
      " 50%|█████     | 2/4 [00:03<00:02,  1.49s/it]"
     ]
    },
    {
     "name": "stdout",
     "output_type": "stream",
     "text": [
      "custom_task_head frozen\n",
      "custom_task_head frozen\n"
     ]
    },
    {
     "name": "stderr",
     "output_type": "stream",
     "text": [
      "100%|██████████| 4/4 [00:03<00:00,  1.68it/s]"
     ]
    },
    {
     "name": "stdout",
     "output_type": "stream",
     "text": [
      "custom_task_head frozen\n",
      "custom_task_head frozen\n"
     ]
    },
    {
     "name": "stderr",
     "output_type": "stream",
     "text": [
      "100%|██████████| 4/4 [00:04<00:00,  1.16s/it]\n"
     ]
    },
    {
     "name": "stdout",
     "output_type": "stream",
     "text": [
      "Score decreased (0.357048 --> 0.329536).  Saving model ./temp/gadformer_checkpoint.pt ...\n",
      "6 trn|vld|cp[0.21422|0.32954|0.32954] - best score: 0.32954 (6)\n"
     ]
    },
    {
     "name": "stderr",
     "output_type": "stream",
     "text": [
      "100%|██████████| 8/8 [00:05<00:00,  1.39it/s]\n",
      " 50%|█████     | 2/4 [00:03<00:02,  1.49s/it]"
     ]
    },
    {
     "name": "stdout",
     "output_type": "stream",
     "text": [
      "custom_task_head frozen\n",
      "custom_task_head frozen\n"
     ]
    },
    {
     "name": "stderr",
     "output_type": "stream",
     "text": [
      "100%|██████████| 4/4 [00:03<00:00,  1.66it/s]"
     ]
    },
    {
     "name": "stdout",
     "output_type": "stream",
     "text": [
      "custom_task_head frozen\n",
      "custom_task_head frozen\n"
     ]
    },
    {
     "name": "stderr",
     "output_type": "stream",
     "text": [
      "100%|██████████| 4/4 [00:04<00:00,  1.16s/it]\n"
     ]
    },
    {
     "name": "stdout",
     "output_type": "stream",
     "text": [
      "Score decreased (0.329536 --> 0.311933).  Saving model ./temp/gadformer_checkpoint.pt ...\n",
      "7 trn|vld|cp[0.1642|0.31193|0.31193] - best score: 0.31193 (7)\n"
     ]
    },
    {
     "name": "stderr",
     "output_type": "stream",
     "text": [
      "100%|██████████| 8/8 [00:06<00:00,  1.18it/s]\n",
      " 25%|██▌       | 1/4 [00:03<00:09,  3.04s/it]"
     ]
    },
    {
     "name": "stdout",
     "output_type": "stream",
     "text": [
      "custom_task_head frozen\n"
     ]
    },
    {
     "name": "stderr",
     "output_type": "stream",
     "text": [
      " 75%|███████▌  | 3/4 [00:03<00:00,  1.25it/s]"
     ]
    },
    {
     "name": "stdout",
     "output_type": "stream",
     "text": [
      "custom_task_head frozen\n",
      "custom_task_head frozen\n"
     ]
    },
    {
     "name": "stderr",
     "output_type": "stream",
     "text": [
      "100%|██████████| 4/4 [00:03<00:00,  1.78it/s]"
     ]
    },
    {
     "name": "stdout",
     "output_type": "stream",
     "text": [
      "custom_task_head frozen\n"
     ]
    },
    {
     "name": "stderr",
     "output_type": "stream",
     "text": [
      "100%|██████████| 4/4 [00:04<00:00,  1.08s/it]\n"
     ]
    },
    {
     "name": "stdout",
     "output_type": "stream",
     "text": [
      "Score decreased (0.311933 --> 0.304657).  Saving model ./temp/gadformer_checkpoint.pt ...\n",
      "8 trn|vld|cp[0.12242|0.30466|0.30466] - best score: 0.30466 (8)\n"
     ]
    },
    {
     "name": "stderr",
     "output_type": "stream",
     "text": [
      "100%|██████████| 8/8 [00:06<00:00,  1.23it/s]\n",
      " 50%|█████     | 2/4 [00:03<00:02,  1.40s/it]"
     ]
    },
    {
     "name": "stdout",
     "output_type": "stream",
     "text": [
      "custom_task_head frozen\n",
      "custom_task_head frozen\n"
     ]
    },
    {
     "name": "stderr",
     "output_type": "stream",
     "text": [
      " 75%|███████▌  | 3/4 [00:03<00:00,  1.21it/s]"
     ]
    },
    {
     "name": "stdout",
     "output_type": "stream",
     "text": [
      "custom_task_head frozen\n"
     ]
    },
    {
     "name": "stderr",
     "output_type": "stream",
     "text": [
      "100%|██████████| 4/4 [00:03<00:00,  1.72it/s]"
     ]
    },
    {
     "name": "stdout",
     "output_type": "stream",
     "text": [
      "custom_task_head frozen\n"
     ]
    },
    {
     "name": "stderr",
     "output_type": "stream",
     "text": [
      "100%|██████████| 4/4 [00:04<00:00,  1.13s/it]\n"
     ]
    },
    {
     "name": "stdout",
     "output_type": "stream",
     "text": [
      "EarlyStopping counter: 1 out of 5\n",
      "9 trn|vld|cp[0.0882|0.30798|0.30798] - best score: 0.30466 (8)\n",
      "Epoch 00010: reducing learning rate of group 0 to 1.0000e-04.\n"
     ]
    },
    {
     "name": "stderr",
     "output_type": "stream",
     "text": [
      "100%|██████████| 8/8 [00:06<00:00,  1.29it/s]\n",
      "100%|██████████| 4/4 [00:04<00:00,  1.07s/it]\n"
     ]
    },
    {
     "name": "stdout",
     "output_type": "stream",
     "text": [
      "EarlyStopping counter: 2 out of 5\n",
      "10 trn|vld|cp[0.07095|0.30886|0.30886] - best score: 0.30466 (8)\n",
      "Epoch 00011: reducing learning rate of group 0 to 1.0000e-05.\n"
     ]
    },
    {
     "name": "stderr",
     "output_type": "stream",
     "text": [
      "100%|██████████| 8/8 [00:06<00:00,  1.27it/s]\n",
      "100%|██████████| 4/4 [00:04<00:00,  1.09s/it]\n"
     ]
    },
    {
     "name": "stdout",
     "output_type": "stream",
     "text": [
      "EarlyStopping counter: 3 out of 5\n",
      "11 trn|vld|cp[0.06941|0.30896|0.30896] - best score: 0.30466 (8)\n",
      "Epoch 00012: reducing learning rate of group 0 to 1.0000e-06.\n"
     ]
    },
    {
     "name": "stderr",
     "output_type": "stream",
     "text": [
      "100%|██████████| 8/8 [00:06<00:00,  1.27it/s]\n",
      "100%|██████████| 4/4 [00:04<00:00,  1.19s/it]\n"
     ]
    },
    {
     "name": "stdout",
     "output_type": "stream",
     "text": [
      "EarlyStopping counter: 4 out of 5\n",
      "12 trn|vld|cp[0.06926|0.30897|0.30897] - best score: 0.30466 (8)\n"
     ]
    },
    {
     "name": "stderr",
     "output_type": "stream",
     "text": [
      "100%|██████████| 8/8 [00:06<00:00,  1.26it/s]\n",
      "100%|██████████| 4/4 [00:03<00:00,  1.01it/s]\n"
     ]
    },
    {
     "name": "stdout",
     "output_type": "stream",
     "text": [
      "EarlyStopping counter: 5 out of 5\n",
      "13 trn|vld|cp[0.06923|0.30897|0.30897] - best score: 0.30466 (8)\n",
      "Early Stop!\n"
     ]
    },
    {
     "name": "stderr",
     "output_type": "stream",
     "text": [
      "100%|██████████| 2/2 [00:04<00:00,  2.15s/it]\n"
     ]
    },
    {
     "name": "stdout",
     "output_type": "stream",
     "text": [
      " ################ SEED 5: AUROC: 0.93686 AUPRC: 0.76731 ################\n",
      " ################ SEED 6 ################\n",
      "\n",
      "-------------Creating *train* dataset from dataset file ./datasets/files_valid/Trajectorys2_72_2000_anom.csv -----\n",
      "\n",
      "        Step  Entity  X_Coord  Y_Coord  Label\n",
      "0          0       1      1.0     -1.0      0\n",
      "1          0       2      3.0      6.0      0\n",
      "2          0       3      3.0     -4.0      0\n",
      "3          0       4      1.0      3.0      0\n",
      "4          0       5      1.0      1.0      0\n",
      "...      ...     ...      ...      ...    ...\n",
      "143995    71    1996    148.0     73.0      0\n",
      "143996    71    1997    156.0     44.0      0\n",
      "143997    71    1998    145.0     48.0      0\n",
      "143998    71    1999    147.0     87.0      0\n",
      "143999    71    2000    158.0     97.0      0\n",
      "\n",
      "[144000 rows x 5 columns]\n",
      "trajectory length: 72, abnormal trajectories: 188/2000\n",
      "\n",
      "-------------Creating *valid* dataset from dataset file ./datasets/files_valid/Trajectorys2_72_1000_anom.csv -----\n",
      "\n",
      "       Step  Entity  X_Coord  Y_Coord  Label\n",
      "0         0       1      3.0      5.0      0\n",
      "1         0       2      2.0      4.0      0\n",
      "2         0       3      3.0     -3.0      0\n",
      "3         0       4      3.0      7.0      0\n",
      "4         0       5      3.0      6.0      0\n",
      "...     ...     ...      ...      ...    ...\n",
      "71995    71     996    163.0     66.0      0\n",
      "71996    71     997    154.0     74.0      0\n",
      "71997    71     998    153.0     81.0      0\n",
      "71998    71     999    141.0     82.0      0\n",
      "71999    71    1000    148.0     75.0      0\n",
      "\n",
      "[72000 rows x 5 columns]\n",
      "trajectory length: 72, abnormal trajectories: 92/1000\n",
      "\n",
      "-------------Creating *test* dataset from dataset file ./datasets/files_valid/Trajectorys2_72_400_anom.csv -----\n",
      "\n",
      "       Step  Entity  X_Coord  Y_Coord  Label\n",
      "0         0       1      1.0     -4.0      0\n",
      "1         0       2      3.0      5.0      0\n",
      "2         0       3      3.0      2.0      0\n",
      "3         0       4      1.0     -4.0      0\n",
      "4         0       5      1.0     -4.0      0\n",
      "...     ...     ...      ...      ...    ...\n",
      "28795    71     396    142.0    125.0      0\n",
      "28796    71     397    148.0     26.0      0\n",
      "28797    71     398    102.0     97.0      1\n",
      "28798    71     399    146.0    116.0      0\n",
      "28799    71     400    138.0     35.0      0\n",
      "\n",
      "[28800 rows x 5 columns]\n",
      "trajectory length: 72, abnormal trajectories: 37/400\n"
     ]
    },
    {
     "name": "stderr",
     "output_type": "stream",
     "text": [
      "100%|██████████| 8/8 [00:06<00:00,  1.33it/s]\n",
      " 50%|█████     | 2/4 [00:03<00:02,  1.35s/it]"
     ]
    },
    {
     "name": "stdout",
     "output_type": "stream",
     "text": [
      "custom_task_head frozen\n",
      "custom_task_head frozen\n"
     ]
    },
    {
     "name": "stderr",
     "output_type": "stream",
     "text": [
      " 75%|███████▌  | 3/4 [00:03<00:00,  1.25it/s]"
     ]
    },
    {
     "name": "stdout",
     "output_type": "stream",
     "text": [
      "custom_task_head frozen\n"
     ]
    },
    {
     "name": "stderr",
     "output_type": "stream",
     "text": [
      "100%|██████████| 4/4 [00:03<00:00,  1.77it/s]"
     ]
    },
    {
     "name": "stdout",
     "output_type": "stream",
     "text": [
      "custom_task_head frozen\n"
     ]
    },
    {
     "name": "stderr",
     "output_type": "stream",
     "text": [
      "100%|██████████| 4/4 [00:04<00:00,  1.09s/it]\n"
     ]
    },
    {
     "name": "stdout",
     "output_type": "stream",
     "text": [
      "Score decreased (inf --> 0.676289).  Saving model ./temp/gadformer_checkpoint.pt ...\n",
      "0 trn|vld|cp[0.74107|0.67629|0.67629] - best score: 0.67629 (0)\n"
     ]
    },
    {
     "name": "stderr",
     "output_type": "stream",
     "text": [
      "100%|██████████| 8/8 [00:06<00:00,  1.26it/s]\n",
      " 50%|█████     | 2/4 [00:03<00:02,  1.47s/it]"
     ]
    },
    {
     "name": "stdout",
     "output_type": "stream",
     "text": [
      "custom_task_head frozen\n",
      "custom_task_head frozen\n"
     ]
    },
    {
     "name": "stderr",
     "output_type": "stream",
     "text": [
      " 75%|███████▌  | 3/4 [00:03<00:00,  1.16it/s]"
     ]
    },
    {
     "name": "stdout",
     "output_type": "stream",
     "text": [
      "custom_task_head frozen\n"
     ]
    },
    {
     "name": "stderr",
     "output_type": "stream",
     "text": [
      "100%|██████████| 4/4 [00:03<00:00,  1.61it/s]"
     ]
    },
    {
     "name": "stdout",
     "output_type": "stream",
     "text": [
      "custom_task_head frozen\n"
     ]
    },
    {
     "name": "stderr",
     "output_type": "stream",
     "text": [
      "100%|██████████| 4/4 [00:04<00:00,  1.18s/it]\n"
     ]
    },
    {
     "name": "stdout",
     "output_type": "stream",
     "text": [
      "Score decreased (0.676289 --> 0.511812).  Saving model ./temp/gadformer_checkpoint.pt ...\n",
      "1 trn|vld|cp[0.56778|0.51181|0.51181] - best score: 0.51181 (1)\n"
     ]
    },
    {
     "name": "stderr",
     "output_type": "stream",
     "text": [
      "100%|██████████| 8/8 [00:05<00:00,  1.41it/s]\n",
      " 50%|█████     | 2/4 [00:04<00:03,  1.72s/it]"
     ]
    },
    {
     "name": "stdout",
     "output_type": "stream",
     "text": [
      "custom_task_head frozen\n",
      "custom_task_head frozen\n"
     ]
    },
    {
     "name": "stderr",
     "output_type": "stream",
     "text": [
      " 75%|███████▌  | 3/4 [00:04<00:00,  1.01it/s]"
     ]
    },
    {
     "name": "stdout",
     "output_type": "stream",
     "text": [
      "custom_task_head frozen\n"
     ]
    },
    {
     "name": "stderr",
     "output_type": "stream",
     "text": [
      "100%|██████████| 4/4 [00:04<00:00,  1.46it/s]"
     ]
    },
    {
     "name": "stdout",
     "output_type": "stream",
     "text": [
      "custom_task_head frozen\n"
     ]
    },
    {
     "name": "stderr",
     "output_type": "stream",
     "text": [
      "100%|██████████| 4/4 [00:05<00:00,  1.31s/it]\n"
     ]
    },
    {
     "name": "stdout",
     "output_type": "stream",
     "text": [
      "Score decreased (0.511812 --> 0.444026).  Saving model ./temp/gadformer_checkpoint.pt ...\n",
      "2 trn|vld|cp[0.42394|0.44403|0.44403] - best score: 0.44403 (2)\n"
     ]
    },
    {
     "name": "stderr",
     "output_type": "stream",
     "text": [
      "100%|██████████| 8/8 [00:06<00:00,  1.32it/s]\n",
      " 50%|█████     | 2/4 [00:02<00:02,  1.26s/it]"
     ]
    },
    {
     "name": "stdout",
     "output_type": "stream",
     "text": [
      "custom_task_head frozen\n",
      "custom_task_head frozen\n"
     ]
    },
    {
     "name": "stderr",
     "output_type": "stream",
     "text": [
      " 75%|███████▌  | 3/4 [00:03<00:00,  1.35it/s]"
     ]
    },
    {
     "name": "stdout",
     "output_type": "stream",
     "text": [
      "custom_task_head frozen\n"
     ]
    },
    {
     "name": "stderr",
     "output_type": "stream",
     "text": [
      "100%|██████████| 4/4 [00:03<00:00,  1.88it/s]"
     ]
    },
    {
     "name": "stdout",
     "output_type": "stream",
     "text": [
      "custom_task_head frozen\n"
     ]
    },
    {
     "name": "stderr",
     "output_type": "stream",
     "text": [
      "100%|██████████| 4/4 [00:04<00:00,  1.03s/it]\n"
     ]
    },
    {
     "name": "stdout",
     "output_type": "stream",
     "text": [
      "Score decreased (0.444026 --> 0.404308).  Saving model ./temp/gadformer_checkpoint.pt ...\n",
      "3 trn|vld|cp[0.35221|0.40431|0.40431] - best score: 0.40431 (3)\n"
     ]
    },
    {
     "name": "stderr",
     "output_type": "stream",
     "text": [
      "100%|██████████| 8/8 [00:05<00:00,  1.34it/s]\n",
      " 50%|█████     | 2/4 [00:03<00:02,  1.50s/it]"
     ]
    },
    {
     "name": "stdout",
     "output_type": "stream",
     "text": [
      "custom_task_head frozen\n",
      "custom_task_head frozen\n"
     ]
    },
    {
     "name": "stderr",
     "output_type": "stream",
     "text": [
      " 75%|███████▌  | 3/4 [00:03<00:00,  1.15it/s]"
     ]
    },
    {
     "name": "stdout",
     "output_type": "stream",
     "text": [
      "custom_task_head frozen\n"
     ]
    },
    {
     "name": "stderr",
     "output_type": "stream",
     "text": [
      "100%|██████████| 4/4 [00:03<00:00,  1.61it/s]"
     ]
    },
    {
     "name": "stdout",
     "output_type": "stream",
     "text": [
      "custom_task_head frozen\n"
     ]
    },
    {
     "name": "stderr",
     "output_type": "stream",
     "text": [
      "100%|██████████| 4/4 [00:04<00:00,  1.18s/it]\n"
     ]
    },
    {
     "name": "stdout",
     "output_type": "stream",
     "text": [
      "Score decreased (0.404308 --> 0.369624).  Saving model ./temp/gadformer_checkpoint.pt ...\n",
      "4 trn|vld|cp[0.29675|0.36962|0.36962] - best score: 0.36962 (4)\n"
     ]
    },
    {
     "name": "stderr",
     "output_type": "stream",
     "text": [
      "100%|██████████| 8/8 [00:05<00:00,  1.34it/s]\n",
      " 50%|█████     | 2/4 [00:03<00:02,  1.32s/it]"
     ]
    },
    {
     "name": "stdout",
     "output_type": "stream",
     "text": [
      "custom_task_head frozen\n",
      "custom_task_head frozen\n"
     ]
    },
    {
     "name": "stderr",
     "output_type": "stream",
     "text": [
      " 75%|███████▌  | 3/4 [00:03<00:00,  1.27it/s]"
     ]
    },
    {
     "name": "stdout",
     "output_type": "stream",
     "text": [
      "custom_task_head frozen\n"
     ]
    },
    {
     "name": "stderr",
     "output_type": "stream",
     "text": [
      "100%|██████████| 4/4 [00:03<00:00,  1.61it/s]"
     ]
    },
    {
     "name": "stdout",
     "output_type": "stream",
     "text": [
      "custom_task_head frozen\n"
     ]
    },
    {
     "name": "stderr",
     "output_type": "stream",
     "text": [
      "100%|██████████| 4/4 [00:04<00:00,  1.11s/it]\n"
     ]
    },
    {
     "name": "stdout",
     "output_type": "stream",
     "text": [
      "Score decreased (0.369624 --> 0.342779).  Saving model ./temp/gadformer_checkpoint.pt ...\n",
      "5 trn|vld|cp[0.24629|0.34278|0.34278] - best score: 0.34278 (5)\n"
     ]
    },
    {
     "name": "stderr",
     "output_type": "stream",
     "text": [
      "100%|██████████| 8/8 [00:06<00:00,  1.28it/s]\n",
      " 50%|█████     | 2/4 [00:03<00:02,  1.50s/it]"
     ]
    },
    {
     "name": "stdout",
     "output_type": "stream",
     "text": [
      "custom_task_head frozen\n",
      "custom_task_head frozen\n"
     ]
    },
    {
     "name": "stderr",
     "output_type": "stream",
     "text": [
      " 75%|███████▌  | 3/4 [00:03<00:00,  1.15it/s]"
     ]
    },
    {
     "name": "stdout",
     "output_type": "stream",
     "text": [
      "custom_task_head frozen\n"
     ]
    },
    {
     "name": "stderr",
     "output_type": "stream",
     "text": [
      "100%|██████████| 4/4 [00:03<00:00,  1.64it/s]"
     ]
    },
    {
     "name": "stdout",
     "output_type": "stream",
     "text": [
      "custom_task_head frozen\n"
     ]
    },
    {
     "name": "stderr",
     "output_type": "stream",
     "text": [
      "100%|██████████| 4/4 [00:04<00:00,  1.17s/it]\n"
     ]
    },
    {
     "name": "stdout",
     "output_type": "stream",
     "text": [
      "Score decreased (0.342779 --> 0.321154).  Saving model ./temp/gadformer_checkpoint.pt ...\n",
      "6 trn|vld|cp[0.20049|0.32115|0.32115] - best score: 0.32115 (6)\n"
     ]
    },
    {
     "name": "stderr",
     "output_type": "stream",
     "text": [
      "100%|██████████| 8/8 [00:06<00:00,  1.25it/s]\n",
      " 50%|█████     | 2/4 [00:03<00:02,  1.40s/it]"
     ]
    },
    {
     "name": "stdout",
     "output_type": "stream",
     "text": [
      "custom_task_head frozen\n",
      "custom_task_head frozen\n"
     ]
    },
    {
     "name": "stderr",
     "output_type": "stream",
     "text": [
      "100%|██████████| 4/4 [00:03<00:00,  1.76it/s]"
     ]
    },
    {
     "name": "stdout",
     "output_type": "stream",
     "text": [
      "custom_task_head frozen\n",
      "custom_task_head frozen\n"
     ]
    },
    {
     "name": "stderr",
     "output_type": "stream",
     "text": [
      "100%|██████████| 4/4 [00:04<00:00,  1.11s/it]\n"
     ]
    },
    {
     "name": "stdout",
     "output_type": "stream",
     "text": [
      "Score decreased (0.321154 --> 0.307176).  Saving model ./temp/gadformer_checkpoint.pt ...\n",
      "7 trn|vld|cp[0.1593|0.30718|0.30718] - best score: 0.30718 (7)\n"
     ]
    },
    {
     "name": "stderr",
     "output_type": "stream",
     "text": [
      "100%|██████████| 8/8 [00:05<00:00,  1.36it/s]\n",
      " 50%|█████     | 2/4 [00:02<00:02,  1.23s/it]"
     ]
    },
    {
     "name": "stdout",
     "output_type": "stream",
     "text": [
      "custom_task_head frozen\n",
      "custom_task_head frozen\n"
     ]
    },
    {
     "name": "stderr",
     "output_type": "stream",
     "text": [
      "100%|██████████| 4/4 [00:03<00:00,  2.02it/s]"
     ]
    },
    {
     "name": "stdout",
     "output_type": "stream",
     "text": [
      "custom_task_head frozen\n",
      "custom_task_head frozen\n"
     ]
    },
    {
     "name": "stderr",
     "output_type": "stream",
     "text": [
      "100%|██████████| 4/4 [00:03<00:00,  1.02it/s]\n"
     ]
    },
    {
     "name": "stdout",
     "output_type": "stream",
     "text": [
      "Score decreased (0.307176 --> 0.300328).  Saving model ./temp/gadformer_checkpoint.pt ...\n",
      "8 trn|vld|cp[0.12316|0.30033|0.30033] - best score: 0.30033 (8)\n"
     ]
    },
    {
     "name": "stderr",
     "output_type": "stream",
     "text": [
      "100%|██████████| 8/8 [00:06<00:00,  1.32it/s]\n",
      " 50%|█████     | 2/4 [00:03<00:02,  1.36s/it]"
     ]
    },
    {
     "name": "stdout",
     "output_type": "stream",
     "text": [
      "custom_task_head frozen\n",
      "custom_task_head frozen\n"
     ]
    },
    {
     "name": "stderr",
     "output_type": "stream",
     "text": [
      "100%|██████████| 4/4 [00:03<00:00,  1.80it/s]"
     ]
    },
    {
     "name": "stdout",
     "output_type": "stream",
     "text": [
      "custom_task_head frozen\n",
      "custom_task_head frozen\n"
     ]
    },
    {
     "name": "stderr",
     "output_type": "stream",
     "text": [
      "100%|██████████| 4/4 [00:04<00:00,  1.08s/it]\n"
     ]
    },
    {
     "name": "stdout",
     "output_type": "stream",
     "text": [
      "EarlyStopping counter: 1 out of 5\n",
      "9 trn|vld|cp[0.09294|0.30169|0.30169] - best score: 0.30033 (8)\n",
      "Epoch 00010: reducing learning rate of group 0 to 1.0000e-04.\n"
     ]
    },
    {
     "name": "stderr",
     "output_type": "stream",
     "text": [
      "100%|██████████| 8/8 [00:06<00:00,  1.30it/s]\n",
      "100%|██████████| 4/4 [00:04<00:00,  1.09s/it]\n"
     ]
    },
    {
     "name": "stdout",
     "output_type": "stream",
     "text": [
      "EarlyStopping counter: 2 out of 5\n",
      "10 trn|vld|cp[0.07735|0.3022|0.3022] - best score: 0.30033 (8)\n",
      "Epoch 00011: reducing learning rate of group 0 to 1.0000e-05.\n"
     ]
    },
    {
     "name": "stderr",
     "output_type": "stream",
     "text": [
      "100%|██████████| 8/8 [00:06<00:00,  1.28it/s]\n",
      "100%|██████████| 4/4 [00:04<00:00,  1.07s/it]\n"
     ]
    },
    {
     "name": "stdout",
     "output_type": "stream",
     "text": [
      "EarlyStopping counter: 3 out of 5\n",
      "11 trn|vld|cp[0.07595|0.30225|0.30225] - best score: 0.30033 (8)\n",
      "Epoch 00012: reducing learning rate of group 0 to 1.0000e-06.\n"
     ]
    },
    {
     "name": "stderr",
     "output_type": "stream",
     "text": [
      "100%|██████████| 8/8 [00:06<00:00,  1.20it/s]\n",
      "100%|██████████| 4/4 [00:04<00:00,  1.04s/it]\n"
     ]
    },
    {
     "name": "stdout",
     "output_type": "stream",
     "text": [
      "EarlyStopping counter: 4 out of 5\n",
      "12 trn|vld|cp[0.07581|0.30226|0.30226] - best score: 0.30033 (8)\n"
     ]
    },
    {
     "name": "stderr",
     "output_type": "stream",
     "text": [
      "100%|██████████| 8/8 [00:05<00:00,  1.35it/s]\n",
      "100%|██████████| 4/4 [00:04<00:00,  1.19s/it]\n"
     ]
    },
    {
     "name": "stdout",
     "output_type": "stream",
     "text": [
      "EarlyStopping counter: 5 out of 5\n",
      "13 trn|vld|cp[0.07579|0.30226|0.30226] - best score: 0.30033 (8)\n",
      "Early Stop!\n"
     ]
    },
    {
     "name": "stderr",
     "output_type": "stream",
     "text": [
      "100%|██████████| 2/2 [00:03<00:00,  2.00s/it]\n"
     ]
    },
    {
     "name": "stdout",
     "output_type": "stream",
     "text": [
      " ################ SEED 6: AUROC: 0.98168 AUPRC: 0.9156 ################\n",
      " ################ SEED 7 ################\n",
      "\n",
      "-------------Creating *train* dataset from dataset file ./datasets/files_valid/Trajectorys2_72_2000_anom.csv -----\n",
      "\n",
      "        Step  Entity  X_Coord  Y_Coord  Label\n",
      "0          0       1      1.0     -1.0      0\n",
      "1          0       2      3.0      6.0      0\n",
      "2          0       3      3.0     -4.0      0\n",
      "3          0       4      1.0      3.0      0\n",
      "4          0       5      1.0      1.0      0\n",
      "...      ...     ...      ...      ...    ...\n",
      "143995    71    1996    148.0     73.0      0\n",
      "143996    71    1997    156.0     44.0      0\n",
      "143997    71    1998    145.0     48.0      0\n",
      "143998    71    1999    147.0     87.0      0\n",
      "143999    71    2000    158.0     97.0      0\n",
      "\n",
      "[144000 rows x 5 columns]\n",
      "trajectory length: 72, abnormal trajectories: 188/2000\n",
      "\n",
      "-------------Creating *valid* dataset from dataset file ./datasets/files_valid/Trajectorys2_72_1000_anom.csv -----\n",
      "\n",
      "       Step  Entity  X_Coord  Y_Coord  Label\n",
      "0         0       1      3.0      5.0      0\n",
      "1         0       2      2.0      4.0      0\n",
      "2         0       3      3.0     -3.0      0\n",
      "3         0       4      3.0      7.0      0\n",
      "4         0       5      3.0      6.0      0\n",
      "...     ...     ...      ...      ...    ...\n",
      "71995    71     996    163.0     66.0      0\n",
      "71996    71     997    154.0     74.0      0\n",
      "71997    71     998    153.0     81.0      0\n",
      "71998    71     999    141.0     82.0      0\n",
      "71999    71    1000    148.0     75.0      0\n",
      "\n",
      "[72000 rows x 5 columns]\n",
      "trajectory length: 72, abnormal trajectories: 92/1000\n",
      "\n",
      "-------------Creating *test* dataset from dataset file ./datasets/files_valid/Trajectorys2_72_400_anom.csv -----\n",
      "\n",
      "       Step  Entity  X_Coord  Y_Coord  Label\n",
      "0         0       1      1.0     -4.0      0\n",
      "1         0       2      3.0      5.0      0\n",
      "2         0       3      3.0      2.0      0\n",
      "3         0       4      1.0     -4.0      0\n",
      "4         0       5      1.0     -4.0      0\n",
      "...     ...     ...      ...      ...    ...\n",
      "28795    71     396    142.0    125.0      0\n",
      "28796    71     397    148.0     26.0      0\n",
      "28797    71     398    102.0     97.0      1\n",
      "28798    71     399    146.0    116.0      0\n",
      "28799    71     400    138.0     35.0      0\n",
      "\n",
      "[28800 rows x 5 columns]\n",
      "trajectory length: 72, abnormal trajectories: 37/400\n"
     ]
    },
    {
     "name": "stderr",
     "output_type": "stream",
     "text": [
      "100%|██████████| 8/8 [00:05<00:00,  1.36it/s]\n",
      " 50%|█████     | 2/4 [00:04<00:03,  1.82s/it]"
     ]
    },
    {
     "name": "stdout",
     "output_type": "stream",
     "text": [
      "custom_task_head frozen\n",
      "custom_task_head frozen\n"
     ]
    },
    {
     "name": "stderr",
     "output_type": "stream",
     "text": [
      " 75%|███████▌  | 3/4 [00:04<00:01,  1.06s/it]"
     ]
    },
    {
     "name": "stdout",
     "output_type": "stream",
     "text": [
      "custom_task_head frozen\n"
     ]
    },
    {
     "name": "stderr",
     "output_type": "stream",
     "text": [
      "100%|██████████| 4/4 [00:04<00:00,  1.34it/s]"
     ]
    },
    {
     "name": "stdout",
     "output_type": "stream",
     "text": [
      "custom_task_head frozen\n"
     ]
    },
    {
     "name": "stderr",
     "output_type": "stream",
     "text": [
      "100%|██████████| 4/4 [00:05<00:00,  1.39s/it]\n"
     ]
    },
    {
     "name": "stdout",
     "output_type": "stream",
     "text": [
      "Score decreased (inf --> 0.644716).  Saving model ./temp/gadformer_checkpoint.pt ...\n",
      "0 trn|vld|cp[0.69467|0.64472|0.64472] - best score: 0.64472 (0)\n"
     ]
    },
    {
     "name": "stderr",
     "output_type": "stream",
     "text": [
      "100%|██████████| 8/8 [00:05<00:00,  1.34it/s]\n",
      " 50%|█████     | 2/4 [00:02<00:02,  1.20s/it]"
     ]
    },
    {
     "name": "stdout",
     "output_type": "stream",
     "text": [
      "custom_task_head frozen\n",
      "custom_task_head frozen\n"
     ]
    },
    {
     "name": "stderr",
     "output_type": "stream",
     "text": [
      "100%|██████████| 4/4 [00:03<00:00,  1.99it/s]"
     ]
    },
    {
     "name": "stdout",
     "output_type": "stream",
     "text": [
      "custom_task_head frozen\n",
      "custom_task_head frozen\n"
     ]
    },
    {
     "name": "stderr",
     "output_type": "stream",
     "text": [
      "100%|██████████| 4/4 [00:03<00:00,  1.02it/s]\n"
     ]
    },
    {
     "name": "stdout",
     "output_type": "stream",
     "text": [
      "Score decreased (0.644716 --> 0.533932).  Saving model ./temp/gadformer_checkpoint.pt ...\n",
      "1 trn|vld|cp[0.5706|0.53393|0.53393] - best score: 0.53393 (1)\n"
     ]
    },
    {
     "name": "stderr",
     "output_type": "stream",
     "text": [
      "100%|██████████| 8/8 [00:05<00:00,  1.45it/s]\n",
      " 50%|█████     | 2/4 [00:03<00:02,  1.37s/it]"
     ]
    },
    {
     "name": "stdout",
     "output_type": "stream",
     "text": [
      "custom_task_head frozen\n",
      "custom_task_head frozen\n"
     ]
    },
    {
     "name": "stderr",
     "output_type": "stream",
     "text": [
      " 75%|███████▌  | 3/4 [00:03<00:00,  1.25it/s]"
     ]
    },
    {
     "name": "stdout",
     "output_type": "stream",
     "text": [
      "custom_task_head frozen\n"
     ]
    },
    {
     "name": "stderr",
     "output_type": "stream",
     "text": [
      "100%|██████████| 4/4 [00:03<00:00,  1.71it/s]"
     ]
    },
    {
     "name": "stdout",
     "output_type": "stream",
     "text": [
      "custom_task_head frozen\n"
     ]
    },
    {
     "name": "stderr",
     "output_type": "stream",
     "text": [
      "100%|██████████| 4/4 [00:04<00:00,  1.11s/it]\n"
     ]
    },
    {
     "name": "stdout",
     "output_type": "stream",
     "text": [
      "Score decreased (0.533932 --> 0.469934).  Saving model ./temp/gadformer_checkpoint.pt ...\n",
      "2 trn|vld|cp[0.45667|0.46993|0.46993] - best score: 0.46993 (2)\n"
     ]
    },
    {
     "name": "stderr",
     "output_type": "stream",
     "text": [
      "100%|██████████| 8/8 [00:05<00:00,  1.38it/s]\n",
      " 50%|█████     | 2/4 [00:03<00:02,  1.42s/it]"
     ]
    },
    {
     "name": "stdout",
     "output_type": "stream",
     "text": [
      "custom_task_head frozen\n",
      "custom_task_head frozen\n"
     ]
    },
    {
     "name": "stderr",
     "output_type": "stream",
     "text": [
      " 75%|███████▌  | 3/4 [00:03<00:00,  1.21it/s]"
     ]
    },
    {
     "name": "stdout",
     "output_type": "stream",
     "text": [
      "custom_task_head frozen\n"
     ]
    },
    {
     "name": "stderr",
     "output_type": "stream",
     "text": [
      "100%|██████████| 4/4 [00:03<00:00,  1.70it/s]"
     ]
    },
    {
     "name": "stdout",
     "output_type": "stream",
     "text": [
      "custom_task_head frozen\n"
     ]
    },
    {
     "name": "stderr",
     "output_type": "stream",
     "text": [
      "100%|██████████| 4/4 [00:04<00:00,  1.14s/it]\n"
     ]
    },
    {
     "name": "stdout",
     "output_type": "stream",
     "text": [
      "Score decreased (0.469934 --> 0.424574).  Saving model ./temp/gadformer_checkpoint.pt ...\n",
      "3 trn|vld|cp[0.38197|0.42457|0.42457] - best score: 0.42457 (3)\n"
     ]
    },
    {
     "name": "stderr",
     "output_type": "stream",
     "text": [
      "100%|██████████| 8/8 [00:06<00:00,  1.25it/s]\n",
      " 50%|█████     | 2/4 [00:03<00:02,  1.45s/it]"
     ]
    },
    {
     "name": "stdout",
     "output_type": "stream",
     "text": [
      "custom_task_head frozen\n",
      "custom_task_head frozen\n"
     ]
    },
    {
     "name": "stderr",
     "output_type": "stream",
     "text": [
      " 75%|███████▌  | 3/4 [00:03<00:00,  1.18it/s]"
     ]
    },
    {
     "name": "stdout",
     "output_type": "stream",
     "text": [
      "custom_task_head frozen\n"
     ]
    },
    {
     "name": "stderr",
     "output_type": "stream",
     "text": [
      "100%|██████████| 4/4 [00:03<00:00,  1.68it/s]"
     ]
    },
    {
     "name": "stdout",
     "output_type": "stream",
     "text": [
      "custom_task_head frozen\n"
     ]
    },
    {
     "name": "stderr",
     "output_type": "stream",
     "text": [
      "100%|██████████| 4/4 [00:04<00:00,  1.11s/it]\n"
     ]
    },
    {
     "name": "stdout",
     "output_type": "stream",
     "text": [
      "Score decreased (0.424574 --> 0.386800).  Saving model ./temp/gadformer_checkpoint.pt ...\n",
      "4 trn|vld|cp[0.32358|0.3868|0.3868] - best score: 0.3868 (4)\n"
     ]
    },
    {
     "name": "stderr",
     "output_type": "stream",
     "text": [
      "100%|██████████| 8/8 [00:05<00:00,  1.34it/s]\n",
      " 50%|█████     | 2/4 [00:03<00:02,  1.43s/it]"
     ]
    },
    {
     "name": "stdout",
     "output_type": "stream",
     "text": [
      "custom_task_head frozen\n",
      "custom_task_head frozen\n"
     ]
    },
    {
     "name": "stderr",
     "output_type": "stream",
     "text": [
      " 75%|███████▌  | 3/4 [00:03<00:00,  1.20it/s]"
     ]
    },
    {
     "name": "stdout",
     "output_type": "stream",
     "text": [
      "custom_task_head frozen\n"
     ]
    },
    {
     "name": "stderr",
     "output_type": "stream",
     "text": [
      "100%|██████████| 4/4 [00:03<00:00,  1.64it/s]"
     ]
    },
    {
     "name": "stdout",
     "output_type": "stream",
     "text": [
      "custom_task_head frozen\n"
     ]
    },
    {
     "name": "stderr",
     "output_type": "stream",
     "text": [
      "100%|██████████| 4/4 [00:04<00:00,  1.14s/it]\n"
     ]
    },
    {
     "name": "stdout",
     "output_type": "stream",
     "text": [
      "Score decreased (0.386800 --> 0.354660).  Saving model ./temp/gadformer_checkpoint.pt ...\n",
      "5 trn|vld|cp[0.26972|0.35466|0.35466] - best score: 0.35466 (5)\n"
     ]
    },
    {
     "name": "stderr",
     "output_type": "stream",
     "text": [
      "100%|██████████| 8/8 [00:06<00:00,  1.24it/s]\n",
      " 50%|█████     | 2/4 [00:03<00:02,  1.31s/it]"
     ]
    },
    {
     "name": "stdout",
     "output_type": "stream",
     "text": [
      "custom_task_head frozen\n",
      "custom_task_head frozen\n"
     ]
    },
    {
     "name": "stderr",
     "output_type": "stream",
     "text": [
      "100%|██████████| 4/4 [00:03<00:00,  1.84it/s]"
     ]
    },
    {
     "name": "stdout",
     "output_type": "stream",
     "text": [
      "custom_task_head frozen\n",
      "custom_task_head frozen\n"
     ]
    },
    {
     "name": "stderr",
     "output_type": "stream",
     "text": [
      "100%|██████████| 4/4 [00:04<00:00,  1.05s/it]\n"
     ]
    },
    {
     "name": "stdout",
     "output_type": "stream",
     "text": [
      "Score decreased (0.354660 --> 0.330284).  Saving model ./temp/gadformer_checkpoint.pt ...\n",
      "6 trn|vld|cp[0.22106|0.33028|0.33028] - best score: 0.33028 (6)\n"
     ]
    },
    {
     "name": "stderr",
     "output_type": "stream",
     "text": [
      "100%|██████████| 8/8 [00:07<00:00,  1.11it/s]\n",
      " 50%|█████     | 2/4 [00:03<00:02,  1.38s/it]"
     ]
    },
    {
     "name": "stdout",
     "output_type": "stream",
     "text": [
      "custom_task_head frozen\n",
      "custom_task_head frozen\n"
     ]
    },
    {
     "name": "stderr",
     "output_type": "stream",
     "text": [
      " 75%|███████▌  | 3/4 [00:03<00:00,  1.22it/s]"
     ]
    },
    {
     "name": "stdout",
     "output_type": "stream",
     "text": [
      "custom_task_head frozen\n"
     ]
    },
    {
     "name": "stderr",
     "output_type": "stream",
     "text": [
      "100%|██████████| 4/4 [00:03<00:00,  1.71it/s]"
     ]
    },
    {
     "name": "stdout",
     "output_type": "stream",
     "text": [
      "custom_task_head frozen\n"
     ]
    },
    {
     "name": "stderr",
     "output_type": "stream",
     "text": [
      "100%|██████████| 4/4 [00:04<00:00,  1.11s/it]\n"
     ]
    },
    {
     "name": "stdout",
     "output_type": "stream",
     "text": [
      "Score decreased (0.330284 --> 0.314439).  Saving model ./temp/gadformer_checkpoint.pt ...\n",
      "7 trn|vld|cp[0.17612|0.31444|0.31444] - best score: 0.31444 (7)\n"
     ]
    },
    {
     "name": "stderr",
     "output_type": "stream",
     "text": [
      "100%|██████████| 8/8 [00:06<00:00,  1.29it/s]\n",
      " 50%|█████     | 2/4 [00:03<00:02,  1.32s/it]"
     ]
    },
    {
     "name": "stdout",
     "output_type": "stream",
     "text": [
      "custom_task_head frozen\n",
      "custom_task_head frozen\n"
     ]
    },
    {
     "name": "stderr",
     "output_type": "stream",
     "text": [
      "100%|██████████| 4/4 [00:03<00:00,  1.84it/s]"
     ]
    },
    {
     "name": "stdout",
     "output_type": "stream",
     "text": [
      "custom_task_head frozen\n",
      "custom_task_head frozen\n"
     ]
    },
    {
     "name": "stderr",
     "output_type": "stream",
     "text": [
      "100%|██████████| 4/4 [00:04<00:00,  1.07s/it]\n"
     ]
    },
    {
     "name": "stdout",
     "output_type": "stream",
     "text": [
      "Score decreased (0.314439 --> 0.304755).  Saving model ./temp/gadformer_checkpoint.pt ...\n",
      "8 trn|vld|cp[0.13566|0.30475|0.30475] - best score: 0.30475 (8)\n"
     ]
    },
    {
     "name": "stderr",
     "output_type": "stream",
     "text": [
      "100%|██████████| 8/8 [00:06<00:00,  1.26it/s]\n",
      " 25%|██▌       | 1/4 [00:02<00:08,  2.96s/it]"
     ]
    },
    {
     "name": "stdout",
     "output_type": "stream",
     "text": [
      "custom_task_head frozen\n"
     ]
    },
    {
     "name": "stderr",
     "output_type": "stream",
     "text": [
      " 75%|███████▌  | 3/4 [00:03<00:00,  1.25it/s]"
     ]
    },
    {
     "name": "stdout",
     "output_type": "stream",
     "text": [
      "custom_task_head frozen\n",
      "custom_task_head frozen\n"
     ]
    },
    {
     "name": "stderr",
     "output_type": "stream",
     "text": [
      "100%|██████████| 4/4 [00:03<00:00,  1.78it/s]"
     ]
    },
    {
     "name": "stdout",
     "output_type": "stream",
     "text": [
      "custom_task_head frozen\n"
     ]
    },
    {
     "name": "stderr",
     "output_type": "stream",
     "text": [
      "100%|██████████| 4/4 [00:04<00:00,  1.08s/it]\n"
     ]
    },
    {
     "name": "stdout",
     "output_type": "stream",
     "text": [
      "Score decreased (0.304755 --> 0.303614).  Saving model ./temp/gadformer_checkpoint.pt ...\n",
      "9 trn|vld|cp[0.10159|0.30361|0.30361] - best score: 0.30361 (9)\n"
     ]
    },
    {
     "name": "stderr",
     "output_type": "stream",
     "text": [
      "100%|██████████| 8/8 [00:06<00:00,  1.33it/s]\n",
      " 50%|█████     | 2/4 [00:03<00:03,  1.57s/it]"
     ]
    },
    {
     "name": "stdout",
     "output_type": "stream",
     "text": [
      "custom_task_head frozen\n",
      "custom_task_head frozen\n"
     ]
    },
    {
     "name": "stderr",
     "output_type": "stream",
     "text": [
      "100%|██████████| 4/4 [00:04<00:00,  1.61it/s]"
     ]
    },
    {
     "name": "stdout",
     "output_type": "stream",
     "text": [
      "custom_task_head frozen\n",
      "custom_task_head frozen\n"
     ]
    },
    {
     "name": "stderr",
     "output_type": "stream",
     "text": [
      "100%|██████████| 4/4 [00:04<00:00,  1.19s/it]\n"
     ]
    },
    {
     "name": "stdout",
     "output_type": "stream",
     "text": [
      "EarlyStopping counter: 1 out of 5\n",
      "10 trn|vld|cp[0.07386|0.31104|0.31104] - best score: 0.30361 (9)\n",
      "Epoch 00011: reducing learning rate of group 0 to 1.0000e-04.\n"
     ]
    },
    {
     "name": "stderr",
     "output_type": "stream",
     "text": [
      "100%|██████████| 8/8 [00:06<00:00,  1.29it/s]\n",
      "100%|██████████| 4/4 [00:04<00:00,  1.14s/it]\n"
     ]
    },
    {
     "name": "stdout",
     "output_type": "stream",
     "text": [
      "EarlyStopping counter: 2 out of 5\n",
      "11 trn|vld|cp[0.06017|0.31234|0.31234] - best score: 0.30361 (9)\n",
      "Epoch 00012: reducing learning rate of group 0 to 1.0000e-05.\n"
     ]
    },
    {
     "name": "stderr",
     "output_type": "stream",
     "text": [
      "100%|██████████| 8/8 [00:05<00:00,  1.35it/s]\n",
      "100%|██████████| 4/4 [00:04<00:00,  1.15s/it]\n"
     ]
    },
    {
     "name": "stdout",
     "output_type": "stream",
     "text": [
      "EarlyStopping counter: 3 out of 5\n",
      "12 trn|vld|cp[0.05895|0.31247|0.31247] - best score: 0.30361 (9)\n",
      "Epoch 00013: reducing learning rate of group 0 to 1.0000e-06.\n"
     ]
    },
    {
     "name": "stderr",
     "output_type": "stream",
     "text": [
      "100%|██████████| 8/8 [00:06<00:00,  1.25it/s]\n",
      "100%|██████████| 4/4 [00:04<00:00,  1.08s/it]\n"
     ]
    },
    {
     "name": "stdout",
     "output_type": "stream",
     "text": [
      "EarlyStopping counter: 4 out of 5\n",
      "13 trn|vld|cp[0.05882|0.31248|0.31248] - best score: 0.30361 (9)\n"
     ]
    },
    {
     "name": "stderr",
     "output_type": "stream",
     "text": [
      "100%|██████████| 8/8 [00:06<00:00,  1.30it/s]\n",
      "100%|██████████| 4/4 [00:04<00:00,  1.05s/it]\n"
     ]
    },
    {
     "name": "stdout",
     "output_type": "stream",
     "text": [
      "EarlyStopping counter: 5 out of 5\n",
      "14 trn|vld|cp[0.0588|0.31249|0.31249] - best score: 0.30361 (9)\n",
      "Early Stop!\n"
     ]
    },
    {
     "name": "stderr",
     "output_type": "stream",
     "text": [
      "100%|██████████| 2/2 [00:04<00:00,  2.00s/it]\n"
     ]
    },
    {
     "name": "stdout",
     "output_type": "stream",
     "text": [
      " ################ SEED 7: AUROC: 0.949 AUPRC: 0.83235 ################\n",
      " ################ SEED 8 ################\n",
      "\n",
      "-------------Creating *train* dataset from dataset file ./datasets/files_valid/Trajectorys2_72_2000_anom.csv -----\n",
      "\n",
      "        Step  Entity  X_Coord  Y_Coord  Label\n",
      "0          0       1      1.0     -1.0      0\n",
      "1          0       2      3.0      6.0      0\n",
      "2          0       3      3.0     -4.0      0\n",
      "3          0       4      1.0      3.0      0\n",
      "4          0       5      1.0      1.0      0\n",
      "...      ...     ...      ...      ...    ...\n",
      "143995    71    1996    148.0     73.0      0\n",
      "143996    71    1997    156.0     44.0      0\n",
      "143997    71    1998    145.0     48.0      0\n",
      "143998    71    1999    147.0     87.0      0\n",
      "143999    71    2000    158.0     97.0      0\n",
      "\n",
      "[144000 rows x 5 columns]\n",
      "trajectory length: 72, abnormal trajectories: 188/2000\n",
      "\n",
      "-------------Creating *valid* dataset from dataset file ./datasets/files_valid/Trajectorys2_72_1000_anom.csv -----\n",
      "\n",
      "       Step  Entity  X_Coord  Y_Coord  Label\n",
      "0         0       1      3.0      5.0      0\n",
      "1         0       2      2.0      4.0      0\n",
      "2         0       3      3.0     -3.0      0\n",
      "3         0       4      3.0      7.0      0\n",
      "4         0       5      3.0      6.0      0\n",
      "...     ...     ...      ...      ...    ...\n",
      "71995    71     996    163.0     66.0      0\n",
      "71996    71     997    154.0     74.0      0\n",
      "71997    71     998    153.0     81.0      0\n",
      "71998    71     999    141.0     82.0      0\n",
      "71999    71    1000    148.0     75.0      0\n",
      "\n",
      "[72000 rows x 5 columns]\n",
      "trajectory length: 72, abnormal trajectories: 92/1000\n",
      "\n",
      "-------------Creating *test* dataset from dataset file ./datasets/files_valid/Trajectorys2_72_400_anom.csv -----\n",
      "\n",
      "       Step  Entity  X_Coord  Y_Coord  Label\n",
      "0         0       1      1.0     -4.0      0\n",
      "1         0       2      3.0      5.0      0\n",
      "2         0       3      3.0      2.0      0\n",
      "3         0       4      1.0     -4.0      0\n",
      "4         0       5      1.0     -4.0      0\n",
      "...     ...     ...      ...      ...    ...\n",
      "28795    71     396    142.0    125.0      0\n",
      "28796    71     397    148.0     26.0      0\n",
      "28797    71     398    102.0     97.0      1\n",
      "28798    71     399    146.0    116.0      0\n",
      "28799    71     400    138.0     35.0      0\n",
      "\n",
      "[28800 rows x 5 columns]\n",
      "trajectory length: 72, abnormal trajectories: 37/400\n"
     ]
    },
    {
     "name": "stderr",
     "output_type": "stream",
     "text": [
      "100%|██████████| 8/8 [00:06<00:00,  1.28it/s]\n",
      " 50%|█████     | 2/4 [00:03<00:02,  1.42s/it]"
     ]
    },
    {
     "name": "stdout",
     "output_type": "stream",
     "text": [
      "custom_task_head frozen\n",
      "custom_task_head frozen\n"
     ]
    },
    {
     "name": "stderr",
     "output_type": "stream",
     "text": [
      " 75%|███████▌  | 3/4 [00:03<00:00,  1.20it/s]"
     ]
    },
    {
     "name": "stdout",
     "output_type": "stream",
     "text": [
      "custom_task_head frozen\n"
     ]
    },
    {
     "name": "stderr",
     "output_type": "stream",
     "text": [
      "100%|██████████| 4/4 [00:03<00:00,  1.69it/s]"
     ]
    },
    {
     "name": "stdout",
     "output_type": "stream",
     "text": [
      "custom_task_head frozen\n"
     ]
    },
    {
     "name": "stderr",
     "output_type": "stream",
     "text": [
      "100%|██████████| 4/4 [00:04<00:00,  1.14s/it]\n"
     ]
    },
    {
     "name": "stdout",
     "output_type": "stream",
     "text": [
      "Score decreased (inf --> 0.661817).  Saving model ./temp/gadformer_checkpoint.pt ...\n",
      "0 trn|vld|cp[0.71412|0.66182|0.66182] - best score: 0.66182 (0)\n"
     ]
    },
    {
     "name": "stderr",
     "output_type": "stream",
     "text": [
      "100%|██████████| 8/8 [00:06<00:00,  1.30it/s]\n",
      " 50%|█████     | 2/4 [00:03<00:03,  1.65s/it]"
     ]
    },
    {
     "name": "stdout",
     "output_type": "stream",
     "text": [
      "custom_task_head frozen\n",
      "custom_task_head frozen\n"
     ]
    },
    {
     "name": "stderr",
     "output_type": "stream",
     "text": [
      " 75%|███████▌  | 3/4 [00:04<00:00,  1.04it/s]"
     ]
    },
    {
     "name": "stdout",
     "output_type": "stream",
     "text": [
      "custom_task_head frozen\n"
     ]
    },
    {
     "name": "stderr",
     "output_type": "stream",
     "text": [
      "100%|██████████| 4/4 [00:04<00:00,  1.48it/s]"
     ]
    },
    {
     "name": "stdout",
     "output_type": "stream",
     "text": [
      "custom_task_head frozen\n"
     ]
    },
    {
     "name": "stderr",
     "output_type": "stream",
     "text": [
      "100%|██████████| 4/4 [00:05<00:00,  1.29s/it]\n"
     ]
    },
    {
     "name": "stdout",
     "output_type": "stream",
     "text": [
      "Score decreased (0.661817 --> 0.548941).  Saving model ./temp/gadformer_checkpoint.pt ...\n",
      "1 trn|vld|cp[0.59433|0.54894|0.54894] - best score: 0.54894 (1)\n"
     ]
    },
    {
     "name": "stderr",
     "output_type": "stream",
     "text": [
      "100%|██████████| 8/8 [00:06<00:00,  1.29it/s]\n",
      " 50%|█████     | 2/4 [00:03<00:02,  1.33s/it]"
     ]
    },
    {
     "name": "stdout",
     "output_type": "stream",
     "text": [
      "custom_task_head frozen\n",
      "custom_task_head frozen\n"
     ]
    },
    {
     "name": "stderr",
     "output_type": "stream",
     "text": [
      " 75%|███████▌  | 3/4 [00:03<00:00,  1.27it/s]"
     ]
    },
    {
     "name": "stdout",
     "output_type": "stream",
     "text": [
      "custom_task_head frozen\n"
     ]
    },
    {
     "name": "stderr",
     "output_type": "stream",
     "text": [
      "100%|██████████| 4/4 [00:03<00:00,  1.78it/s]"
     ]
    },
    {
     "name": "stdout",
     "output_type": "stream",
     "text": [
      "custom_task_head frozen\n"
     ]
    },
    {
     "name": "stderr",
     "output_type": "stream",
     "text": [
      "100%|██████████| 4/4 [00:04<00:00,  1.08s/it]\n"
     ]
    },
    {
     "name": "stdout",
     "output_type": "stream",
     "text": [
      "Score decreased (0.548941 --> 0.464494).  Saving model ./temp/gadformer_checkpoint.pt ...\n",
      "2 trn|vld|cp[0.46795|0.46449|0.46449] - best score: 0.46449 (2)\n"
     ]
    },
    {
     "name": "stderr",
     "output_type": "stream",
     "text": [
      "100%|██████████| 8/8 [00:06<00:00,  1.32it/s]\n",
      " 50%|█████     | 2/4 [00:02<00:02,  1.25s/it]"
     ]
    },
    {
     "name": "stdout",
     "output_type": "stream",
     "text": [
      "custom_task_head frozen\n",
      "custom_task_head frozen\n"
     ]
    },
    {
     "name": "stderr",
     "output_type": "stream",
     "text": [
      " 75%|███████▌  | 3/4 [00:03<00:00,  1.36it/s]"
     ]
    },
    {
     "name": "stdout",
     "output_type": "stream",
     "text": [
      "custom_task_head frozen\n"
     ]
    },
    {
     "name": "stderr",
     "output_type": "stream",
     "text": [
      "100%|██████████| 4/4 [00:03<00:00,  1.85it/s]"
     ]
    },
    {
     "name": "stdout",
     "output_type": "stream",
     "text": [
      "custom_task_head frozen\n"
     ]
    },
    {
     "name": "stderr",
     "output_type": "stream",
     "text": [
      "100%|██████████| 4/4 [00:04<00:00,  1.04s/it]\n"
     ]
    },
    {
     "name": "stdout",
     "output_type": "stream",
     "text": [
      "Score decreased (0.464494 --> 0.411931).  Saving model ./temp/gadformer_checkpoint.pt ...\n",
      "3 trn|vld|cp[0.3739|0.41193|0.41193] - best score: 0.41193 (3)\n"
     ]
    },
    {
     "name": "stderr",
     "output_type": "stream",
     "text": [
      "100%|██████████| 8/8 [00:05<00:00,  1.42it/s]\n",
      " 50%|█████     | 2/4 [00:02<00:02,  1.26s/it]"
     ]
    },
    {
     "name": "stdout",
     "output_type": "stream",
     "text": [
      "custom_task_head frozen\n",
      "custom_task_head frozen\n"
     ]
    },
    {
     "name": "stderr",
     "output_type": "stream",
     "text": [
      " 75%|███████▌  | 3/4 [00:03<00:00,  1.35it/s]"
     ]
    },
    {
     "name": "stdout",
     "output_type": "stream",
     "text": [
      "custom_task_head frozen\n"
     ]
    },
    {
     "name": "stderr",
     "output_type": "stream",
     "text": [
      "100%|██████████| 4/4 [00:03<00:00,  1.87it/s]"
     ]
    },
    {
     "name": "stdout",
     "output_type": "stream",
     "text": [
      "custom_task_head frozen\n"
     ]
    },
    {
     "name": "stderr",
     "output_type": "stream",
     "text": [
      "100%|██████████| 4/4 [00:04<00:00,  1.04s/it]\n"
     ]
    },
    {
     "name": "stdout",
     "output_type": "stream",
     "text": [
      "Score decreased (0.411931 --> 0.375448).  Saving model ./temp/gadformer_checkpoint.pt ...\n",
      "4 trn|vld|cp[0.31268|0.37545|0.37545] - best score: 0.37545 (4)\n"
     ]
    },
    {
     "name": "stderr",
     "output_type": "stream",
     "text": [
      "100%|██████████| 8/8 [00:06<00:00,  1.27it/s]\n",
      " 50%|█████     | 2/4 [00:04<00:03,  1.68s/it]"
     ]
    },
    {
     "name": "stdout",
     "output_type": "stream",
     "text": [
      "custom_task_head frozen\n",
      "custom_task_head frozen\n"
     ]
    },
    {
     "name": "stderr",
     "output_type": "stream",
     "text": [
      " 75%|███████▌  | 3/4 [00:04<00:00,  1.02it/s]"
     ]
    },
    {
     "name": "stdout",
     "output_type": "stream",
     "text": [
      "custom_task_head frozen\n"
     ]
    },
    {
     "name": "stderr",
     "output_type": "stream",
     "text": [
      "100%|██████████| 4/4 [00:04<00:00,  1.47it/s]"
     ]
    },
    {
     "name": "stdout",
     "output_type": "stream",
     "text": [
      "custom_task_head frozen\n"
     ]
    },
    {
     "name": "stderr",
     "output_type": "stream",
     "text": [
      "100%|██████████| 4/4 [00:05<00:00,  1.29s/it]\n"
     ]
    },
    {
     "name": "stdout",
     "output_type": "stream",
     "text": [
      "Score decreased (0.375448 --> 0.341518).  Saving model ./temp/gadformer_checkpoint.pt ...\n",
      "5 trn|vld|cp[0.25646|0.34152|0.34152] - best score: 0.34152 (5)\n"
     ]
    },
    {
     "name": "stderr",
     "output_type": "stream",
     "text": [
      "100%|██████████| 8/8 [00:06<00:00,  1.31it/s]\n",
      " 50%|█████     | 2/4 [00:02<00:02,  1.26s/it]"
     ]
    },
    {
     "name": "stdout",
     "output_type": "stream",
     "text": [
      "custom_task_head frozen\n",
      "custom_task_head frozen\n"
     ]
    },
    {
     "name": "stderr",
     "output_type": "stream",
     "text": [
      " 75%|███████▌  | 3/4 [00:03<00:00,  1.34it/s]"
     ]
    },
    {
     "name": "stdout",
     "output_type": "stream",
     "text": [
      "custom_task_head frozen\n"
     ]
    },
    {
     "name": "stderr",
     "output_type": "stream",
     "text": [
      "100%|██████████| 4/4 [00:03<00:00,  1.85it/s]"
     ]
    },
    {
     "name": "stdout",
     "output_type": "stream",
     "text": [
      "custom_task_head frozen\n"
     ]
    },
    {
     "name": "stderr",
     "output_type": "stream",
     "text": [
      "100%|██████████| 4/4 [00:04<00:00,  1.04s/it]\n"
     ]
    },
    {
     "name": "stdout",
     "output_type": "stream",
     "text": [
      "Score decreased (0.341518 --> 0.318854).  Saving model ./temp/gadformer_checkpoint.pt ...\n",
      "6 trn|vld|cp[0.20329|0.31885|0.31885] - best score: 0.31885 (6)\n"
     ]
    },
    {
     "name": "stderr",
     "output_type": "stream",
     "text": [
      "100%|██████████| 8/8 [00:06<00:00,  1.32it/s]\n",
      " 50%|█████     | 2/4 [00:02<00:02,  1.26s/it]"
     ]
    },
    {
     "name": "stdout",
     "output_type": "stream",
     "text": [
      "custom_task_head frozen\n",
      "custom_task_head frozen\n"
     ]
    },
    {
     "name": "stderr",
     "output_type": "stream",
     "text": [
      " 75%|███████▌  | 3/4 [00:03<00:00,  1.35it/s]"
     ]
    },
    {
     "name": "stdout",
     "output_type": "stream",
     "text": [
      "custom_task_head frozen\n"
     ]
    },
    {
     "name": "stderr",
     "output_type": "stream",
     "text": [
      "100%|██████████| 4/4 [00:03<00:00,  1.86it/s]"
     ]
    },
    {
     "name": "stdout",
     "output_type": "stream",
     "text": [
      "custom_task_head frozen\n"
     ]
    },
    {
     "name": "stderr",
     "output_type": "stream",
     "text": [
      "100%|██████████| 4/4 [00:04<00:00,  1.03s/it]\n"
     ]
    },
    {
     "name": "stdout",
     "output_type": "stream",
     "text": [
      "Score decreased (0.318854 --> 0.304055).  Saving model ./temp/gadformer_checkpoint.pt ...\n",
      "7 trn|vld|cp[0.15815|0.30406|0.30406] - best score: 0.30406 (7)\n"
     ]
    },
    {
     "name": "stderr",
     "output_type": "stream",
     "text": [
      "100%|██████████| 8/8 [00:06<00:00,  1.28it/s]\n",
      " 50%|█████     | 2/4 [00:03<00:02,  1.36s/it]"
     ]
    },
    {
     "name": "stdout",
     "output_type": "stream",
     "text": [
      "custom_task_head frozen\n",
      "custom_task_head frozen\n"
     ]
    },
    {
     "name": "stderr",
     "output_type": "stream",
     "text": [
      " 75%|███████▌  | 3/4 [00:03<00:00,  1.24it/s]"
     ]
    },
    {
     "name": "stdout",
     "output_type": "stream",
     "text": [
      "custom_task_head frozen\n"
     ]
    },
    {
     "name": "stderr",
     "output_type": "stream",
     "text": [
      "100%|██████████| 4/4 [00:03<00:00,  1.74it/s]"
     ]
    },
    {
     "name": "stdout",
     "output_type": "stream",
     "text": [
      "custom_task_head frozen\n"
     ]
    },
    {
     "name": "stderr",
     "output_type": "stream",
     "text": [
      "100%|██████████| 4/4 [00:04<00:00,  1.11s/it]\n"
     ]
    },
    {
     "name": "stdout",
     "output_type": "stream",
     "text": [
      "Score decreased (0.304055 --> 0.298087).  Saving model ./temp/gadformer_checkpoint.pt ...\n",
      "8 trn|vld|cp[0.12047|0.29809|0.29809] - best score: 0.29809 (8)\n"
     ]
    },
    {
     "name": "stderr",
     "output_type": "stream",
     "text": [
      "100%|██████████| 8/8 [00:06<00:00,  1.25it/s]\n",
      " 50%|█████     | 2/4 [00:03<00:02,  1.40s/it]"
     ]
    },
    {
     "name": "stdout",
     "output_type": "stream",
     "text": [
      "custom_task_head frozen\n",
      "custom_task_head frozen\n"
     ]
    },
    {
     "name": "stderr",
     "output_type": "stream",
     "text": [
      "100%|██████████| 4/4 [00:03<00:00,  1.78it/s]"
     ]
    },
    {
     "name": "stdout",
     "output_type": "stream",
     "text": [
      "custom_task_head frozen\n",
      "custom_task_head frozen\n"
     ]
    },
    {
     "name": "stderr",
     "output_type": "stream",
     "text": [
      "100%|██████████| 4/4 [00:04<00:00,  1.08s/it]\n"
     ]
    },
    {
     "name": "stdout",
     "output_type": "stream",
     "text": [
      "EarlyStopping counter: 1 out of 5\n",
      "9 trn|vld|cp[0.08993|0.30141|0.30141] - best score: 0.29809 (8)\n",
      "Epoch 00010: reducing learning rate of group 0 to 1.0000e-04.\n"
     ]
    },
    {
     "name": "stderr",
     "output_type": "stream",
     "text": [
      "100%|██████████| 8/8 [00:05<00:00,  1.36it/s]\n",
      "100%|██████████| 4/4 [00:04<00:00,  1.15s/it]\n"
     ]
    },
    {
     "name": "stdout",
     "output_type": "stream",
     "text": [
      "EarlyStopping counter: 2 out of 5\n",
      "10 trn|vld|cp[0.07429|0.30231|0.30231] - best score: 0.29809 (8)\n",
      "Epoch 00011: reducing learning rate of group 0 to 1.0000e-05.\n"
     ]
    },
    {
     "name": "stderr",
     "output_type": "stream",
     "text": [
      "100%|██████████| 8/8 [00:06<00:00,  1.25it/s]\n",
      "100%|██████████| 4/4 [00:04<00:00,  1.12s/it]\n"
     ]
    },
    {
     "name": "stdout",
     "output_type": "stream",
     "text": [
      "EarlyStopping counter: 3 out of 5\n",
      "11 trn|vld|cp[0.07284|0.30241|0.30241] - best score: 0.29809 (8)\n",
      "Epoch 00012: reducing learning rate of group 0 to 1.0000e-06.\n"
     ]
    },
    {
     "name": "stderr",
     "output_type": "stream",
     "text": [
      "100%|██████████| 8/8 [00:06<00:00,  1.23it/s]\n",
      "100%|██████████| 4/4 [00:04<00:00,  1.08s/it]\n"
     ]
    },
    {
     "name": "stdout",
     "output_type": "stream",
     "text": [
      "EarlyStopping counter: 4 out of 5\n",
      "12 trn|vld|cp[0.0727|0.30242|0.30242] - best score: 0.29809 (8)\n"
     ]
    },
    {
     "name": "stderr",
     "output_type": "stream",
     "text": [
      "100%|██████████| 8/8 [00:06<00:00,  1.28it/s]\n",
      "100%|██████████| 4/4 [00:04<00:00,  1.15s/it]\n"
     ]
    },
    {
     "name": "stdout",
     "output_type": "stream",
     "text": [
      "EarlyStopping counter: 5 out of 5\n",
      "13 trn|vld|cp[0.07268|0.30243|0.30243] - best score: 0.29809 (8)\n",
      "Early Stop!\n"
     ]
    },
    {
     "name": "stderr",
     "output_type": "stream",
     "text": [
      "100%|██████████| 2/2 [00:03<00:00,  1.89s/it]\n"
     ]
    },
    {
     "name": "stdout",
     "output_type": "stream",
     "text": [
      " ################ SEED 8: AUROC: 0.98451 AUPRC: 0.92751 ################\n",
      " ################ SEED 9 ################\n",
      "\n",
      "-------------Creating *train* dataset from dataset file ./datasets/files_valid/Trajectorys2_72_2000_anom.csv -----\n",
      "\n",
      "        Step  Entity  X_Coord  Y_Coord  Label\n",
      "0          0       1      1.0     -1.0      0\n",
      "1          0       2      3.0      6.0      0\n",
      "2          0       3      3.0     -4.0      0\n",
      "3          0       4      1.0      3.0      0\n",
      "4          0       5      1.0      1.0      0\n",
      "...      ...     ...      ...      ...    ...\n",
      "143995    71    1996    148.0     73.0      0\n",
      "143996    71    1997    156.0     44.0      0\n",
      "143997    71    1998    145.0     48.0      0\n",
      "143998    71    1999    147.0     87.0      0\n",
      "143999    71    2000    158.0     97.0      0\n",
      "\n",
      "[144000 rows x 5 columns]\n",
      "trajectory length: 72, abnormal trajectories: 188/2000\n",
      "\n",
      "-------------Creating *valid* dataset from dataset file ./datasets/files_valid/Trajectorys2_72_1000_anom.csv -----\n",
      "\n",
      "       Step  Entity  X_Coord  Y_Coord  Label\n",
      "0         0       1      3.0      5.0      0\n",
      "1         0       2      2.0      4.0      0\n",
      "2         0       3      3.0     -3.0      0\n",
      "3         0       4      3.0      7.0      0\n",
      "4         0       5      3.0      6.0      0\n",
      "...     ...     ...      ...      ...    ...\n",
      "71995    71     996    163.0     66.0      0\n",
      "71996    71     997    154.0     74.0      0\n",
      "71997    71     998    153.0     81.0      0\n",
      "71998    71     999    141.0     82.0      0\n",
      "71999    71    1000    148.0     75.0      0\n",
      "\n",
      "[72000 rows x 5 columns]\n",
      "trajectory length: 72, abnormal trajectories: 92/1000\n",
      "\n",
      "-------------Creating *test* dataset from dataset file ./datasets/files_valid/Trajectorys2_72_400_anom.csv -----\n",
      "\n",
      "       Step  Entity  X_Coord  Y_Coord  Label\n",
      "0         0       1      1.0     -4.0      0\n",
      "1         0       2      3.0      5.0      0\n",
      "2         0       3      3.0      2.0      0\n",
      "3         0       4      1.0     -4.0      0\n",
      "4         0       5      1.0     -4.0      0\n",
      "...     ...     ...      ...      ...    ...\n",
      "28795    71     396    142.0    125.0      0\n",
      "28796    71     397    148.0     26.0      0\n",
      "28797    71     398    102.0     97.0      1\n",
      "28798    71     399    146.0    116.0      0\n",
      "28799    71     400    138.0     35.0      0\n",
      "\n",
      "[28800 rows x 5 columns]\n",
      "trajectory length: 72, abnormal trajectories: 37/400\n"
     ]
    },
    {
     "name": "stderr",
     "output_type": "stream",
     "text": [
      "100%|██████████| 8/8 [00:06<00:00,  1.32it/s]\n",
      " 50%|█████     | 2/4 [00:03<00:03,  1.66s/it]"
     ]
    },
    {
     "name": "stdout",
     "output_type": "stream",
     "text": [
      "custom_task_head frozen\n",
      "custom_task_head frozen\n"
     ]
    },
    {
     "name": "stderr",
     "output_type": "stream",
     "text": [
      " 75%|███████▌  | 3/4 [00:04<00:00,  1.03it/s]"
     ]
    },
    {
     "name": "stdout",
     "output_type": "stream",
     "text": [
      "custom_task_head frozen\n"
     ]
    },
    {
     "name": "stderr",
     "output_type": "stream",
     "text": [
      "100%|██████████| 4/4 [00:04<00:00,  1.49it/s]"
     ]
    },
    {
     "name": "stdout",
     "output_type": "stream",
     "text": [
      "custom_task_head frozen\n"
     ]
    },
    {
     "name": "stderr",
     "output_type": "stream",
     "text": [
      "100%|██████████| 4/4 [00:05<00:00,  1.28s/it]\n"
     ]
    },
    {
     "name": "stdout",
     "output_type": "stream",
     "text": [
      "Score decreased (inf --> 0.660743).  Saving model ./temp/gadformer_checkpoint.pt ...\n",
      "0 trn|vld|cp[0.73778|0.66074|0.66074] - best score: 0.66074 (0)\n"
     ]
    },
    {
     "name": "stderr",
     "output_type": "stream",
     "text": [
      "100%|██████████| 8/8 [00:06<00:00,  1.29it/s]\n",
      " 50%|█████     | 2/4 [00:03<00:02,  1.42s/it]"
     ]
    },
    {
     "name": "stdout",
     "output_type": "stream",
     "text": [
      "custom_task_head frozen\n",
      "custom_task_head frozen\n"
     ]
    },
    {
     "name": "stderr",
     "output_type": "stream",
     "text": [
      " 75%|███████▌  | 3/4 [00:03<00:00,  1.19it/s]"
     ]
    },
    {
     "name": "stdout",
     "output_type": "stream",
     "text": [
      "custom_task_head frozen\n"
     ]
    },
    {
     "name": "stderr",
     "output_type": "stream",
     "text": [
      "100%|██████████| 4/4 [00:03<00:00,  1.64it/s]"
     ]
    },
    {
     "name": "stdout",
     "output_type": "stream",
     "text": [
      "custom_task_head frozen\n"
     ]
    },
    {
     "name": "stderr",
     "output_type": "stream",
     "text": [
      "100%|██████████| 4/4 [00:04<00:00,  1.14s/it]\n"
     ]
    },
    {
     "name": "stdout",
     "output_type": "stream",
     "text": [
      "Score decreased (0.660743 --> 0.514385).  Saving model ./temp/gadformer_checkpoint.pt ...\n",
      "1 trn|vld|cp[0.56926|0.51438|0.51438] - best score: 0.51438 (1)\n"
     ]
    },
    {
     "name": "stderr",
     "output_type": "stream",
     "text": [
      "100%|██████████| 8/8 [00:06<00:00,  1.29it/s]\n",
      " 50%|█████     | 2/4 [00:03<00:02,  1.41s/it]"
     ]
    },
    {
     "name": "stdout",
     "output_type": "stream",
     "text": [
      "custom_task_head frozen\n",
      "custom_task_head frozen\n"
     ]
    },
    {
     "name": "stderr",
     "output_type": "stream",
     "text": [
      " 75%|███████▌  | 3/4 [00:03<00:00,  1.22it/s]"
     ]
    },
    {
     "name": "stdout",
     "output_type": "stream",
     "text": [
      "custom_task_head frozen\n"
     ]
    },
    {
     "name": "stderr",
     "output_type": "stream",
     "text": [
      "100%|██████████| 4/4 [00:03<00:00,  1.70it/s]"
     ]
    },
    {
     "name": "stdout",
     "output_type": "stream",
     "text": [
      "custom_task_head frozen\n"
     ]
    },
    {
     "name": "stderr",
     "output_type": "stream",
     "text": [
      "100%|██████████| 4/4 [00:04<00:00,  1.12s/it]\n"
     ]
    },
    {
     "name": "stdout",
     "output_type": "stream",
     "text": [
      "Score decreased (0.514385 --> 0.436809).  Saving model ./temp/gadformer_checkpoint.pt ...\n",
      "2 trn|vld|cp[0.41704|0.43681|0.43681] - best score: 0.43681 (2)\n"
     ]
    },
    {
     "name": "stderr",
     "output_type": "stream",
     "text": [
      "100%|██████████| 8/8 [00:06<00:00,  1.33it/s]\n",
      " 50%|█████     | 2/4 [00:02<00:02,  1.24s/it]"
     ]
    },
    {
     "name": "stdout",
     "output_type": "stream",
     "text": [
      "custom_task_head frozen\n",
      "custom_task_head frozen\n"
     ]
    },
    {
     "name": "stderr",
     "output_type": "stream",
     "text": [
      " 75%|███████▌  | 3/4 [00:03<00:00,  1.35it/s]"
     ]
    },
    {
     "name": "stdout",
     "output_type": "stream",
     "text": [
      "custom_task_head frozen\n"
     ]
    },
    {
     "name": "stderr",
     "output_type": "stream",
     "text": [
      "100%|██████████| 4/4 [00:03<00:00,  1.89it/s]"
     ]
    },
    {
     "name": "stdout",
     "output_type": "stream",
     "text": [
      "custom_task_head frozen\n"
     ]
    },
    {
     "name": "stderr",
     "output_type": "stream",
     "text": [
      "100%|██████████| 4/4 [00:04<00:00,  1.02s/it]\n"
     ]
    },
    {
     "name": "stdout",
     "output_type": "stream",
     "text": [
      "Score decreased (0.436809 --> 0.399985).  Saving model ./temp/gadformer_checkpoint.pt ...\n",
      "3 trn|vld|cp[0.33812|0.39999|0.39999] - best score: 0.39999 (3)\n"
     ]
    },
    {
     "name": "stderr",
     "output_type": "stream",
     "text": [
      "100%|██████████| 8/8 [00:06<00:00,  1.19it/s]\n",
      " 50%|█████     | 2/4 [00:03<00:02,  1.42s/it]"
     ]
    },
    {
     "name": "stdout",
     "output_type": "stream",
     "text": [
      "custom_task_head frozen\n",
      "custom_task_head frozen\n"
     ]
    },
    {
     "name": "stderr",
     "output_type": "stream",
     "text": [
      " 75%|███████▌  | 3/4 [00:03<00:00,  1.20it/s]"
     ]
    },
    {
     "name": "stdout",
     "output_type": "stream",
     "text": [
      "custom_task_head frozen\n"
     ]
    },
    {
     "name": "stderr",
     "output_type": "stream",
     "text": [
      "100%|██████████| 4/4 [00:03<00:00,  1.67it/s]"
     ]
    },
    {
     "name": "stdout",
     "output_type": "stream",
     "text": [
      "custom_task_head frozen\n"
     ]
    },
    {
     "name": "stderr",
     "output_type": "stream",
     "text": [
      "100%|██████████| 4/4 [00:04<00:00,  1.14s/it]\n"
     ]
    },
    {
     "name": "stdout",
     "output_type": "stream",
     "text": [
      "Score decreased (0.399985 --> 0.367058).  Saving model ./temp/gadformer_checkpoint.pt ...\n",
      "4 trn|vld|cp[0.28802|0.36706|0.36706] - best score: 0.36706 (4)\n"
     ]
    },
    {
     "name": "stderr",
     "output_type": "stream",
     "text": [
      "100%|██████████| 8/8 [00:05<00:00,  1.34it/s]\n",
      " 25%|██▌       | 1/4 [00:03<00:10,  3.44s/it]"
     ]
    },
    {
     "name": "stdout",
     "output_type": "stream",
     "text": [
      "custom_task_head frozen\n"
     ]
    },
    {
     "name": "stderr",
     "output_type": "stream",
     "text": [
      " 75%|███████▌  | 3/4 [00:03<00:00,  1.12it/s]"
     ]
    },
    {
     "name": "stdout",
     "output_type": "stream",
     "text": [
      "custom_task_head frozen\n",
      "custom_task_head frozen\n"
     ]
    },
    {
     "name": "stderr",
     "output_type": "stream",
     "text": [
      "100%|██████████| 4/4 [00:03<00:00,  1.62it/s]"
     ]
    },
    {
     "name": "stdout",
     "output_type": "stream",
     "text": [
      "custom_task_head frozen\n"
     ]
    },
    {
     "name": "stderr",
     "output_type": "stream",
     "text": [
      "100%|██████████| 4/4 [00:04<00:00,  1.18s/it]\n"
     ]
    },
    {
     "name": "stdout",
     "output_type": "stream",
     "text": [
      "Score decreased (0.367058 --> 0.338196).  Saving model ./temp/gadformer_checkpoint.pt ...\n",
      "5 trn|vld|cp[0.23894|0.3382|0.3382] - best score: 0.3382 (5)\n"
     ]
    },
    {
     "name": "stderr",
     "output_type": "stream",
     "text": [
      "100%|██████████| 8/8 [00:06<00:00,  1.23it/s]\n",
      " 50%|█████     | 2/4 [00:03<00:02,  1.41s/it]"
     ]
    },
    {
     "name": "stdout",
     "output_type": "stream",
     "text": [
      "custom_task_head frozen\n",
      "custom_task_head frozen\n"
     ]
    },
    {
     "name": "stderr",
     "output_type": "stream",
     "text": [
      " 75%|███████▌  | 3/4 [00:03<00:00,  1.21it/s]"
     ]
    },
    {
     "name": "stdout",
     "output_type": "stream",
     "text": [
      "custom_task_head frozen\n"
     ]
    },
    {
     "name": "stderr",
     "output_type": "stream",
     "text": [
      "100%|██████████| 4/4 [00:03<00:00,  1.66it/s]"
     ]
    },
    {
     "name": "stdout",
     "output_type": "stream",
     "text": [
      "custom_task_head frozen\n"
     ]
    },
    {
     "name": "stderr",
     "output_type": "stream",
     "text": [
      "100%|██████████| 4/4 [00:04<00:00,  1.13s/it]\n"
     ]
    },
    {
     "name": "stdout",
     "output_type": "stream",
     "text": [
      "Score decreased (0.338196 --> 0.313580).  Saving model ./temp/gadformer_checkpoint.pt ...\n",
      "6 trn|vld|cp[0.19197|0.31358|0.31358] - best score: 0.31358 (6)\n"
     ]
    },
    {
     "name": "stderr",
     "output_type": "stream",
     "text": [
      "100%|██████████| 8/8 [00:06<00:00,  1.20it/s]\n",
      " 50%|█████     | 2/4 [00:02<00:02,  1.26s/it]"
     ]
    },
    {
     "name": "stdout",
     "output_type": "stream",
     "text": [
      "custom_task_head frozen\n",
      "custom_task_head frozen\n"
     ]
    },
    {
     "name": "stderr",
     "output_type": "stream",
     "text": [
      "100%|██████████| 4/4 [00:03<00:00,  1.91it/s]"
     ]
    },
    {
     "name": "stdout",
     "output_type": "stream",
     "text": [
      "custom_task_head frozen\n",
      "custom_task_head frozen\n"
     ]
    },
    {
     "name": "stderr",
     "output_type": "stream",
     "text": [
      "100%|██████████| 4/4 [00:04<00:00,  1.02s/it]\n"
     ]
    },
    {
     "name": "stdout",
     "output_type": "stream",
     "text": [
      "Score decreased (0.313580 --> 0.299710).  Saving model ./temp/gadformer_checkpoint.pt ...\n",
      "7 trn|vld|cp[0.14892|0.29971|0.29971] - best score: 0.29971 (7)\n"
     ]
    },
    {
     "name": "stderr",
     "output_type": "stream",
     "text": [
      "100%|██████████| 8/8 [00:06<00:00,  1.31it/s]\n",
      " 50%|█████     | 2/4 [00:03<00:02,  1.36s/it]"
     ]
    },
    {
     "name": "stdout",
     "output_type": "stream",
     "text": [
      "custom_task_head frozen\n",
      "custom_task_head frozen\n"
     ]
    },
    {
     "name": "stderr",
     "output_type": "stream",
     "text": [
      " 75%|███████▌  | 3/4 [00:03<00:00,  1.25it/s]"
     ]
    },
    {
     "name": "stdout",
     "output_type": "stream",
     "text": [
      "custom_task_head frozen\n"
     ]
    },
    {
     "name": "stderr",
     "output_type": "stream",
     "text": [
      "100%|██████████| 4/4 [00:03<00:00,  1.77it/s]"
     ]
    },
    {
     "name": "stdout",
     "output_type": "stream",
     "text": [
      "custom_task_head frozen\n"
     ]
    },
    {
     "name": "stderr",
     "output_type": "stream",
     "text": [
      "100%|██████████| 4/4 [00:04<00:00,  1.07s/it]\n"
     ]
    },
    {
     "name": "stdout",
     "output_type": "stream",
     "text": [
      "Score decreased (0.299710 --> 0.296165).  Saving model ./temp/gadformer_checkpoint.pt ...\n",
      "8 trn|vld|cp[0.1127|0.29617|0.29617] - best score: 0.29617 (8)\n"
     ]
    },
    {
     "name": "stderr",
     "output_type": "stream",
     "text": [
      "100%|██████████| 8/8 [00:05<00:00,  1.40it/s]\n",
      " 50%|█████     | 2/4 [00:03<00:02,  1.36s/it]"
     ]
    },
    {
     "name": "stdout",
     "output_type": "stream",
     "text": [
      "custom_task_head frozen\n",
      "custom_task_head frozen\n"
     ]
    },
    {
     "name": "stderr",
     "output_type": "stream",
     "text": [
      "100%|██████████| 4/4 [00:03<00:00,  1.80it/s]"
     ]
    },
    {
     "name": "stdout",
     "output_type": "stream",
     "text": [
      "custom_task_head frozen\n",
      "custom_task_head frozen\n"
     ]
    },
    {
     "name": "stderr",
     "output_type": "stream",
     "text": [
      "100%|██████████| 4/4 [00:04<00:00,  1.09s/it]\n"
     ]
    },
    {
     "name": "stdout",
     "output_type": "stream",
     "text": [
      "EarlyStopping counter: 1 out of 5\n",
      "9 trn|vld|cp[0.08311|0.30136|0.30136] - best score: 0.29617 (8)\n",
      "Epoch 00010: reducing learning rate of group 0 to 1.0000e-04.\n"
     ]
    },
    {
     "name": "stderr",
     "output_type": "stream",
     "text": [
      "100%|██████████| 8/8 [00:06<00:00,  1.22it/s]\n",
      "100%|██████████| 4/4 [00:05<00:00,  1.35s/it]\n"
     ]
    },
    {
     "name": "stdout",
     "output_type": "stream",
     "text": [
      "EarlyStopping counter: 2 out of 5\n",
      "10 trn|vld|cp[0.06823|0.30257|0.30257] - best score: 0.29617 (8)\n",
      "Epoch 00011: reducing learning rate of group 0 to 1.0000e-05.\n"
     ]
    },
    {
     "name": "stderr",
     "output_type": "stream",
     "text": [
      "100%|██████████| 8/8 [00:06<00:00,  1.31it/s]\n",
      "100%|██████████| 4/4 [00:04<00:00,  1.05s/it]\n"
     ]
    },
    {
     "name": "stdout",
     "output_type": "stream",
     "text": [
      "EarlyStopping counter: 3 out of 5\n",
      "11 trn|vld|cp[0.06692|0.3027|0.3027] - best score: 0.29617 (8)\n",
      "Epoch 00012: reducing learning rate of group 0 to 1.0000e-06.\n"
     ]
    },
    {
     "name": "stderr",
     "output_type": "stream",
     "text": [
      "100%|██████████| 8/8 [00:06<00:00,  1.24it/s]\n",
      "100%|██████████| 4/4 [00:04<00:00,  1.07s/it]\n"
     ]
    },
    {
     "name": "stdout",
     "output_type": "stream",
     "text": [
      "EarlyStopping counter: 4 out of 5\n",
      "12 trn|vld|cp[0.06679|0.30271|0.30271] - best score: 0.29617 (8)\n"
     ]
    },
    {
     "name": "stderr",
     "output_type": "stream",
     "text": [
      "100%|██████████| 8/8 [00:06<00:00,  1.24it/s]\n",
      "100%|██████████| 4/4 [00:04<00:00,  1.04s/it]\n"
     ]
    },
    {
     "name": "stdout",
     "output_type": "stream",
     "text": [
      "EarlyStopping counter: 5 out of 5\n",
      "13 trn|vld|cp[0.06676|0.30273|0.30273] - best score: 0.29617 (8)\n",
      "Early Stop!\n"
     ]
    },
    {
     "name": "stderr",
     "output_type": "stream",
     "text": [
      "100%|██████████| 2/2 [00:04<00:00,  2.12s/it]"
     ]
    },
    {
     "name": "stdout",
     "output_type": "stream",
     "text": [
      " ################ SEED 9: AUROC: 0.97997 AUPRC: 0.91387 ################\n",
      "AVG AUROC: 0.94935+-0.033 AVG AUPRC: 0.81178+-0.104\n"
     ]
    },
    {
     "name": "stderr",
     "output_type": "stream",
     "text": [
      "\n"
     ]
    }
   ],
   "source": [
    "from torch.optim.lr_scheduler import ReduceLROnPlateau\n",
    "from torch.nn.utils import clip_grad_value_, clip_grad_norm_\n",
    "from utils import EarlyStopping\n",
    "from tqdm import tqdm\n",
    "import os\n",
    "from utils import seed_worker\n",
    "num_worker = os.cpu_count()-1\n",
    "\n",
    "from sklearn.metrics import roc_auc_score, average_precision_score\n",
    "\n",
    "from loaddataset import TrajectoryDataset\n",
    "from torch.utils.data import DataLoader\n",
    "from utils import seed_all\n",
    "import argparse\n",
    "\n",
    "traj_step_features=['X_Coord','Y_Coord']\n",
    "root_dir = './datasets/files_valid/'  # content is 'valid'\n",
    "ds_trn_id, ds_vld_id, ds_tst_id = 25, 22, 24 # unsupervised\n",
    "#ds_trn_id, ds_vld_id, ds_tst_id = 23, 22, 24 # semi-supervised\n",
    "dataset_name='trajectory'\n",
    "seq_len=(72,500)['bright' in dataset_name]\n",
    "\n",
    "model_path=\"./temp/\"\n",
    "model_name=\"gadformer_checkpoint.pt\"\n",
    "\n",
    "prec=5\n",
    "num_seeds = 10\n",
    "seed_performances = {'auroc': [], 'auprc': []}\n",
    "\n",
    "\n",
    "for seed in range(0, num_seeds):\n",
    "    \n",
    "    print(f\" ################ SEED {seed} ################\")\n",
    "    \n",
    "    seed_all(seed)\n",
    "\n",
    "    #bs=(256,25)['bright' in exp['setting']['ds']['dataset_name']]\n",
    "    bs=(256,25)['bright' in dataset_name]\n",
    "\n",
    "\n",
    "    args = argparse.Namespace(d_step_feat=len(traj_step_features), d_inp_size=72, d_model=72, d_inp_embed_size=8, d_ffn_embed_size=2048, num_heads=8, enc_layers=4, \n",
    "                              num_nonlinearity_layers=2, k=None, sc='standard', lr=1e-03, batch_size=bs, epochs=150, clip_value=None, pat_es=5, pat_sched=0, wd=0., \n",
    "                              min_lr=1e-6, drop=0., valid_loss_only=True, winit_orig=None, progressive_training=0, model_file_path=f\"{model_path}{model_name}\") # RAdam\n",
    "\n",
    "    model = GADFormer(d_step_feat=args.d_step_feat, d_inp_size=args.d_inp_size, d_inp_embed_size=args.d_inp_embed_size, d_ffn_embed_size=args.d_ffn_embed_size, \n",
    "                      num_heads=args.num_heads, num_layers=args.enc_layers, num_nonlinearity_layers=args.num_nonlinearity_layers, dropr=args.drop, save_attn=True, \n",
    "                      winit_orig=args.winit_orig, progressive_training=args.progressive_training)\n",
    "    \n",
    "    # todo: pat_sched=5, pat_es=20\n",
    "    # checkpoint_callback=ModelCheckpoint(save_weights_only=True, mode=\"min\", monitor=best_loss)\n",
    "    # earlystop_callback=EarlyStopping(monitor=\"val_loss\", patience=20, mode=\"min\")\n",
    "    # grad_clip_norm 5\n",
    "    # model = TrajectoryPredictor(max_iters=trainer.max_epochs * len(kwargs['train_loader']), **{i:kwargs[i] for i in kwargs if i not in kwargs_filters})\n",
    "    # heads=8, optim=RAdam\n",
    "    # #input_dim, model_dim, max_epochs, wd, heads, layers, cl (num_classes), dropout, lr, warmup, BS, BAS (model inspection only)\n",
    "    # semisup_config=  [72,model_dim=8,epochs=150,wd=1e-5,heads=8,layers=4,cl=1,dropout=0.0,lr=0.00001,lr=1e-5,warmup=150,BS=256,BAS_criteria ] #synthetic final config\n",
    "    # unsup_config  =  [72,model_dim=8,epochs=150,wd=1e-5,heads=8,layers=4,cl=1,dropout=0.0,lr=0.00001,lr=1e-5,warmup=150,BS=256,BAS_criteria ]   #synthetic final config\n",
    "    # originally d_k=model_dim=72\n",
    "    # sc='robust' (as in paper experiments)\n",
    "\n",
    "    ds_trn = TrajectoryDataset(root_dir, file_id=ds_trn_id, mode='train', sc=args.sc, submode='', traj_step_features=traj_step_features, k=None, seed=seed) #25\n",
    "    ds_vld = TrajectoryDataset(root_dir, file_id=ds_vld_id, mode='valid', sc=args.sc, submode='', traj_step_features=traj_step_features, k=None, seed=seed) #22\n",
    "    ds_tst = TrajectoryDataset(root_dir, file_id=ds_tst_id, mode='test', sc=args.sc, submode='', traj_step_features=traj_step_features, k=None, seed=seed) #24\n",
    "\n",
    "    dl_trn = DataLoader(ds_trn, batch_size=args.batch_size, shuffle=False, pin_memory=True, num_workers=num_worker, worker_init_fn=seed_worker)\n",
    "    dl_vld = DataLoader(ds_vld, batch_size=args.batch_size, shuffle=False, pin_memory=True, num_workers=num_worker, worker_init_fn=seed_worker)\n",
    "    dl_tst = DataLoader(ds_tst, batch_size=args.batch_size, shuffle=False, pin_memory=True, num_workers=num_worker, worker_init_fn=seed_worker)\n",
    "    \n",
    "    dict_hist = {\n",
    "        'trn': {'y_hat_scores': [], 'y_true': [], 'losses': []},\n",
    "        'vld': {'y_hat_scores': [], 'y_true': [], 'losses': [], 'auroc': [], 'auprc': []},\n",
    "        'tst': {'y_hat_scores': [], 'y_true': [], 'losses': [], 'auroc': [], 'auprc': []},\n",
    "        'cp': [], 'cp2': []\n",
    "    }\n",
    "\n",
    "    dict_hist = train_model(model, dl_trn, dl_vld, args, dict_hist)\n",
    "    dict_hist = test_model(model, dl_tst, args, dict_hist)\n",
    "    \n",
    "    seed_test_auroc = dict_hist['tst']['auroc'][-1]\n",
    "    seed_test_auprc = dict_hist['tst']['auprc'][-1]\n",
    "    \n",
    "    print(f\" ################ SEED {seed}: AUROC: {round(seed_test_auroc,prec)} AUPRC: {round(seed_test_auprc, prec)} ################\")\n",
    "    \n",
    "    seed_performances['auroc'].append(seed_test_auroc)\n",
    "    seed_performances['auprc'].append(seed_test_auprc)\n",
    "    \n",
    "avg_auroc = np.array(seed_performances['auroc']).mean()\n",
    "avg_auprc = np.array(seed_performances['auprc']).mean()\n",
    "std_auroc = np.array(seed_performances['auroc']).std()\n",
    "std_auprc = np.array(seed_performances['auprc']).std()\n",
    "\n",
    "print(f\"AVG AUROC: {round(avg_auroc,prec)}+-{round(std_auroc,3)} AVG AUPRC: {round(avg_auprc, prec)}+-{round(std_auprc,3)}\")"
   ]
  },
  {
   "cell_type": "code",
   "execution_count": 28,
   "id": "f5eca274",
   "metadata": {},
   "outputs": [
    {
     "name": "stdout",
     "output_type": "stream",
     "text": [
      "AVG AUROC: 0.94935+-0.033 AVG AUPRC: 0.81178+-0.104\n"
     ]
    }
   ],
   "source": [
    "prec=5\n",
    "print(f\"AVG AUROC: {round(avg_auroc,prec)}+-{round(std_auroc,3)} AVG AUPRC: {round(avg_auprc, prec)}+-{round(std_auprc,3)}\")"
   ]
  },
  {
   "cell_type": "code",
   "execution_count": null,
   "id": "ef26d750",
   "metadata": {},
   "outputs": [],
   "source": [
    "# U Synthetic Orig - AVG AUROC: 0.94935+-0.033 AVG AUPRC: 0.81178+-0.104"
   ]
  },
  {
   "cell_type": "code",
   "execution_count": 29,
   "id": "ac3ef6cb",
   "metadata": {},
   "outputs": [],
   "source": [
    "# U Synthetic Orig - AVG AUROC: 0.94935+-0.033 AVG AUPRC: 0.81178+-0.104\n",
    "# E Synthetic Orig - AVG AUROC: 0.98237+-0.02  AVG AUPRC: 0.93656+-0.053"
   ]
  },
  {
   "cell_type": "code",
   "execution_count": null,
   "id": "d60d33ce",
   "metadata": {},
   "outputs": [],
   "source": []
  },
  {
   "cell_type": "code",
   "execution_count": 30,
   "id": "739e6f30",
   "metadata": {},
   "outputs": [],
   "source": [
    "#xb, yb = next(iter(dl_vld))\n",
    "#pd.DataFrame(xb[2]).plot.scatter(x=0,y=1)"
   ]
  },
  {
   "cell_type": "code",
   "execution_count": null,
   "id": "4dcc6d7a",
   "metadata": {},
   "outputs": [],
   "source": []
  },
  {
   "cell_type": "code",
   "execution_count": 31,
   "id": "8f001654",
   "metadata": {},
   "outputs": [],
   "source": [
    "#len(dict_hist['trn']['y_hat_scores'][-1])"
   ]
  },
  {
   "cell_type": "code",
   "execution_count": null,
   "id": "4437b142",
   "metadata": {},
   "outputs": [],
   "source": []
  },
  {
   "cell_type": "code",
   "execution_count": 32,
   "id": "3b1dd386",
   "metadata": {},
   "outputs": [],
   "source": [
    "#best_epoch=early_stopping.val_loss_min_epoch\n",
    "#bidx=0\n",
    "#pd.DataFrame(model.energies['trn']['enc0'][best_epoch][bidx].flatten()).value_counts()"
   ]
  },
  {
   "cell_type": "code",
   "execution_count": 33,
   "id": "63da87f5",
   "metadata": {},
   "outputs": [],
   "source": [
    "#bidx=0\n",
    "#model.energies['trn']['enc0'].energies['o_mha0']  # dict_keys(['o_mha0', 'i_ffn0', 'o_ffn0', 'o_nrm0'])\n",
    "#print(pd.DataFrame(model.encoder[0].energies['vld']['o_mha0'][best_epoch][bidx].flatten()).value_counts())\n",
    "#print(pd.DataFrame(model.encoder[0].energies['vld']['i_ffn0'][best_epoch][bidx].flatten()).value_counts())"
   ]
  },
  {
   "cell_type": "code",
   "execution_count": null,
   "id": "49b73838",
   "metadata": {},
   "outputs": [],
   "source": []
  },
  {
   "cell_type": "code",
   "execution_count": 34,
   "id": "8a2fe1a3",
   "metadata": {},
   "outputs": [],
   "source": [
    "#pd.DataFrame(model.energies['vld']['x1'][0][1].flatten()).value_counts() #[0].squeeze(2).flatten()).value_counts()\n",
    "#pd.DataFrame(model.energies['vld']['enc1'][0][1].flatten()).value_counts() #[0].squeeze(2).flatten()).value_counts()"
   ]
  },
  {
   "cell_type": "code",
   "execution_count": 35,
   "id": "716f277b",
   "metadata": {},
   "outputs": [],
   "source": [
    "#pd.DataFrame(model.energies[-1].squeeze(2).flatten()).value_counts() #.plot(kind='hist')#.shape #.shape#.squeeze(0)#"
   ]
  },
  {
   "cell_type": "code",
   "execution_count": null,
   "id": "b68ebcd3",
   "metadata": {},
   "outputs": [],
   "source": []
  },
  {
   "cell_type": "code",
   "execution_count": 36,
   "id": "cbfd0656",
   "metadata": {},
   "outputs": [
    {
     "ename": "NameError",
     "evalue": "name 'early_stopping' is not defined",
     "output_type": "error",
     "traceback": [
      "\u001b[0;31m---------------------------------------------------------------------------\u001b[0m",
      "\u001b[0;31mNameError\u001b[0m                                 Traceback (most recent call last)",
      "\u001b[0;32m/tmp/ipykernel_729/1411315111.py\u001b[0m in \u001b[0;36m<module>\u001b[0;34m\u001b[0m\n\u001b[1;32m      1\u001b[0m \u001b[0myticks\u001b[0m\u001b[0;34m=\u001b[0m\u001b[0;32mNone\u001b[0m\u001b[0;34m\u001b[0m\u001b[0;34m\u001b[0m\u001b[0m\n\u001b[0;32m----> 2\u001b[0;31m \u001b[0mpd\u001b[0m\u001b[0;34m.\u001b[0m\u001b[0mDataFrame\u001b[0m\u001b[0;34m(\u001b[0m\u001b[0;34m{\u001b[0m\u001b[0;34m'cp'\u001b[0m\u001b[0;34m:\u001b[0m \u001b[0mdict_hist\u001b[0m\u001b[0;34m[\u001b[0m\u001b[0;34m'cp'\u001b[0m\u001b[0;34m]\u001b[0m\u001b[0;34m,\u001b[0m\u001b[0;34m'cp2'\u001b[0m\u001b[0;34m:\u001b[0m \u001b[0mdict_hist\u001b[0m\u001b[0;34m[\u001b[0m\u001b[0;34m'cp2'\u001b[0m\u001b[0;34m]\u001b[0m\u001b[0;34m}\u001b[0m\u001b[0;34m)\u001b[0m\u001b[0;34m.\u001b[0m\u001b[0mplot\u001b[0m\u001b[0;34m(\u001b[0m\u001b[0mtitle\u001b[0m\u001b[0;34m=\u001b[0m\u001b[0;34mf\"checkpoints ({early_stopping.val_loss_min_epoch} - seed: {seed})\"\u001b[0m\u001b[0;34m,\u001b[0m \u001b[0myticks\u001b[0m\u001b[0;34m=\u001b[0m\u001b[0myticks\u001b[0m\u001b[0;34m)\u001b[0m\u001b[0;34m\u001b[0m\u001b[0;34m\u001b[0m\u001b[0m\n\u001b[0m\u001b[1;32m      3\u001b[0m \u001b[0mpd\u001b[0m\u001b[0;34m.\u001b[0m\u001b[0mDataFrame\u001b[0m\u001b[0;34m(\u001b[0m\u001b[0;34m{\u001b[0m\u001b[0;34m'trn'\u001b[0m\u001b[0;34m:\u001b[0m \u001b[0mdict_hist\u001b[0m\u001b[0;34m[\u001b[0m\u001b[0;34m'trn'\u001b[0m\u001b[0;34m]\u001b[0m\u001b[0;34m[\u001b[0m\u001b[0;34m'losses'\u001b[0m\u001b[0;34m]\u001b[0m\u001b[0;34m,\u001b[0m \u001b[0;34m'vld'\u001b[0m\u001b[0;34m:\u001b[0m \u001b[0mdict_hist\u001b[0m\u001b[0;34m[\u001b[0m\u001b[0;34m'vld'\u001b[0m\u001b[0;34m]\u001b[0m\u001b[0;34m[\u001b[0m\u001b[0;34m'losses'\u001b[0m\u001b[0;34m]\u001b[0m\u001b[0;34m}\u001b[0m\u001b[0;34m)\u001b[0m\u001b[0;34m.\u001b[0m\u001b[0mplot\u001b[0m\u001b[0;34m(\u001b[0m\u001b[0mtitle\u001b[0m\u001b[0;34m=\u001b[0m\u001b[0;34mf\"losses ({early_stopping.val_loss_min_epoch} - seed: {seed})\"\u001b[0m\u001b[0;34m,\u001b[0m \u001b[0myticks\u001b[0m\u001b[0;34m=\u001b[0m\u001b[0myticks\u001b[0m\u001b[0;34m)\u001b[0m\u001b[0;34m\u001b[0m\u001b[0;34m\u001b[0m\u001b[0m\n\u001b[1;32m      4\u001b[0m \u001b[0mpd\u001b[0m\u001b[0;34m.\u001b[0m\u001b[0mDataFrame\u001b[0m\u001b[0;34m(\u001b[0m\u001b[0;34m{\u001b[0m\u001b[0;34m'auroc'\u001b[0m\u001b[0;34m:\u001b[0m \u001b[0mdict_hist\u001b[0m\u001b[0;34m[\u001b[0m\u001b[0;34m'vld'\u001b[0m\u001b[0;34m]\u001b[0m\u001b[0;34m[\u001b[0m\u001b[0;34m'auroc'\u001b[0m\u001b[0;34m]\u001b[0m\u001b[0;34m,\u001b[0m \u001b[0;34m'auprc'\u001b[0m\u001b[0;34m:\u001b[0m \u001b[0mdict_hist\u001b[0m\u001b[0;34m[\u001b[0m\u001b[0;34m'vld'\u001b[0m\u001b[0;34m]\u001b[0m\u001b[0;34m[\u001b[0m\u001b[0;34m'auprc'\u001b[0m\u001b[0;34m]\u001b[0m\u001b[0;34m}\u001b[0m\u001b[0;34m)\u001b[0m\u001b[0;34m.\u001b[0m\u001b[0mplot\u001b[0m\u001b[0;34m(\u001b[0m\u001b[0mtitle\u001b[0m\u001b[0;34m=\u001b[0m\u001b[0;34mf\"validation metrics ({early_stopping.val_loss_min_epoch} - seed: {seed})\"\u001b[0m\u001b[0;34m,\u001b[0m \u001b[0myticks\u001b[0m\u001b[0;34m=\u001b[0m\u001b[0myticks\u001b[0m\u001b[0;34m,\u001b[0m \u001b[0mylim\u001b[0m\u001b[0;34m=\u001b[0m\u001b[0;34m[\u001b[0m\u001b[0;36m0\u001b[0m\u001b[0;34m,\u001b[0m\u001b[0;36m1.01\u001b[0m\u001b[0;34m]\u001b[0m\u001b[0;34m)\u001b[0m\u001b[0;34m\u001b[0m\u001b[0;34m\u001b[0m\u001b[0m\n",
      "\u001b[0;31mNameError\u001b[0m: name 'early_stopping' is not defined"
     ]
    }
   ],
   "source": [
    "yticks=None\n",
    "pd.DataFrame({'cp': dict_hist['cp'],'cp2': dict_hist['cp2']}).plot(title=f\"checkpoints ({early_stopping.val_loss_min_epoch} - seed: {seed})\", yticks=yticks)\n",
    "pd.DataFrame({'trn': dict_hist['trn']['losses'], 'vld': dict_hist['vld']['losses']}).plot(title=f\"losses ({early_stopping.val_loss_min_epoch} - seed: {seed})\", yticks=yticks)\n",
    "pd.DataFrame({'auroc': dict_hist['vld']['auroc'], 'auprc': dict_hist['vld']['auprc']}).plot(title=f\"validation metrics ({early_stopping.val_loss_min_epoch} - seed: {seed})\", yticks=yticks, ylim=[0,1.01])"
   ]
  },
  {
   "cell_type": "code",
   "execution_count": null,
   "id": "bace73cb",
   "metadata": {},
   "outputs": [],
   "source": []
  },
  {
   "cell_type": "code",
   "execution_count": null,
   "id": "95c4bfbe",
   "metadata": {},
   "outputs": [],
   "source": [
    "len(dict_hist['trn']['y_hat_scores'][early_stopping.val_loss_min_epoch])"
   ]
  },
  {
   "cell_type": "code",
   "execution_count": null,
   "id": "c42c66eb",
   "metadata": {},
   "outputs": [],
   "source": [
    "pd.DataFrame(dict_hist['trn']['y_hat_scores'][early_stopping.val_loss_min_epoch]).plot(kind='hist')"
   ]
  },
  {
   "cell_type": "code",
   "execution_count": null,
   "id": "a93f997f",
   "metadata": {},
   "outputs": [],
   "source": [
    "pd.DataFrame(dict_hist['vld']['y_hat_scores'][early_stopping.val_loss_min_epoch]).plot(kind='hist')"
   ]
  },
  {
   "cell_type": "code",
   "execution_count": null,
   "id": "d12dd027",
   "metadata": {},
   "outputs": [],
   "source": [
    "auroc = dict_hist['vld']['auroc'][early_stopping.val_loss_min_epoch]\n",
    "auprc = dict_hist['vld']['auprc'][early_stopping.val_loss_min_epoch]\n",
    "print(f\"AUROC({early_stopping.val_loss_min_epoch}) {auroc} AUPRC({early_stopping.val_loss_min_epoch}) {auprc}\")"
   ]
  },
  {
   "cell_type": "code",
   "execution_count": null,
   "id": "99f8521d",
   "metadata": {},
   "outputs": [],
   "source": [
    "midxr = np.argmax(dict_hist['vld']['auroc'])\n",
    "midxp = np.argmax(dict_hist['vld']['auprc'])\n",
    "max_auroc = dict_hist['vld']['auroc'][midxr]\n",
    "max_auprc = dict_hist['vld']['auprc'][midxp]\n",
    "print(f\"max_auroc({midxr}) {max_auroc} max_auprc({midxp}) {max_auprc}\")"
   ]
  },
  {
   "cell_type": "code",
   "execution_count": null,
   "id": "6969b975",
   "metadata": {},
   "outputs": [],
   "source": [
    "auroc = dict_hist['tst']['auroc'][-1]\n",
    "auprc = dict_hist['tst']['auprc'][-1]\n",
    "print(f\"AUROC(TST) {auroc} AUPRC(TST) {auprc}\")"
   ]
  },
  {
   "cell_type": "code",
   "execution_count": null,
   "id": "2acf9adc",
   "metadata": {},
   "outputs": [],
   "source": [
    "#bidx=2\n",
    "#best_epoch=early_stopping.val_loss_min_epoch\n",
    "#pd.DataFrame(model.energies['vld']['enc0'][best_epoch][bidx].flatten()).value_counts()"
   ]
  },
  {
   "cell_type": "code",
   "execution_count": null,
   "id": "3098b55f",
   "metadata": {},
   "outputs": [],
   "source": [
    "#model.energies['vld']['enc0'][best_epoch]"
   ]
  },
  {
   "cell_type": "code",
   "execution_count": null,
   "id": "3631dda8",
   "metadata": {},
   "outputs": [],
   "source": [
    "#pd.DataFrame(dict_hist['vld']['losses']) #[early_stopping.val_loss_min_epoch]).plot(kind='hist')"
   ]
  },
  {
   "cell_type": "code",
   "execution_count": null,
   "id": "8ff88764",
   "metadata": {},
   "outputs": [],
   "source": []
  },
  {
   "cell_type": "code",
   "execution_count": null,
   "id": "5dc6f7e9",
   "metadata": {},
   "outputs": [],
   "source": [
    "def plot_attention_maps(input_data, attn_maps, idx=0):\n",
    "    \n",
    "    if type(attn_maps) == list:\n",
    "        attn_maps_ = [m[idx].detach().cpu().numpy() for m in attn_maps]\n",
    "    else:\n",
    "        attn_maps_ = [m.detach().cpu().numpy() for m in attn_maps]\n",
    "\n",
    "    # torch.Size([1, 8, 72, 72])\n",
    "    num_heads = attn_maps_[0].shape[0]\n",
    "    num_layers = len(attn_maps_)\n",
    "    seq_len = attn_maps_[0].shape[-1]\n",
    "    \n",
    "    print(f\"num_heads {num_heads} num_layers {num_layers} seq_len {seq_len}\")\n",
    "    \n",
    "    fig_size = 4 if num_heads == 1 else 3\n",
    "    fig, ax = plt.subplots(num_layers, num_heads, figsize=(num_heads * fig_size, num_layers * fig_size))\n",
    "    \n",
    "    if num_layers == 1:\n",
    "        ax = [ax]\n",
    "    if num_heads == 1:\n",
    "        ax = [[a] for a in ax]\n",
    "\n",
    "    for row in range(num_layers):\n",
    "        for column in range(num_heads):\n",
    "            ax[row][column].imshow(attn_maps_[row][column], origin=\"lower\", vmin=0)\n",
    "            ax[row][column].set_xlim([0,seq_len])\n",
    "            ax[row][column].set_ylim([0,seq_len])\n",
    "            ax[row][column].set_title(\"Layer %i, Head %i\" % (row + 1, column + 1))\n",
    "\n",
    "    fig.subplots_adjust(hspace=0.5)\n",
    "    plt.show()\n",
    "\n",
    "def show_attn_maps(model, sample_idx):\n",
    "    attn_maps=[]\n",
    "    for enc_layer in model.encoder:\n",
    "        attn_maps.append(np.array(enc_layer.attn)[:,sample_idx,:,:])\n",
    "    attn_maps_ = torch.tensor(np.array(attn_maps).reshape(model.num_layers, model.num_heads, model.d_k, model.d_k))\n",
    "    plot_attention_maps(None, attn_maps_)\n",
    "\n",
    "print(f\"anomalies: {torch.where(y==1)}\")\n",
    "sid=7\n",
    "show_attn_maps(model, sid)"
   ]
  },
  {
   "cell_type": "code",
   "execution_count": null,
   "id": "4c306f63",
   "metadata": {},
   "outputs": [],
   "source": []
  },
  {
   "cell_type": "code",
   "execution_count": null,
   "id": "2304bd01",
   "metadata": {},
   "outputs": [],
   "source": [
    "for a, b in model.named_parameters():\n",
    "    print(a)"
   ]
  },
  {
   "cell_type": "code",
   "execution_count": null,
   "id": "09cad7ab",
   "metadata": {},
   "outputs": [],
   "source": []
  },
  {
   "cell_type": "code",
   "execution_count": null,
   "id": "21f01470",
   "metadata": {},
   "outputs": [],
   "source": []
  },
  {
   "cell_type": "code",
   "execution_count": null,
   "id": "69c02b19",
   "metadata": {},
   "outputs": [],
   "source": [
    "from loaddataset import TrajectoryDataset\n",
    "from torch.utils.data import DataLoader\n",
    "import os\n",
    "dl_vld = DataLoader(ds_vld, batch_size=args.batch_size, shuffle=False, pin_memory=True, num_workers=os.cpu_count()-1, worker_init_fn=seed_worker)\n",
    "x, y = next(iter(dl_vld))\n",
    "\n",
    "model.to('cpu')\n",
    "\n",
    "sid=7\n",
    "pd.DataFrame(x[sid]).plot(x=0, y=1)\n",
    "xi = model.input_embedding(x.float())\n",
    "pd.DataFrame(xi[sid].detach().cpu().numpy()).plot()\n",
    "pd.DataFrame((xi.cpu() + model.positional_encoding(xi.cpu()))[sid].detach().cpu().numpy(), list(range(0,xi.shape[1]))).plot(ylim=[-2,2])"
   ]
  },
  {
   "cell_type": "code",
   "execution_count": null,
   "id": "d119c97c",
   "metadata": {},
   "outputs": [],
   "source": []
  },
  {
   "cell_type": "code",
   "execution_count": null,
   "id": "9e4fd7a0",
   "metadata": {},
   "outputs": [],
   "source": [
    "model.encoder[0].energies['vld'].keys()"
   ]
  },
  {
   "cell_type": "code",
   "execution_count": null,
   "id": "743e2206",
   "metadata": {},
   "outputs": [],
   "source": [
    "model.to('cpu')\n",
    "model.eval()\n",
    "\n",
    "x0 = model.input_embedding(x.float()).to('cpu')\n",
    "x1 = x0 + model.positional_encoding(x0).to('cpu') # + torch.Size([32, 1]) \n",
    "\n",
    "bidx=0\n",
    "ep=0\n",
    "model.encoder[0].forward(x1, ep, bidx)\n",
    "\n",
    "#pd.DataFrame() #[early_stopping.val_loss_min_epoch] # dict_keys(['o_mha0', 'i_ffn0', 'o_ffn0', 'o_nrm0'])\n",
    "pd.DataFrame(model.encoder[0].energies['vld']['o_mha0'][ep][bidx].flatten()).plot(kind='hist')"
   ]
  },
  {
   "cell_type": "code",
   "execution_count": null,
   "id": "69d353c2",
   "metadata": {},
   "outputs": [],
   "source": [
    "bidx=1\n",
    "pd.DataFrame(model.encoder[0].energies['vld']['i_ffn0'][ep][bidx].flatten()).plot(kind='hist')"
   ]
  },
  {
   "cell_type": "code",
   "execution_count": null,
   "id": "f048c6c1",
   "metadata": {},
   "outputs": [],
   "source": []
  },
  {
   "cell_type": "code",
   "execution_count": null,
   "id": "b874cc20",
   "metadata": {},
   "outputs": [],
   "source": []
  },
  {
   "cell_type": "code",
   "execution_count": null,
   "id": "57972f4a",
   "metadata": {},
   "outputs": [],
   "source": []
  },
  {
   "cell_type": "code",
   "execution_count": null,
   "id": "f1bd76d7",
   "metadata": {},
   "outputs": [],
   "source": [
    "from loaddataset import TrajectoryDataset\n",
    "from torch.utils.data import DataLoader\n",
    "import argparse\n",
    "\n",
    "traj_step_features=['X_Coord','Y_Coord']\n",
    "root_dir = './datasets/files_valid/'\n",
    "ds_trn_id, ds_vld_id, ds_tst_id = 25, 22, 24\n",
    "dataset_name='trajectory'\n",
    "seq_len=(72,500)['bright' in dataset_name]\n",
    "sc='robust'\n",
    "\n",
    "#bs=(256,25)['bright' in exp['setting']['ds']['dataset_name']]\n",
    "bs=(256,25)['bright' in dataset_name]\n",
    "\n",
    "\n",
    "args = argparse.Namespace(d_step_feat=len(traj_step_features), d_inp_size=72, d_inp_embed_size=1, d_k=72, d_ffn_embed_size=2048, num_heads=8, enc_layers=4, k=None, sc=sc, \n",
    "                          lr=1e-03, batch_size=bs, epochs=1, clip_value=5., pat_es=20, pat_sched=15, wd=0., min_lr=1e-6, drop=0.) #todo: dff_embed_size=2048, drop=0.01, 0.05, 0.1\n",
    "\n",
    "model = GADFormer(d_step_feat=args.d_step_feat, d_inp_size=args.d_inp_size, d_inp_embed_size=args.d_inp_embed_size, d_k=args.d_k, d_ffn_embed_size=args.d_ffn_embed_size, \n",
    "                  num_heads=args.num_heads, num_layers=args.enc_layers, dropr=args.drop, save_attn=True)\n",
    "\n",
    "ds_trn = TrajectoryDataset(root_dir, file_id=ds_trn_id, mode='train', sc=args.sc, submode='', traj_step_features=traj_step_features, k=None) #25\n",
    "ds_vld = TrajectoryDataset(root_dir, file_id=ds_vld_id, mode='valid', sc=args.sc, submode='', traj_step_features=traj_step_features, k=None) #22\n",
    "ds_tst = TrajectoryDataset(root_dir, file_id=ds_tst_id, mode='test', sc=args.sc, submode='', traj_step_features=traj_step_features, k=None) #24\n",
    "\n",
    "from loaddataset import TrajectoryDataset\n",
    "from torch.utils.data import DataLoader\n",
    "import os\n",
    "dl_vld = DataLoader(ds_vld, batch_size=args.batch_size, shuffle=False, pin_memory=True, num_workers=os.cpu_count()-1, worker_init_fn=seed_worker)\n",
    "x, y = next(iter(dl_vld))\n",
    "\n",
    "\n",
    "torch.where(y==1)\n",
    "#torch.where(y==1) # anomalies\n",
    "# (tensor([  7,  55,  57,  60,  73,  76,  80,  83,  94,  99, 105, 115, 117, 123,\n",
    "#         130, 131, 165, 178, 179, 184, 201, 207, 210, 211, 219, 224, 226, 231,\n",
    "#         241, 242, 245, 247, 250]),)\n",
    "\n",
    "sid=8\n",
    "pd.DataFrame(x[sid]).plot(x=0, y=1)\n",
    "\n",
    "xi = model.input_embedding(x.float())\n",
    "xi.shape\n",
    "\n",
    "pd.DataFrame(xi[sid].detach().cpu().numpy()).plot()\n",
    "\n",
    "pd.DataFrame((xi.cpu() + model.positional_encoding(xi.cpu()))[sid].detach().cpu().numpy(), list(range(0,xi.shape[1]))).plot(ylim=[-2,2])\n",
    "\n",
    "#dev=torch.device('cuda')\n",
    "#model.to(dev)\n",
    "#model.forward(x1.to(dev))\n",
    "#print(next(model.parameters()).device)\n",
    "#print(model.positional_encoding.pe.device)\n",
    "#for enc in model.encoder:\n",
    "#    print(\"---\")\n",
    "#    for mha in enc.mh_att.mha:\n",
    "#        print(mha.fc_qkv.weight.type())"
   ]
  },
  {
   "cell_type": "code",
   "execution_count": null,
   "id": "7b5948f2",
   "metadata": {},
   "outputs": [],
   "source": []
  },
  {
   "cell_type": "code",
   "execution_count": null,
   "id": "5a220e59",
   "metadata": {},
   "outputs": [],
   "source": []
  },
  {
   "cell_type": "code",
   "execution_count": null,
   "id": "ed9bd4eb",
   "metadata": {},
   "outputs": [],
   "source": [
    "import os\n",
    "from utils import seed_worker\n",
    "num_worker = os.cpu_count()-1\n",
    "device=torch.device('cuda')\n",
    "\n",
    "#loss_fn = nn.BCELoss() #F.binary_cross_entropy()\n",
    "\n",
    "dl_trn = DataLoader(ds_trn, batch_size=args.batch_size, shuffle=False, pin_memory=True, num_workers=num_worker, worker_init_fn=seed_worker) \n",
    "\n",
    "xa, _ = next(iter(dl_trn))\n",
    "\n",
    "model.train()\n",
    "model=model.to(device)\n",
    "xa = xa.float().to(device)\n",
    "\n",
    "y_hat_score = model.forward(xa, 0) # predicted probability for an abnormal group (0. = normal group)\n",
    "print(y_hat_score.shape)\n",
    "\n",
    "y_aux_labels = torch.zeros((xa.shape[0], 1)) # auxilary target label based on assumption of the majority of normal groups\n",
    "y_aux_labels = y_aux_labels.float().to(device)\n",
    "\n",
    "#loss = loss_fn(y_hat_score, y_aux_labels)\n",
    "loss = F.binary_cross_entropy(y_hat_score, y_aux_labels)\n",
    "\n",
    "loss.item()"
   ]
  },
  {
   "cell_type": "code",
   "execution_count": null,
   "id": "34d31c7e",
   "metadata": {},
   "outputs": [],
   "source": []
  }
 ],
 "metadata": {
  "kernelspec": {
   "display_name": "gad",
   "language": "python",
   "name": "gad"
  },
  "language_info": {
   "codemirror_mode": {
    "name": "ipython",
    "version": 3
   },
   "file_extension": ".py",
   "mimetype": "text/x-python",
   "name": "python",
   "nbconvert_exporter": "python",
   "pygments_lexer": "ipython3",
   "version": "3.8.10"
  }
 },
 "nbformat": 4,
 "nbformat_minor": 5
}
